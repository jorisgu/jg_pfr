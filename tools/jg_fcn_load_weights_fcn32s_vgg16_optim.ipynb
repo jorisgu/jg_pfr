{
 "cells": [
  {
   "cell_type": "code",
   "execution_count": 1,
   "metadata": {
    "collapsed": true
   },
   "outputs": [],
   "source": [
    "import caffe\n",
    "import numpy as np"
   ]
  },
  {
   "cell_type": "code",
   "execution_count": 2,
   "metadata": {
    "collapsed": true
   },
   "outputs": [],
   "source": [
    "IROSpath = '/home/jguerry/workspace/IROSmodels/'\n",
    "\n",
    "target_net_proto = '/home/jguerry/workspace/IROSmodels/fcn32s_optim/deploy_optim.prototxt'\n",
    "target_weights = '/home/jguerry/workspace/IROSmodels/fcn32s_optim/fcn32s_imagenet.caffemodel'\n",
    "\n",
    "source_net_proto = '/home/jguerry/workspace/caffemodels/vgg16/VGG_ILSVRC_16_layers_deploy.prototxt'\n",
    "source_weights = '/home/jguerry/workspace/caffemodels/vgg16/VGG_ILSVRC_16_layers.caffemodel'"
   ]
  },
  {
   "cell_type": "code",
   "execution_count": 3,
   "metadata": {
    "collapsed": true
   },
   "outputs": [],
   "source": [
    "def transfer(new_net, net, suffix=''):\n",
    "    # from fcn.berkeleyvision.org\n",
    "    for p in net.params:\n",
    "        #print \"Working on\", p, ':'\n",
    "        p_new = p + suffix\n",
    "        if p_new not in new_net.params:\n",
    "            print 'dropping', p\n",
    "            continue\n",
    "        for i in range(len(net.params[p])):\n",
    "            if i > (len(new_net.params[p_new]) - 1):\n",
    "                print 'dropping', p, i\n",
    "                break\n",
    "            if net.params[p][i].data.shape != new_net.params[p_new][i].data.shape:\n",
    "                print 'coercing', p, i, 'from', net.params[p][i].data.shape, 'to', new_net.params[p_new][i].data.shape\n",
    "            else:\n",
    "                print 'copying', p, ' -> ', p_new, i\n",
    "            new_net.params[p_new][i].data.flat = net.params[p][i].data.flat"
   ]
  },
  {
   "cell_type": "code",
   "execution_count": null,
   "metadata": {
    "collapsed": true
   },
   "outputs": [],
   "source": [
    "caffe_gpu = False\n",
    "if not caffe_gpu:\n",
    "    caffe.set_mode_cpu()\n",
    "else:\n",
    "    caffe.set_mode_gpu()\n",
    "    caffe.set_device(0);"
   ]
  },
  {
   "cell_type": "code",
   "execution_count": null,
   "metadata": {
    "collapsed": false
   },
   "outputs": [],
   "source": [
    "target_net = caffe.Net(target_net_proto, caffe.TEST)\n",
    "print \"net loaded\""
   ]
  },
  {
   "cell_type": "code",
   "execution_count": null,
   "metadata": {
    "collapsed": false,
    "scrolled": true
   },
   "outputs": [],
   "source": [
    "target_net_blobs = [(k, v.data.shape) for k, v in target_net.blobs.items()]\n",
    "print \"blob exported\""
   ]
  },
  {
   "cell_type": "code",
   "execution_count": null,
   "metadata": {
    "collapsed": false
   },
   "outputs": [],
   "source": [
    "target_net_layers = [(k, v[0].data.shape, v[1].data.shape) for k, v in target_net.params.items() if 'deconv' not in k]\n",
    "print \"layers exported\""
   ]
  },
  {
   "cell_type": "raw",
   "metadata": {
    "collapsed": false
   },
   "source": [
    "print\"~~~~~~~~~~~~~~~~~~~~~~~~~~~~~~~~~~~~~~~~~~~~~~~~~~~~~~~~~~~~~~~~~~~\"\n",
    "print \"monoBlobs\"\n",
    "for a in target_net_blobs:\n",
    "    print a\n",
    "print\"~~~~~~~~~~~~~~~~~~~~~~~~~~~~~~~~~~~~~~~~~~~~~~~~~~~~~~~~~~~~~~~~~~~\"\n",
    "print\"~~~~~~~~~~~~~~~~~~~~~~~~~~~~~~~~~~~~~~~~~~~~~~~~~~~~~~~~~~~~~~~~~~~\"\n",
    "print\"~~~~~~~~~~~~~~~~~~~~~~~~~~~~~~~~~~~~~~~~~~~~~~~~~~~~~~~~~~~~~~~~~~~\"\n",
    "print \"monoLayers\"\n",
    "for a in target_net_layers:\n",
    "    print a\n",
    "print\"~~~~~~~~~~~~~~~~~~~~~~~~~~~~~~~~~~~~~~~~~~~~~~~~~~~~~~~~~~~~~~~~~~~\""
   ]
  },
  {
   "cell_type": "code",
   "execution_count": null,
   "metadata": {
    "collapsed": true
   },
   "outputs": [],
   "source": [
    "source_net = caffe.Net(source_net_proto,source_weights, caffe.TEST)\n",
    "#source_net_blobs = [(k, v.data.shape) for k, v in source_net.blobs.items()]\n",
    "#source_net_layers = [(k, v[0].data.shape, v[1].data.shape) for k, v in source_net.params.items() if 'deconv' not in k]"
   ]
  },
  {
   "cell_type": "raw",
   "metadata": {
    "collapsed": false
   },
   "source": [
    "print\"~~~~~~~~~~~~~~~~~~~~~~~~~~~~~~~~~~~~~~~~~~~~~~~~~~~~~~~~~~~~~~~~~~~\"\n",
    "print \"monoBlobs\"\n",
    "for a in source_net_blobs:\n",
    "    print a\n",
    "print\"~~~~~~~~~~~~~~~~~~~~~~~~~~~~~~~~~~~~~~~~~~~~~~~~~~~~~~~~~~~~~~~~~~~\"\n",
    "print\"~~~~~~~~~~~~~~~~~~~~~~~~~~~~~~~~~~~~~~~~~~~~~~~~~~~~~~~~~~~~~~~~~~~\"\n",
    "print\"~~~~~~~~~~~~~~~~~~~~~~~~~~~~~~~~~~~~~~~~~~~~~~~~~~~~~~~~~~~~~~~~~~~\"\n",
    "print \"monoLayers\"\n",
    "for a in source_net_layers:\n",
    "    print a\n",
    "print\"~~~~~~~~~~~~~~~~~~~~~~~~~~~~~~~~~~~~~~~~~~~~~~~~~~~~~~~~~~~~~~~~~~~\""
   ]
  },
  {
   "cell_type": "code",
   "execution_count": null,
   "metadata": {
    "collapsed": false
   },
   "outputs": [],
   "source": [
    "transfer(target_net,source_net)"
   ]
  },
  {
   "cell_type": "code",
   "execution_count": null,
   "metadata": {
    "collapsed": false,
    "scrolled": true
   },
   "outputs": [],
   "source": [
    "#### SAVING\n",
    "print \"Saving output model to %s \" % target_weights\n",
    "target_net.save(target_weights)\n",
    "print \"Saved.\""
   ]
  },
  {
   "cell_type": "code",
   "execution_count": null,
   "metadata": {
    "collapsed": true
   },
   "outputs": [],
   "source": [
    "del target_net\n",
    "del source_net"
   ]
  },
  {
   "cell_type": "code",
   "execution_count": null,
   "metadata": {
    "collapsed": true
   },
   "outputs": [],
   "source": []
  }
 ],
 "metadata": {
  "anaconda-cloud": {},
  "kernelspec": {
   "display_name": "Python [conda env:jg_pfr]",
   "language": "python",
   "name": "conda-env-jg_pfr-py"
  },
  "language_info": {
   "codemirror_mode": {
    "name": "ipython",
    "version": 2
   },
   "file_extension": ".py",
   "mimetype": "text/x-python",
   "name": "python",
   "nbconvert_exporter": "python",
   "pygments_lexer": "ipython2",
   "version": "2.7.12"
  }
 },
 "nbformat": 4,
 "nbformat_minor": 1
}
