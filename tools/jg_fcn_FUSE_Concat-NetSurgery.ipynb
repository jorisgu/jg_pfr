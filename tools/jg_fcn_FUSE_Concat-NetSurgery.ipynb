{
 "cells": [
  {
   "cell_type": "markdown",
   "metadata": {},
   "source": [
    "### Load already trained weights but improve concat2 weights by a good init."
   ]
  },
  {
   "cell_type": "code",
   "execution_count": 1,
   "metadata": {
    "collapsed": true
   },
   "outputs": [],
   "source": [
    "import caffe\n",
    "import numpy as np"
   ]
  },
  {
   "cell_type": "code",
   "execution_count": 25,
   "metadata": {
    "collapsed": false
   },
   "outputs": [],
   "source": [
    "fuse_deploy_concat012 = '/home/jguerry/workspace/dl_data_sunrgbd/MODELS/20170301_fcn32s_optim_fuse_concat/deploy_fuse_concat012.prototxt'\n",
    "weights_path_fuse_concat012='/home/jguerry/workspace/dl_data_sunrgbd/MODELS/20170301_fcn32s_optim_fuse_concat/astroboy_snapshot_iter_36995.caffemodel'\n",
    "weights_path_fuse_concat012_output = '/home/jguerry/workspace/dl_data_sunrgbd/MODELS/20170301_fcn32s_optim_fuse_concat/fuse_concat012_retouched.caffemodel'"
   ]
  },
  {
   "cell_type": "code",
   "execution_count": 3,
   "metadata": {
    "collapsed": true
   },
   "outputs": [],
   "source": [
    "caffe_gpu = True\n",
    "if not caffe_gpu:\n",
    "    caffe.set_mode_cpu()\n",
    "else:\n",
    "    caffe.set_mode_gpu()\n",
    "    caffe.set_device(0);"
   ]
  },
  {
   "cell_type": "code",
   "execution_count": 4,
   "metadata": {
    "collapsed": false,
    "scrolled": true
   },
   "outputs": [],
   "source": [
    "fuseNet_concat = caffe.Net(fuse_deploy_concat012, weights_path_fuse_concat012, caffe.TEST)"
   ]
  },
  {
   "cell_type": "code",
   "execution_count": 8,
   "metadata": {
    "collapsed": false
   },
   "outputs": [],
   "source": [
    "fuseBlobs = [(k, v.data.shape) for k, v in fuseNet_concat.blobs.items()]\n",
    "fuseLayers = [(k, v[0].data.shape, v[1].data.shape) for k, v in fuseNet_concat.params.items() if 'upscore' not in k]"
   ]
  },
  {
   "cell_type": "code",
   "execution_count": 11,
   "metadata": {
    "collapsed": false
   },
   "outputs": [
    {
     "data": {
      "text/plain": [
       "[('data0', (1, 3, 200, 200)),\n",
       " ('data1', (1, 3, 200, 200)),\n",
       " ('data0_data', (1, 3, 530, 730)),\n",
       " ('data0_data_data0_data_0_split_0', (1, 3, 530, 730)),\n",
       " ('data0_data_data0_data_0_split_1', (1, 3, 530, 730)),\n",
       " ('data1_data', (1, 3, 530, 730)),\n",
       " ('data1_data_data1_data_0_split_0', (1, 3, 530, 730)),\n",
       " ('data1_data_data1_data_0_split_1', (1, 3, 530, 730)),\n",
       " ('label', (1, 1, 530, 730)),\n",
       " ('label_label_0_split_0', (1, 1, 530, 730)),\n",
       " ('label_label_0_split_1', (1, 1, 530, 730)),\n",
       " ('label_label_0_split_2', (1, 1, 530, 730)),\n",
       " ('data0_conv1_1', (1, 64, 530, 730)),\n",
       " ('data0_conv1_2', (1, 64, 530, 730)),\n",
       " ('data0_pool1', (1, 64, 265, 365)),\n",
       " ('data0_conv2_1', (1, 128, 265, 365)),\n",
       " ('data0_conv2_2', (1, 128, 265, 365)),\n",
       " ('data0_pool2', (1, 128, 133, 183)),\n",
       " ('data0_conv3_1', (1, 256, 133, 183)),\n",
       " ('data0_conv3_2', (1, 256, 133, 183)),\n",
       " ('data0_conv3_3', (1, 256, 133, 183)),\n",
       " ('data0_pool3', (1, 256, 67, 92)),\n",
       " ('data0_conv4_1', (1, 512, 67, 92)),\n",
       " ('data0_conv4_2', (1, 512, 67, 92)),\n",
       " ('data0_conv4_3', (1, 512, 67, 92)),\n",
       " ('data0_pool4', (1, 512, 34, 46)),\n",
       " ('data0_conv5_1', (1, 512, 34, 46)),\n",
       " ('data0_conv5_2', (1, 512, 34, 46)),\n",
       " ('data0_conv5_3', (1, 512, 34, 46)),\n",
       " ('data0_pool5', (1, 512, 17, 23)),\n",
       " ('data0_fc6', (1, 4096, 17, 23)),\n",
       " ('data0_fc6_data0_drop6_0_split_0', (1, 4096, 17, 23)),\n",
       " ('data0_fc6_data0_drop6_0_split_1', (1, 4096, 17, 23)),\n",
       " ('data0_fc7', (1, 4096, 17, 23)),\n",
       " ('data0_fc7_data0_drop7_0_split_0', (1, 4096, 17, 23)),\n",
       " ('data0_fc7_data0_drop7_0_split_1', (1, 4096, 17, 23)),\n",
       " ('data0_score_fr37', (1, 37, 17, 23)),\n",
       " ('data0_score_fr37_data0_score_fr37_0_split_0', (1, 37, 17, 23)),\n",
       " ('data0_score_fr37_data0_score_fr37_0_split_1', (1, 37, 17, 23)),\n",
       " ('data0_upscore37', (1, 37, 544, 736)),\n",
       " ('data0_score', (1, 37, 530, 730)),\n",
       " ('data1_conv1_1', (1, 64, 530, 730)),\n",
       " ('data1_conv1_2', (1, 64, 530, 730)),\n",
       " ('data1_pool1', (1, 64, 265, 365)),\n",
       " ('data1_conv2_1', (1, 128, 265, 365)),\n",
       " ('data1_conv2_2', (1, 128, 265, 365)),\n",
       " ('data1_pool2', (1, 128, 133, 183)),\n",
       " ('data1_conv3_1', (1, 256, 133, 183)),\n",
       " ('data1_conv3_2', (1, 256, 133, 183)),\n",
       " ('data1_conv3_3', (1, 256, 133, 183)),\n",
       " ('data1_pool3', (1, 256, 67, 92)),\n",
       " ('data1_conv4_1', (1, 512, 67, 92)),\n",
       " ('data1_conv4_2', (1, 512, 67, 92)),\n",
       " ('data1_conv4_3', (1, 512, 67, 92)),\n",
       " ('data1_pool4', (1, 512, 34, 46)),\n",
       " ('data1_conv5_1', (1, 512, 34, 46)),\n",
       " ('data1_conv5_2', (1, 512, 34, 46)),\n",
       " ('data1_conv5_3', (1, 512, 34, 46)),\n",
       " ('data1_pool5', (1, 512, 17, 23)),\n",
       " ('data1_fc6', (1, 4096, 17, 23)),\n",
       " ('data1_fc6_data1_drop6_0_split_0', (1, 4096, 17, 23)),\n",
       " ('data1_fc6_data1_drop6_0_split_1', (1, 4096, 17, 23)),\n",
       " ('data1_fc7', (1, 4096, 17, 23)),\n",
       " ('data1_fc7_data1_drop7_0_split_0', (1, 4096, 17, 23)),\n",
       " ('data1_fc7_data1_drop7_0_split_1', (1, 4096, 17, 23)),\n",
       " ('data1_score_fr37', (1, 37, 17, 23)),\n",
       " ('data1_score_fr37_data1_score_fr37_0_split_0', (1, 37, 17, 23)),\n",
       " ('data1_score_fr37_data1_score_fr37_0_split_1', (1, 37, 17, 23)),\n",
       " ('data1_upscore37', (1, 37, 544, 736)),\n",
       " ('data1_score', (1, 37, 530, 730)),\n",
       " ('concat0_score_fr37', (1, 74, 17, 23)),\n",
       " ('fuse_concat0_score_fr37', (1, 37, 17, 23)),\n",
       " ('fuse_concat0_upscore37', (1, 37, 576, 768)),\n",
       " ('fuse_concat0_score', (1, 37, 530, 730)),\n",
       " ('concat1_fc7', (1, 8192, 17, 23)),\n",
       " ('fuse_concat1_score_fr37', (1, 37, 17, 23)),\n",
       " ('fuse_concat1_upscore37', (1, 37, 576, 768)),\n",
       " ('fuse_concat1_score', (1, 37, 530, 730)),\n",
       " ('concat2_fc6', (1, 8192, 17, 23)),\n",
       " ('concat2_fc7', (1, 4096, 17, 23)),\n",
       " ('fuse_concat2_score_fr37', (1, 37, 17, 23)),\n",
       " ('fuse_concat2_upscore37', (1, 37, 576, 768)),\n",
       " ('fuse_concat2_score', (1, 37, 530, 730))]"
      ]
     },
     "execution_count": 11,
     "metadata": {},
     "output_type": "execute_result"
    }
   ],
   "source": [
    "fuseBlobs"
   ]
  },
  {
   "cell_type": "code",
   "execution_count": 10,
   "metadata": {
    "collapsed": false
   },
   "outputs": [
    {
     "data": {
      "text/plain": [
       "[('data0_conv1_1', (64, 3, 3, 3), (64,)),\n",
       " ('data0_conv1_2', (64, 64, 3, 3), (64,)),\n",
       " ('data0_conv2_1', (128, 64, 3, 3), (128,)),\n",
       " ('data0_conv2_2', (128, 128, 3, 3), (128,)),\n",
       " ('data0_conv3_1', (256, 128, 3, 3), (256,)),\n",
       " ('data0_conv3_2', (256, 256, 3, 3), (256,)),\n",
       " ('data0_conv3_3', (256, 256, 3, 3), (256,)),\n",
       " ('data0_conv4_1', (512, 256, 3, 3), (512,)),\n",
       " ('data0_conv4_2', (512, 512, 3, 3), (512,)),\n",
       " ('data0_conv4_3', (512, 512, 3, 3), (512,)),\n",
       " ('data0_conv5_1', (512, 512, 3, 3), (512,)),\n",
       " ('data0_conv5_2', (512, 512, 3, 3), (512,)),\n",
       " ('data0_conv5_3', (512, 512, 3, 3), (512,)),\n",
       " ('data0_fc6', (4096, 512, 7, 7), (4096,)),\n",
       " ('data0_fc7', (4096, 4096, 1, 1), (4096,)),\n",
       " ('data0_score_fr37', (37, 4096, 1, 1), (37,)),\n",
       " ('data1_conv1_1', (64, 3, 3, 3), (64,)),\n",
       " ('data1_conv1_2', (64, 64, 3, 3), (64,)),\n",
       " ('data1_conv2_1', (128, 64, 3, 3), (128,)),\n",
       " ('data1_conv2_2', (128, 128, 3, 3), (128,)),\n",
       " ('data1_conv3_1', (256, 128, 3, 3), (256,)),\n",
       " ('data1_conv3_2', (256, 256, 3, 3), (256,)),\n",
       " ('data1_conv3_3', (256, 256, 3, 3), (256,)),\n",
       " ('data1_conv4_1', (512, 256, 3, 3), (512,)),\n",
       " ('data1_conv4_2', (512, 512, 3, 3), (512,)),\n",
       " ('data1_conv4_3', (512, 512, 3, 3), (512,)),\n",
       " ('data1_conv5_1', (512, 512, 3, 3), (512,)),\n",
       " ('data1_conv5_2', (512, 512, 3, 3), (512,)),\n",
       " ('data1_conv5_3', (512, 512, 3, 3), (512,)),\n",
       " ('data1_fc6', (4096, 512, 7, 7), (4096,)),\n",
       " ('data1_fc7', (4096, 4096, 1, 1), (4096,)),\n",
       " ('data1_score_fr37', (37, 4096, 1, 1), (37,)),\n",
       " ('fuse_concat0_score_fr37', (37, 74, 1, 1), (37,)),\n",
       " ('fuse_concat1_score_fr37', (37, 8192, 1, 1), (37,)),\n",
       " ('concat2_fc7', (4096, 8192, 1, 1), (4096,)),\n",
       " ('fuse_concat2_score_fr37', (37, 4096, 1, 1), (37,))]"
      ]
     },
     "execution_count": 10,
     "metadata": {},
     "output_type": "execute_result"
    }
   ],
   "source": [
    "fuseLayers"
   ]
  },
  {
   "cell_type": "code",
   "execution_count": 24,
   "metadata": {
    "collapsed": false
   },
   "outputs": [],
   "source": [
    "fuseNet_concat.params['concat2_fc7'][0].data[:,:4096,...]=fuseNet_concat.params['data0_fc7'][0].data[:,:4096,...]\n",
    "fuseNet_concat.params['concat2_fc7'][0].data[:,4096:,...]=fuseNet_concat.params['data1_fc7'][0].data[:,:4096,...]\n",
    "fuseNet_concat.params['concat2_fc7'][1].data[...]= 0.5*fuseNet_concat.params['data0_fc7'][1].data[...]+0.5*fuseNet_concat.params['data1_fc7'][1].data[...]"
   ]
  },
  {
   "cell_type": "code",
   "execution_count": 26,
   "metadata": {
    "collapsed": false,
    "scrolled": true
   },
   "outputs": [
    {
     "name": "stdout",
     "output_type": "stream",
     "text": [
      "Saving output model to /home/jguerry/workspace/dl_data_sunrgbd/MODELS/20170301_fcn32s_optim_fuse_concat/fuse_concat012_retouched.caffemodel \n"
     ]
    }
   ],
   "source": [
    "#### SAVING\n",
    "print \"Saving output model to %s \" % weights_path_fuse_concat012_output\n",
    "fuseNet_concat.save(weights_path_fuse_concat012_output)"
   ]
  },
  {
   "cell_type": "code",
   "execution_count": 27,
   "metadata": {
    "collapsed": true
   },
   "outputs": [],
   "source": [
    "del fuseNet_concat"
   ]
  }
 ],
 "metadata": {
  "anaconda-cloud": {},
  "kernelspec": {
   "display_name": "Python [conda env:jg_pfr]",
   "language": "python",
   "name": "conda-env-jg_pfr-py"
  },
  "language_info": {
   "codemirror_mode": {
    "name": "ipython",
    "version": 2
   },
   "file_extension": ".py",
   "mimetype": "text/x-python",
   "name": "python",
   "nbconvert_exporter": "python",
   "pygments_lexer": "ipython2",
   "version": "2.7.12"
  }
 },
 "nbformat": 4,
 "nbformat_minor": 1
}
