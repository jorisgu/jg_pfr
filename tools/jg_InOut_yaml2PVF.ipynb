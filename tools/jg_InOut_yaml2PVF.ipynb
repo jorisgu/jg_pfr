{
 "cells": [
  {
   "cell_type": "code",
   "execution_count": 1,
   "metadata": {
    "collapsed": true
   },
   "outputs": [],
   "source": [
    "# from __future__ import division\n",
    "# from __future__ import print_function\n",
    "import caffe\n",
    "import numpy as np\n",
    "import os\n",
    "import sys\n",
    "from datetime import datetime\n",
    "from PIL import Image\n",
    "from IPython.display import Image\n",
    "from IPython.display import clear_output\n",
    "import time\n",
    "\n",
    "\n",
    "import os.path as osp\n",
    "from easydict import EasyDict as edict\n",
    "import yaml"
   ]
  },
  {
   "cell_type": "code",
   "execution_count": 2,
   "metadata": {
    "collapsed": false
   },
   "outputs": [],
   "source": [
    "def log_progress(sequence, title='', every=1, size=None, end_msg='', removeAtTheEnd=False):\n",
    "    from ipywidgets import IntProgress, HTML, VBox\n",
    "    from IPython.display import display\n",
    "\n",
    "    is_iterator = False\n",
    "    if size is None:\n",
    "        try:\n",
    "            size = len(sequence)\n",
    "        except TypeError:\n",
    "            is_iterator = True\n",
    "    if size is not None:\n",
    "        if every is None:\n",
    "            if size <= 200:\n",
    "                every = 1\n",
    "            else:\n",
    "                every = int(size / 200)     # every 0.5%\n",
    "    else:\n",
    "        assert every is not None, 'sequence is iterator, set every'\n",
    "\n",
    "    if is_iterator:\n",
    "        progress = IntProgress(min=0, max=1, value=1)\n",
    "        progress.bar_style = 'info'\n",
    "    else:\n",
    "        progress = IntProgress(min=0, max=size, value=0)\n",
    "    label = HTML()\n",
    "    box = VBox(children=[label, progress])\n",
    "    display(box)\n",
    "\n",
    "    index = 0\n",
    "    try:\n",
    "        for index, record in enumerate(sequence, 1):\n",
    "            if index == 1 or index % every == 0:\n",
    "                if is_iterator:\n",
    "                    label.value = '{index} / ?'.format(index=index)\n",
    "                else:\n",
    "                    progress.value = index\n",
    "                    if isinstance(sequence, dict):\n",
    "                        val = ''\n",
    "                    else:\n",
    "                        val=sequence[index-1]\n",
    "                            \n",
    "                    label.value = u'{title} : {value} ({index} / {size})'.format(\n",
    "                        title=title,\n",
    "                        value=val,\n",
    "                        index=index,\n",
    "                        size=size\n",
    "                    )\n",
    "            yield record\n",
    "    except:\n",
    "        progress.bar_style = 'danger'\n",
    "        raise\n",
    "    else:\n",
    "        progress.bar_style = 'success'\n",
    "        progress.value = index\n",
    "        label.value = end_msg\n",
    "        if removeAtTheEnd:\n",
    "            box.close()\n",
    "    "
   ]
  },
  {
   "cell_type": "code",
   "execution_count": 3,
   "metadata": {
    "collapsed": false
   },
   "outputs": [],
   "source": [
    "def yaml2xml(yamlfile, xmlfile):\n",
    "    with open(yamlfile) as fin:\n",
    "        c = fin.read()\n",
    "        # some operator on raw conent of c may be needed\n",
    "        c = \"%YAML 1.1\"+os.linesep+\"---\" + c[len(\"%YAML:1.0\"):] if c.startswith(\"%YAML:1.0\") else c\n",
    "        result = edict(yaml.load(c))\n",
    "    \n",
    "    \n",
    "    fd=open(xmlfile,'w')\n",
    "    print >> fd, \"<annotation>\"\n",
    "    print >> fd, \"\t<folder>Depth</folder>\"\n",
    "    print >> fd, \"\t<filename>\"+result.annotation.filename+\"</filename>\"\n",
    "    print >> fd, \"\t<source>\"\n",
    "    print >> fd, \"\t\t<database>Freiburg RGB-D People Dataset</database>\"\n",
    "    print >> fd, \"\t</source>\"\n",
    "    print >> fd, \"\t<owner>Andreas Eitel,  Oier Mees</owner>\"\n",
    "    print >> fd, \"\t<size>\"\n",
    "    print >> fd, \"\t\t<width>1920</width>\"\n",
    "    print >> fd, \"\t\t<height>1080</height>\"\n",
    "    print >> fd, \"\t\t<depth>1</depth>\"\n",
    "    print >> fd, \"\t</size>\"\n",
    "    print >> fd, \"\t<segmented>0</segmented>\"\n",
    "\n",
    "    if 'object' in result.annotation:\n",
    "        for obj in result.annotation.object:\n",
    "            print >> fd, \"\t<object>\"\n",
    "            print >> fd, \"\t\t<name>\"+obj.name+\"</name>\"\n",
    "            print >> fd, \"\t\t<pose>unknown</pose>\"\n",
    "            print >> fd, \"\t\t<truncated>-1</truncated>\"\n",
    "            print >> fd, \"\t\t<difficult>0</difficult>\"\n",
    "            print >> fd, \"\t\t<bndbox>\"\n",
    "            print >> fd, \"\t\t\t<xmin>\"+obj.bndbox.xmin+\"</xmin>\"\n",
    "            print >> fd, \"\t\t\t<ymin>\"+obj.bndbox.ymin+\"</ymin>\"\n",
    "            print >> fd, \"\t\t\t<xmax>\"+obj.bndbox.xmax+\"</xmax>\"\n",
    "            print >> fd, \"\t\t\t<ymax>\"+obj.bndbox.ymax+\"</ymax>\"\n",
    "            print >> fd, \"\t\t</bndbox>\"\n",
    "            print >> fd, \"\t</object>\"\n",
    "\n",
    "    print >> fd, \"</annotation>\"\n",
    "    fd.close()"
   ]
  },
  {
   "cell_type": "code",
   "execution_count": 4,
   "metadata": {
    "collapsed": false
   },
   "outputs": [],
   "source": [
    "xml_basic_path='/home/jogue/workspace/datasets/InOutDoorPeople/Annotations_pv/'\n",
    "splits_basic_path = '/home/jogue/workspace/datasets/InOutDoorPeople/ImageSets/'\n",
    "yaml_basic_path='/home/jogue/workspace/datasets/InOutDoorPeople/Annotations/'\n",
    "\n",
    "splits=['seq0.txt', 'seq1.txt',  'seq2.txt',  'seq3.txt']\n",
    "\n"
   ]
  },
  {
   "cell_type": "code",
   "execution_count": 5,
   "metadata": {
    "collapsed": false
   },
   "outputs": [
    {
     "name": "stdout",
     "output_type": "stream",
     "text": [
      "%YAML:1.0\r\n",
      "annotation:\r\n",
      "  filename: seq_1454064092.6794846100.jpg\r\n",
      "  folder: VOC2007\r\n",
      "  owner: Andreas Eitel,  Oier Mees\r\n",
      "  segmented: '0'\r\n",
      "  size: {depth: '1', height: '1080', width: '1920'}\r\n",
      "  source: '{database: Freiburg RGB-D People Dataset}'\r\n"
     ]
    }
   ],
   "source": [
    "!cat /c16/THESE.JORIS/datasets/InOutDoorPeople/Annotations/seq_1454064092.6794846100.yml"
   ]
  },
  {
   "cell_type": "code",
   "execution_count": 5,
   "metadata": {
    "collapsed": false
   },
   "outputs": [],
   "source": [
    "for split in log_progress(splits, title='Splits', end_msg='Finished !',removeAtTheEnd=False):\n",
    "    list_images = open(splits_basic_path+split, 'r').read().splitlines()\n",
    "    for img_name in log_progress(list_images, title='img', end_msg='Finished !',removeAtTheEnd=True):\n",
    "        xmlfile = xml_basic_path+img_name+'.xml'\n",
    "        yamlfile=yaml_basic_path+img_name+'.yml'\n",
    "        yaml2xml(yamlfile, xmlfile)"
   ]
  },
  {
   "cell_type": "code",
   "execution_count": null,
   "metadata": {
    "collapsed": true
   },
   "outputs": [],
   "source": []
  }
 ],
 "metadata": {
  "anaconda-cloud": {},
  "celltoolbar": "Raw Cell Format",
  "kernelspec": {
   "display_name": "Python [conda env:jg_pfr]",
   "language": "python",
   "name": "conda-env-jg_pfr-py"
  },
  "language_info": {
   "codemirror_mode": {
    "name": "ipython",
    "version": 2
   },
   "file_extension": ".py",
   "mimetype": "text/x-python",
   "name": "python",
   "nbconvert_exporter": "python",
   "pygments_lexer": "ipython2",
   "version": "2.7.13"
  },
  "widgets": {
   "state": {
    "aac7940bdf764e698e6d9e0168952eb8": {
     "views": [
      {
       "cell_index": 5
      }
     ]
    }
   },
   "version": "1.2.0"
  }
 },
 "nbformat": 4,
 "nbformat_minor": 1
}
