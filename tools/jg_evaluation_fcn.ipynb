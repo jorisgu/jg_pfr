{
 "cells": [
  {
   "cell_type": "markdown",
   "metadata": {},
   "source": [
    "confusion matrix :\n",
    "    http://gcucurull.github.io/caffe/python/deep-learning/2016/06/29/caffe-confusion-matrix/\n",
    "    https://github.com/gcucurull/caffe-conf-matrix\n",
    "FCN :\n",
    "    score :\n",
    "        https://github.com/shelhamer/fcn.berkeleyvision.org/blob/master/score.py\n",
    "    infer :\n",
    "        https://github.com/shelhamer/fcn.berkeleyvision.org/blob/master/infer.py"
   ]
  },
  {
   "cell_type": "code",
   "execution_count": null,
   "metadata": {
    "collapsed": true
   },
   "outputs": [],
   "source": [
    "from __future__ import division\n",
    "import caffe\n",
    "import numpy as np\n",
    "import os\n",
    "import sys\n",
    "from datetime import datetime\n",
    "from PIL import Image"
   ]
  },
  {
   "cell_type": "code",
   "execution_count": null,
   "metadata": {
    "collapsed": true
   },
   "outputs": [],
   "source": [
    "def fast_hist(a, b, n):\n",
    "    k = (a >= 0) & (a < n)\n",
    "    return np.bincount(n * a[k].astype(int) + b[k], minlength=n**2).reshape(n, n)"
   ]
  },
  {
   "cell_type": "code",
   "execution_count": null,
   "metadata": {
    "collapsed": true
   },
   "outputs": [],
   "source": [
    "import _init_paths\n",
    "import caffe\n",
    "#import jg_layers.jg_input_voc_layers"
   ]
  },
  {
   "cell_type": "code",
   "execution_count": null,
   "metadata": {
    "collapsed": true
   },
   "outputs": [],
   "source": [
    "def eval(hist,loss, it):\n",
    "    print '>>>', datetime.now(), 'Iteration', it, 'loss', loss\n",
    "    # overall accuracy\n",
    "    acc = np.diag(hist).sum() / hist.sum()\n",
    "    print '>>>', datetime.now(), 'Iteration', it, 'overall accuracy', acc\n",
    "    # per-class accuracy\n",
    "    acc = np.diag(hist) / hist.sum(1)\n",
    "    print '>>>', datetime.now(), 'Iteration', it, 'mean accuracy', np.nanmean(acc)\n",
    "    # per-class IU\n",
    "    iu = np.diag(hist) / (hist.sum(1) + hist.sum(0) - np.diag(hist))\n",
    "    print '>>>', datetime.now(), 'Iteration', it, 'mean IU', np.nanmean(iu)\n",
    "    freq = hist.sum(1) / hist.sum()\n",
    "    print '>>>', datetime.now(), 'Iteration', it, 'fwavacc', (freq[freq > 0] * iu[freq > 0]).sum()"
   ]
  },
  {
   "cell_type": "code",
   "execution_count": null,
   "metadata": {
    "collapsed": true
   },
   "outputs": [],
   "source": [
    "model = 'rgb_100'\n",
    "newParams = {}\n",
    "\n",
    "#classes\n",
    "newParams['classes_file_path']= '/home/jogue/workspace/datasets/SUNRGBD_pv/37_classes.txt'\n",
    "\n",
    "# images\n",
    "newParams['images_folder']= '/home/jogue/workspace/datasets/SUNRGBD_pv/data_nyudv2/rgb_i_range_10-10-100/testGupta/'\n",
    "newParams['image_file_extension']= 'png'\n",
    "# segmentations\n",
    "newParams['segmentations_folder']= '/home/jogue/workspace/datasets/SUNRGBD_pv/data_nyudv2/labels_segmentation_37d_range_10-10-100/testGupta/'                            \n",
    "newParams['segmentation_file_extension']= 'png'\n",
    "\n",
    "#sets\n",
    "newParams['set_file_path']= '/home/jogue/workspace/datasets/SUNRGBD_pv/data/sets/nyudv2_gupta/testGupta_10-10-100.txt'\n",
    "\n",
    "#shuffme\n",
    "newParams['shuffle']= False"
   ]
  },
  {
   "cell_type": "code",
   "execution_count": null,
   "metadata": {
    "collapsed": true
   },
   "outputs": [],
   "source": [
    "ICIPmodels = '/home/jogue/workspace/ICIP/models/'\n",
    "prototxt_path = ICIPmodels+model+'/jg_eval.prototxt'\n",
    "weights_path = ICIPmodels+model+'/weights.caffemodel'\n",
    "caffe_gpu = True\n",
    "\n",
    "\n",
    "if !caffe_gpu:\n",
    "    caffe.set_mode_cpu()\n",
    "else:\n",
    "    caffe.set_mode_gpu()\n",
    "    caffe.set_device(gpu_id);"
   ]
  },
  {
   "cell_type": "code",
   "execution_count": null,
   "metadata": {
    "collapsed": false,
    "scrolled": false
   },
   "outputs": [],
   "source": [
    "net = caffe.Net(prototxt_path, caffe.TEST)\n",
    "#net = caffe.Net(prototxt_path,weights_path , caffe.TEST)"
   ]
  },
  {
   "cell_type": "markdown",
   "metadata": {},
   "source": [
    "#### Blobs & Layers"
   ]
  },
  {
   "cell_type": "code",
   "execution_count": null,
   "metadata": {
    "collapsed": false,
    "scrolled": true
   },
   "outputs": [],
   "source": [
    "B = [(k, v.data.shape) for k, v in net.blobs.items()]\n",
    "L = [(k, v[0].data.shape, v[1].data.shape) for k, v in net.params.items() if k != 'upscore37']"
   ]
  },
  {
   "cell_type": "markdown",
   "metadata": {},
   "source": [
    "#### Updating with new params"
   ]
  },
  {
   "cell_type": "code",
   "execution_count": null,
   "metadata": {
    "collapsed": false
   },
   "outputs": [],
   "source": [
    "net.layers[0].update(newParams)"
   ]
  },
  {
   "cell_type": "code",
   "execution_count": null,
   "metadata": {
    "collapsed": false,
    "scrolled": true
   },
   "outputs": [],
   "source": [
    "#hist, loss = compute_hist(net, save_format, dataset, layer, gt)\n",
    "n_cl = net.blobs['score'].channels\n",
    "hist = np.zeros((n_cl, n_cl))\n",
    "loss = 0\n",
    "for idx in range(net.layers[0].nb_images):\n",
    "    print \"Iter counter =\",net.layers[0].iter_counter\n",
    "    net.forward()\n",
    "    hist += fast_hist(net.blobs['label'].data[0, 0].flatten(),net.blobs['score'].data[0].argmax(0).flatten(),n_cl)\n",
    "    # compute the loss as well\n",
    "    loss += net.blobs['loss'].data.flat[0]\n",
    "    eval(hist,loss/net.layers[0].nb_images, net.layers[0].iter_counter)"
   ]
  },
  {
   "cell_type": "code",
   "execution_count": null,
   "metadata": {
    "collapsed": false
   },
   "outputs": [],
   "source": []
  }
 ],
 "metadata": {
  "anaconda-cloud": {},
  "celltoolbar": "Raw Cell Format",
  "kernelspec": {
   "display_name": "Python [conda env:jg_pfr]",
   "language": "python",
   "name": "conda-env-jg_pfr-py"
  },
  "language_info": {
   "codemirror_mode": {
    "name": "ipython",
    "version": 2
   },
   "file_extension": ".py",
   "mimetype": "text/x-python",
   "name": "python",
   "nbconvert_exporter": "python",
   "pygments_lexer": "ipython2",
   "version": "2.7.13"
  }
 },
 "nbformat": 4,
 "nbformat_minor": 1
}
