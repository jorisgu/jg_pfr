{
 "cells": [
  {
   "cell_type": "markdown",
   "metadata": {},
   "source": [
    "confusion matrix :\n",
    "    http://gcucurull.github.io/caffe/python/deep-learning/2016/06/29/caffe-confusion-matrix/\n",
    "    https://github.com/gcucurull/caffe-conf-matrix\n",
    "FCN :\n",
    "    score :\n",
    "        https://github.com/shelhamer/fcn.berkeleyvision.org/blob/master/score.py\n",
    "    infer :\n",
    "        https://github.com/shelhamer/fcn.berkeleyvision.org/blob/master/infer.py"
   ]
  },
  {
   "cell_type": "code",
   "execution_count": 1,
   "metadata": {
    "collapsed": false
   },
   "outputs": [],
   "source": [
    "from __future__ import division\n",
    "from __future__ import print_function\n",
    "import caffe\n",
    "import numpy as np\n",
    "import os\n",
    "import sys\n",
    "from datetime import datetime\n",
    "from PIL import Image\n",
    "from IPython.display import Image\n",
    "from IPython.display import clear_output\n",
    "import time\n",
    "import _init_paths\n",
    "\n",
    "from matplotlib.pyplot import imshow\n",
    "from matplotlib.pyplot import imread\n",
    "from matplotlib.pyplot import imsave\n",
    "%matplotlib inline"
   ]
  },
  {
   "cell_type": "code",
   "execution_count": 2,
   "metadata": {
    "collapsed": false
   },
   "outputs": [],
   "source": [
    "def log_progress(sequence, title='', every=1, size=None, end_msg='', removeAtTheEnd=False):\n",
    "    from ipywidgets import IntProgress, HTML, VBox\n",
    "    from IPython.display import display\n",
    "\n",
    "    is_iterator = False\n",
    "    if size is None:\n",
    "        try:\n",
    "            size = len(sequence)\n",
    "        except TypeError:\n",
    "            is_iterator = True\n",
    "    if size is not None:\n",
    "        if every is None:\n",
    "            if size <= 200:\n",
    "                every = 1\n",
    "            else:\n",
    "                every = int(size / 200)     # every 0.5%\n",
    "    else:\n",
    "        assert every is not None, 'sequence is iterator, set every'\n",
    "\n",
    "    if is_iterator:\n",
    "        progress = IntProgress(min=0, max=1, value=1)\n",
    "        progress.bar_style = 'info'\n",
    "    else:\n",
    "        progress = IntProgress(min=0, max=size, value=0)\n",
    "    label = HTML()\n",
    "    box = VBox(children=[label, progress])\n",
    "    display(box)\n",
    "\n",
    "    index = 0\n",
    "    try:\n",
    "        for index, record in enumerate(sequence, 1):\n",
    "            if index == 1 or index % every == 0:\n",
    "                if is_iterator:\n",
    "                    label.value = '{index} / ?'.format(index=index)\n",
    "                else:\n",
    "                    progress.value = index\n",
    "                    if isinstance(sequence, dict):\n",
    "                        val = ''\n",
    "                    else:\n",
    "                        val=sequence[index-1]\n",
    "                            \n",
    "                    label.value = u'{title} : {value} ({index} / {size})'.format(\n",
    "                        title=title,\n",
    "                        value=val,\n",
    "                        index=index,\n",
    "                        size=size\n",
    "                    )\n",
    "            yield record\n",
    "    except:\n",
    "        progress.bar_style = 'danger'\n",
    "        raise\n",
    "    else:\n",
    "        progress.bar_style = 'success'\n",
    "        progress.value = index\n",
    "        label.value = end_msg\n",
    "        if removeAtTheEnd:\n",
    "            box.close()\n",
    "    "
   ]
  },
  {
   "cell_type": "code",
   "execution_count": 3,
   "metadata": {
    "collapsed": false
   },
   "outputs": [],
   "source": [
    "SHRECmodels = '/home/jguerry/workspace/SHRECmodels/'\n",
    "# prototxt_path = SHRECmodels+'c14_kf3_var5_train_val.prototxt'\n",
    "# weights_path =  SHRECmodels+'c14_kf3_var5.caffemodel'\n",
    "\n",
    "# prototxt_path = SHRECmodels+'14bi28_kf5_var5 .prototxt'\n",
    "# weights_path =  SHRECmodels+'14bi28_kf5_var5.caffemodel'\n",
    "\n",
    "prototxt_path = SHRECmodels+'THEproto.prototxt'\n",
    "weights_path =  SHRECmodels+'THEweights.caffemodel'\n",
    "\n",
    "\n",
    "\n",
    "\n",
    "\n",
    "caffe_gpu = True\n",
    "if not caffe_gpu:\n",
    "    caffe.set_mode_cpu()\n",
    "else:\n",
    "    caffe.set_mode_gpu()\n",
    "    caffe.set_device(0);"
   ]
  },
  {
   "cell_type": "code",
   "execution_count": 4,
   "metadata": {
    "collapsed": false,
    "scrolled": false
   },
   "outputs": [],
   "source": [
    "# net = caffe.Net(prototxt_path, caffe.TEST)\n",
    "net = caffe.Net(prototxt_path, weights_path, caffe.TEST)"
   ]
  },
  {
   "cell_type": "code",
   "execution_count": 5,
   "metadata": {
    "collapsed": true
   },
   "outputs": [],
   "source": [
    "results={}\n",
    "results['id_gesture']=[]\n",
    "results['id_finger']=[]\n",
    "results['id_subject']=[]\n",
    "results['id_essai']=[]\n",
    "results['label_gt']=[]\n",
    "results['label_found']=[]\n",
    "results['label_gt_28']=[]\n",
    "results['label_found_28']=[]\n",
    "results['time_millisecond']=[]\n",
    "                     "
   ]
  },
  {
   "cell_type": "code",
   "execution_count": 6,
   "metadata": {
    "collapsed": false
   },
   "outputs": [
    {
     "name": "stdout",
     "output_type": "stream",
     "text": [
      "###############################################################\n"
     ]
    }
   ],
   "source": [
    "print(\"###############################################################\")\n",
    "\n",
    "# net.layers[0].images_processed = 100\n",
    "\n",
    "for idx in log_progress(range(net.layers[0].nb_images), title='iteration', end_msg='Finished !',removeAtTheEnd=True):\n",
    "# for idx in log_progress(range(5), title='iteration', end_msg='Finished !',removeAtTheEnd=True):\n",
    "\n",
    "    #print(\"Idx :\",idx)\n",
    "    t = time.time()\n",
    "    net.forward()\n",
    "    results['id_gesture'].append(int(net.layers[0].list_images[idx,0]))\n",
    "    results['id_finger'].append(int(net.layers[0].list_images[idx,1]))\n",
    "    results['id_subject'].append(int(net.layers[0].list_images[idx,2]))\n",
    "    results['id_essai'].append(int(net.layers[0].list_images[idx,3]))\n",
    "    results['label_gt'].append(int(net.blobs['label'].data[0]))\n",
    "#     results['label_found'].append(int(net.blobs['fc_14'].data[0].argmax(0)))\n",
    "    results['label_gt_28'].append(int(net.blobs['label_28'].data[0]))\n",
    "    results['label_found_28'].append(int(net.blobs['fc_28'].data[0].argmax(0)))\n",
    "    results['time_millisecond'].append(round(100000*(time.time() - t))/100)\n",
    "\n",
    "\n"
   ]
  },
  {
   "cell_type": "code",
   "execution_count": 7,
   "metadata": {
    "collapsed": true
   },
   "outputs": [],
   "source": [
    "def fast_hist(a, b, n):\n",
    "    k = (a >= 0) & (a < n)\n",
    "    return np.bincount(n * a[k].astype(int) + b[k], minlength=n**2).reshape(n, n)"
   ]
  },
  {
   "cell_type": "code",
   "execution_count": 8,
   "metadata": {
    "collapsed": false
   },
   "outputs": [],
   "source": [
    "# hist = fast_hist(np.asarray(results['label_gt']),np.asarray(results['label_found']),14)\n",
    "\n",
    "\n",
    "# acc = np.diag(hist).sum() / hist.sum()\n",
    "# # per-class accuracy\n",
    "# pc_acc = np.diag(hist) / hist.sum(1)\n",
    "# mean_accuracy= np.nanmean(pc_acc)\n",
    "\n",
    "# print(\"Accuracy:\",acc)\n",
    "# print(\"pc_acc:\",pc_acc)\n",
    "# print(\"mean_accuracy:\",mean_accuracy)"
   ]
  },
  {
   "cell_type": "code",
   "execution_count": 9,
   "metadata": {
    "collapsed": false
   },
   "outputs": [
    {
     "name": "stdout",
     "output_type": "stream",
     "text": [
      "Accuracy: 0.719047619048\n",
      "pc_acc: [ 0.67857143  0.83333333  0.3030303   0.5         0.59259259  0.75\n",
      "  0.62962963  0.83333333  0.31034483  0.76923077  0.5         0.73076923\n",
      "  0.66666667  0.86206897  0.69230769  0.75        0.8125      0.80555556\n",
      "  0.61290323  0.86666667  0.60606061  0.88888889  0.75        0.96551724\n",
      "  0.89285714  0.9         0.78947368  0.82857143]\n",
      "mean_accuracy: 0.718602614734\n"
     ]
    }
   ],
   "source": [
    "hist = fast_hist(np.asarray(results['label_gt_28']),np.asarray(results['label_found_28']),28)\n",
    "\n",
    "\n",
    "acc = np.diag(hist).sum() / hist.sum()\n",
    "# per-class accuracy\n",
    "pc_acc = np.diag(hist) / hist.sum(1)\n",
    "mean_accuracy= np.nanmean(pc_acc)\n",
    "\n",
    "print(\"Accuracy:\",acc)\n",
    "print(\"pc_acc:\",pc_acc)\n",
    "print(\"mean_accuracy:\",mean_accuracy)"
   ]
  },
  {
   "cell_type": "markdown",
   "metadata": {},
   "source": [
    "## convert 28 to 14"
   ]
  },
  {
   "cell_type": "code",
   "execution_count": 10,
   "metadata": {
    "collapsed": false
   },
   "outputs": [],
   "source": [
    "cl28tocl14 = np.zeros(840,dtype=np.uint8)\n",
    "for idx,cl_28 in enumerate(results['label_found_28']):\n",
    "    cl_14 = int((float(cl_28-(cl_28%2)))/2)\n",
    "    #print(cl_28,'becomes',cl_14)\n",
    "    cl28tocl14[idx]=cl_14"
   ]
  },
  {
   "cell_type": "code",
   "execution_count": 11,
   "metadata": {
    "collapsed": false
   },
   "outputs": [
    {
     "name": "stdout",
     "output_type": "stream",
     "text": [
      "Accuracy: 0.828571428571\n",
      "pc_acc: [ 0.86206897  0.49180328  0.76363636  0.76470588  0.78181818  0.94827586\n",
      "  0.9516129   0.83333333  0.82352941  0.8852459   0.7826087   0.92982456\n",
      "  0.94827586  0.83561644]\n",
      "mean_accuracy: 0.82873968868\n"
     ]
    }
   ],
   "source": [
    "hist = fast_hist(np.asarray(results['label_gt']),cl28tocl14,14)\n",
    "acc = np.diag(hist).sum() / hist.sum()\n",
    "# per-class accuracy\n",
    "pc_acc = np.diag(hist) / hist.sum(1)\n",
    "mean_accuracy= np.nanmean(pc_acc)\n",
    "\n",
    "print(\"Accuracy:\",acc)\n",
    "print(\"pc_acc:\",pc_acc)\n",
    "print(\"mean_accuracy:\",mean_accuracy)"
   ]
  },
  {
   "cell_type": "code",
   "execution_count": 12,
   "metadata": {
    "collapsed": false
   },
   "outputs": [
    {
     "name": "stdout",
     "output_type": "stream",
     "text": [
      "Mean time per sequence : 236 ms\n"
     ]
    }
   ],
   "source": [
    "print(\"Mean time per sequence :\",int(round(np.mean(results['time_millisecond']))),'ms')"
   ]
  },
  {
   "cell_type": "markdown",
   "metadata": {},
   "source": [
    "## Sauvegarde des fichiers resultats"
   ]
  },
  {
   "cell_type": "markdown",
   "metadata": {},
   "source": [
    "#### id_gesture     id_finger    id_subject    id_essai    label_found    time_millisecond"
   ]
  },
  {
   "cell_type": "code",
   "execution_count": 16,
   "metadata": {
    "collapsed": true
   },
   "outputs": [],
   "source": [
    "resultsfile14 = open('/home/jguerry/workspace/SHRECmodels/results14.txt','w+')\n",
    "resultsfile28 = open('/home/jguerry/workspace/SHRECmodels/results28.txt','w+')\n",
    "readmefiles = open('/home/jguerry/workspace/SHRECmodels/readme.txt','w+')"
   ]
  },
  {
   "cell_type": "code",
   "execution_count": 17,
   "metadata": {
    "collapsed": false
   },
   "outputs": [],
   "source": [
    "for idx in log_progress(range(net.layers[0].nb_images), title='iteration', end_msg='Finished !',removeAtTheEnd=True):\n",
    "    \n",
    "    id_gesture = results['id_gesture'][idx]\n",
    "    id_finger = results['id_finger'][idx]\n",
    "    id_subject = results['id_subject'][idx]\n",
    "    id_essai = results['id_essai'][idx]\n",
    "    label_found_28 = results['label_found_28'][idx]+1\n",
    "    label_found_14 = cl28tocl14[idx]+1\n",
    "    time_millisecond = results['time_millisecond'][idx]\n",
    "    \n",
    "    \n",
    "    print(id_gesture,id_finger,id_subject,id_essai,label_found_14,time_millisecond, file=resultsfile14)\n",
    "    print(id_gesture,id_finger,id_subject,id_essai,label_found_28,time_millisecond, file=resultsfile28)\n",
    "print(\"\\\n",
    "       +-----------------------------------------------------------------------------+\\n\\\n",
    "       |  GeForce GTX 1070   Driver Version: 375.26   8112MiB                        |\\n\\\n",
    "       +-----------------------------------------------------------------------------+\\n\\\n",
    "       |  Intel(R) Xeon(R) CPU E5-1620 v4 @ 3.50GHz                                  |\\n\\\n",
    "       |  32GB RAM                                                                   |\\n\\\n",
    "       +-----------------------------------------------------------------------------+\\n\\\n",
    "\", file=readmefiles)"
   ]
  },
  {
   "cell_type": "code",
   "execution_count": 18,
   "metadata": {
    "collapsed": true
   },
   "outputs": [],
   "source": [
    "resultsfile14.close()\n",
    "resultsfile28.close()\n",
    "readmefiles.close()"
   ]
  },
  {
   "cell_type": "code",
   "execution_count": null,
   "metadata": {
    "collapsed": false
   },
   "outputs": [],
   "source": []
  }
 ],
 "metadata": {
  "anaconda-cloud": {},
  "celltoolbar": "Raw Cell Format",
  "kernelspec": {
   "display_name": "Python [conda env:jg_pfr]",
   "language": "python",
   "name": "conda-env-jg_pfr-py"
  },
  "language_info": {
   "codemirror_mode": {
    "name": "ipython",
    "version": 2
   },
   "file_extension": ".py",
   "mimetype": "text/x-python",
   "name": "python",
   "nbconvert_exporter": "python",
   "pygments_lexer": "ipython2",
   "version": "2.7.12"
  }
 },
 "nbformat": 4,
 "nbformat_minor": 1
}
