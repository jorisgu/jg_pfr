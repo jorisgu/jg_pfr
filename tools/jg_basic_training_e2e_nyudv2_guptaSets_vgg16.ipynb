{
 "cells": [
  {
   "cell_type": "code",
   "execution_count": 1,
   "metadata": {
    "collapsed": true
   },
   "outputs": [],
   "source": [
    "#!/usr/bin/env python\n",
    "\n",
    "# --------------------------------------------------------\n",
    "# Py Faster R-CNN train notebook \n",
    "# based on py-faster-rcnn Written by Ross Girshick from Microsoft (MIT License)\n",
    "# Edited by Joris GUERRY from ONERA\n",
    "# --------------------------------------------------------\n",
    "\n",
    "\"\"\"Train a Faster R-CNN network using alternating optimization.\n",
    "This tool implements the alternating optimization algorithm described in our\n",
    "NIPS 2015 paper (\"Faster R-CNN: Towards Real-time Object Detection with Region\n",
    "Proposal Networks.\" Shaoqing Ren, Kaiming He, Ross Girshick, Jian Sun.)\n",
    "\"\"\"\n",
    "\n",
    "import _init_paths\n",
    "from fast_rcnn.train import get_training_roidb, train_net\n",
    "from fast_rcnn.config import cfg, cfg_from_file, cfg_from_list, get_output_dir\n",
    "from datasets.factory import get_imdb\n",
    "from rpn.generate import imdb_proposals\n",
    "import argparse\n",
    "import pprint\n",
    "import numpy as np\n",
    "import sys, os\n",
    "import multiprocessing as mp\n",
    "import cPickle\n",
    "import shutil\n",
    "\n",
    "from utils.timer import Timer\n",
    "\n",
    "import caffe\n",
    "from caffe.proto import caffe_pb2\n",
    "import google.protobuf as pb2\n",
    "\n",
    "from IPython.display import Image\n",
    "from IPython.display import clear_output\n",
    "import matplotlib\n",
    "import matplotlib.pyplot as plt\n",
    "%matplotlib inline "
   ]
  },
  {
   "cell_type": "code",
   "execution_count": 2,
   "metadata": {
    "collapsed": true
   },
   "outputs": [],
   "source": [
    "def parse_args():\n",
    "    \"\"\"\n",
    "    Parse input arguments\n",
    "    \"\"\"\n",
    "    parser = argparse.ArgumentParser(description='Train a RPN')\n",
    "    parser.add_argument('--gpu_id', dest='gpu_id', type=int)\n",
    "    parser.add_argument('--max_iters', dest='max_iters', type=int)\n",
    "    parser.add_argument('--path_net_proto', dest='path_net_proto', type=str)\n",
    "    parser.add_argument('--path_net_weights', dest='path_net_weights', type=str)\n",
    "    parser.add_argument('--imdb_name', dest='imdb_name',type=str)\n",
    "    parser.add_argument('--path_cfg', dest='path_cfg',type=str)\n",
    "    parser.add_argument('--output_dir', dest='output_dir', type=str)\n",
    "    parser.add_argument('--output_file_name', dest='output_file_name', type=str)\n",
    "    parser.add_argument('--path_proposal', dest='path_proposal', type=str)\n",
    "\n",
    "    if len(sys.argv) == 1:\n",
    "        parser.print_help()\n",
    "        sys.exit(1)\n",
    "\n",
    "    args = parser.parse_args()\n",
    "    return args\n",
    "\n",
    "def get_roidb(imdb_name, rpn_file=None):\n",
    "    print 'Requiring dataset `{:s}` for training'.format(imdb_name)\n",
    "    imdb = get_imdb(imdb_name)\n",
    "    print 'Loaded dataset `{:s}` for training'.format(imdb.name)\n",
    "    imdb.set_proposal_method(cfg.TRAIN.PROPOSAL_METHOD)\n",
    "    print 'Set proposal method: {:s}'.format(cfg.TRAIN.PROPOSAL_METHOD)\n",
    "    if rpn_file is not None:\n",
    "        imdb.config['rpn_file'] = rpn_file\n",
    "    print 'config[rpn_file]: {:s}'.format(imdb.config['rpn_file'])\n",
    "    roidb = get_training_roidb(imdb)\n",
    "    return roidb, imdb\n",
    "\n",
    "def _init_caffe(cfg):\n",
    "    \"\"\"Initialize pycaffe in a training process.\n",
    "    \"\"\"\n",
    "\n",
    "    import caffe\n",
    "    # fix the random seeds (numpy and caffe) for reproducibility\n",
    "    np.random.seed(cfg.RNG_SEED)\n",
    "    caffe.set_random_seed(cfg.RNG_SEED)\n",
    "    # set up caffe\n",
    "    caffe.set_mode_gpu()\n",
    "    caffe.set_device(cfg.GPU_ID)\n",
    "def filter_roidb(roidb):\n",
    "    \"\"\"Remove roidb entries that have no usable RoIs.\"\"\"\n",
    "\n",
    "    def is_valid(entry):\n",
    "        # Valid images have:\n",
    "        #   (1) At least one foreground RoI OR\n",
    "        #   (2) At least one background RoI\n",
    "        overlaps = entry['max_overlaps']\n",
    "        # find boxes with sufficient overlap\n",
    "        fg_inds = np.where(overlaps >= cfg.TRAIN.FG_THRESH)[0]\n",
    "        # Select background RoIs as those within [BG_THRESH_LO, BG_THRESH_HI)\n",
    "        bg_inds = np.where((overlaps < cfg.TRAIN.BG_THRESH_HI) &\n",
    "                           (overlaps >= cfg.TRAIN.BG_THRESH_LO))[0]\n",
    "        # image is only valid if such boxes exist\n",
    "        valid = len(fg_inds) > 0 or len(bg_inds) > 0\n",
    "        return valid\n",
    "\n",
    "    num = len(roidb)\n",
    "    filtered_roidb = [entry for entry in roidb if is_valid(entry)]\n",
    "    num_after = len(filtered_roidb)\n",
    "    print 'Filtered {} roidb entries: {} -> {}'.format(num - num_after,\n",
    "                                                       num, num_after)\n",
    "    return filtered_roidb\n",
    "\n",
    "\n"
   ]
  },
  {
   "cell_type": "code",
   "execution_count": 13,
   "metadata": {
    "collapsed": false
   },
   "outputs": [
    {
     "name": "stdout",
     "output_type": "stream",
     "text": [
      "{'DATA_DIR': '/home/jogue/workspace/jg_pfr/data',\n",
      " 'DEDUP_BOXES': 0.0625,\n",
      " 'EPS': 1e-14,\n",
      " 'EXP_DIR': 'faster_rcnn_end2end',\n",
      " 'GPU_ID': 0,\n",
      " 'MATLAB': 'matlab',\n",
      " 'MODELS_DIR': '/home/jogue/workspace/jg_pfr/models/pascal_voc',\n",
      " 'PIXEL_MEANS': array([[[ 102.9801,  115.9465,  122.7717]]]),\n",
      " 'RNG_SEED': 3,\n",
      " 'ROOT_DIR': '/home/jogue/workspace/jg_pfr',\n",
      " 'TEST': {'BBOX_REG': True,\n",
      "          'HAS_RPN': True,\n",
      "          'MAX_SIZE': 1000,\n",
      "          'NMS': 0.3,\n",
      "          'PROPOSAL_METHOD': 'selective_search',\n",
      "          'RPN_MIN_SIZE': 16,\n",
      "          'RPN_NMS_THRESH': 0.7,\n",
      "          'RPN_POST_NMS_TOP_N': 300,\n",
      "          'RPN_PRE_NMS_TOP_N': 6000,\n",
      "          'SCALES': [600],\n",
      "          'SVM': False},\n",
      " 'TRAIN': {'ASPECT_GROUPING': True,\n",
      "           'BATCH_SIZE': 256,\n",
      "           'BBOX_INSIDE_WEIGHTS': [1.0, 1.0, 1.0, 1.0],\n",
      "           'BBOX_NORMALIZE_MEANS': [0.0, 0.0, 0.0, 0.0],\n",
      "           'BBOX_NORMALIZE_STDS': [0.1, 0.1, 0.2, 0.2],\n",
      "           'BBOX_NORMALIZE_TARGETS': True,\n",
      "           'BBOX_NORMALIZE_TARGETS_PRECOMPUTED': True,\n",
      "           'BBOX_REG': True,\n",
      "           'BBOX_THRESH': 0.5,\n",
      "           'BG_THRESH_HI': 0.5,\n",
      "           'BG_THRESH_LO': 0.0,\n",
      "           'FG_FRACTION': 0.25,\n",
      "           'FG_THRESH': 0.5,\n",
      "           'HAS_RPN': True,\n",
      "           'IMS_PER_BATCH': 1,\n",
      "           'MAX_SIZE': 1000,\n",
      "           'PROPOSAL_METHOD': 'gt',\n",
      "           'RPN_BATCHSIZE': 256,\n",
      "           'RPN_BBOX_INSIDE_WEIGHTS': [1.0, 1.0, 1.0, 1.0],\n",
      "           'RPN_CLOBBER_POSITIVES': False,\n",
      "           'RPN_FG_FRACTION': 0.5,\n",
      "           'RPN_MIN_SIZE': 16,\n",
      "           'RPN_NEGATIVE_OVERLAP': 0.3,\n",
      "           'RPN_NMS_THRESH': 0.7,\n",
      "           'RPN_POSITIVE_OVERLAP': 0.7,\n",
      "           'RPN_POSITIVE_WEIGHT': -1.0,\n",
      "           'RPN_POST_NMS_TOP_N': 2000,\n",
      "           'RPN_PRE_NMS_TOP_N': 12000,\n",
      "           'SCALES': [600],\n",
      "           'SNAPSHOT_INFIX': '',\n",
      "           'SNAPSHOT_ITERS': 10000,\n",
      "           'USE_FLIPPED': True,\n",
      "           'USE_PREFETCH': False},\n",
      " 'USE_GPU_NMS': True}\n"
     ]
    }
   ],
   "source": [
    "path_net_weights = '/home/jogue/workspace/caffemodels/nyud-fcn32s-color-heavy.caffemodel'\n",
    "#path_net_weights = '/home/jogue/workspace/caffemodels/nyud-fcn32s-color-heavy.caffemodel'\n",
    "\n",
    "solver_prototxt = '/home/jogue/workspace/jg_pfr/models/nyud_v2_40gupta/VGG16_from_FCN/faster_rcnn_end2end/solver_fcn.prototxt'\n",
    "solver_prototxt = '/home/jogue/workspace/jg_pfr/models/nyud_v2_40gupta/VGG16_from_FCN/faster_rcnn_end2end/solver_fcn_loosen.prototxt'\n",
    "#solver_prototxt = '/home/jogue/workspace/jg_pfr/models/nyud_v2_40gupta/VGG16/jg_faster_rcnn_end2end'\n",
    "\n",
    "\n",
    "\n",
    "path_proposal = '/home/jogue/workspace/jg_pfr/output/2017janvier22/'\n",
    "output_dir = '/home/jogue/workspace/jg_pfr/output/2017janvier22/'\n",
    "imdb_train_name = 'nyud_v2_trainvalGupta_rgb_i_100_8bits'\n",
    "imdb_test_name = 'nyud_v2_testGupta_rgb_i_100_8bits'\n",
    "\n",
    "\n",
    "cfg_from_file('/home/jogue/workspace/jg_pfr/experiments/cfgs/nyud_v2_40gupta/cfg_end2end.yml')\n",
    "cfg.GPU_ID = 0\n",
    "\n",
    "\n",
    "\n",
    "#print 'Init model: {}'.format(path_net_weights)\n",
    "#print 'RPN proposals: {}'.format(path_proposal)\n",
    "#print('Using config:')\n",
    "pprint.pprint(cfg)"
   ]
  },
  {
   "cell_type": "code",
   "execution_count": 4,
   "metadata": {
    "collapsed": false
   },
   "outputs": [
    {
     "name": "stdout",
     "output_type": "stream",
     "text": [
      "-----------------------------------------------------------------------------------\n",
      "-----------------------------------------------------------------------------------\n",
      "Requiring dataset `nyud_v2_trainvalGupta_rgb_i_100_8bits` for training\n",
      "self.num_classes = 41\n",
      "Loaded dataset `nyud_v2_trainvalGupta_rgb_i_100_8bits` for training\n",
      "Set proposal method: gt\n",
      "config[rpn_file]: /home/jogue/workspace/jg_pfr/output/2017janvier22/\n",
      "Appending horizontally-flipped training examples...\n",
      "nyud_v2_trainvalGupta_rgb_i_100_8bits gt roidb loaded from /home/jogue/workspace/jg_pfr/data/cache/nyud_v2_trainvalGupta_rgb_i_100_8bits_gt_roidb.pkl\n",
      "done\n",
      "Preparing training data...\n",
      "done\n",
      "Filtered 0 roidb entries: 1590 -> 1590\n",
      "-----------------------------------------------------------------------------------\n",
      "Requiring dataset `nyud_v2_testGupta_rgb_i_100_8bits` for training\n",
      "self.num_classes = 41\n",
      "Loaded dataset `nyud_v2_testGupta_rgb_i_100_8bits` for training\n",
      "Set proposal method: gt\n",
      "config[rpn_file]: /home/jogue/workspace/jg_pfr/output/2017janvier22/\n",
      "Appending horizontally-flipped training examples...\n",
      "nyud_v2_testGupta_rgb_i_100_8bits gt roidb loaded from /home/jogue/workspace/jg_pfr/data/cache/nyud_v2_testGupta_rgb_i_100_8bits_gt_roidb.pkl\n",
      "done\n",
      "Preparing training data...\n",
      "done\n",
      "Filtered 0 roidb entries: 1308 -> 1308\n",
      "-----------------------------------------------------------------------------------\n",
      "Computing bounding-box regression targets...\n",
      "num class in add_bbox_regression_targets : 41\n",
      "Normalizing targets\n",
      "num class in add_bbox_regression_targets : 41\n",
      "Normalizing targets\n",
      "-----------------------------------------------------------------------------------\n"
     ]
    }
   ],
   "source": [
    "print '-----------------------------------------------------------------------------------'\n",
    "_init_caffe(cfg)\n",
    "print '-----------------------------------------------------------------------------------'\n",
    "roidb_train, imdb_train = get_roidb(imdb_train_name, rpn_file=path_proposal)\n",
    "roidb_train = filter_roidb(roidb_train)\n",
    "print '-----------------------------------------------------------------------------------'\n",
    "roidb_test, imdb_test = get_roidb(imdb_test_name, rpn_file=path_proposal)\n",
    "roidb_test = filter_roidb(roidb_test)\n",
    "print '-----------------------------------------------------------------------------------'\n",
    "print 'Computing bounding-box regression targets...'\n",
    "import roi_data_layer.roidb as rdl_roidb\n",
    "bbox_means_train, bbox_stds_train = rdl_roidb.add_bbox_regression_targets(roidb_train)\n",
    "bbox_means_test, bbox_stds_test = rdl_roidb.add_bbox_regression_targets(roidb_test)\n",
    "print '-----------------------------------------------------------------------------------'\n",
    "solver_param = caffe_pb2.SolverParameter()\n",
    "with open(solver_prototxt, 'rt') as f:\n",
    "    pb2.text_format.Merge(f.read(), solver_param)\n",
    "max_iters = solver_param.max_iter"
   ]
  },
  {
   "cell_type": "code",
   "execution_count": 5,
   "metadata": {
    "collapsed": false
   },
   "outputs": [
    {
     "name": "stdout",
     "output_type": "stream",
     "text": [
      "RoiDataLayer: name_to_top: {'gt_boxes': 2, 'data': 0, 'im_info': 1}\n",
      "RoiDataLayer: name_to_top: {'gt_boxes': 2, 'data': 0, 'im_info': 1}\n"
     ]
    }
   ],
   "source": [
    "solver = caffe.SGDSolver(solver_prototxt)\n",
    "solver.net.copy_from(path_net_weights)"
   ]
  },
  {
   "cell_type": "code",
   "execution_count": 6,
   "metadata": {
    "collapsed": true
   },
   "outputs": [],
   "source": [
    "def snapshot(bbox_stds,bbox_means):\n",
    "        \"\"\"Take a snapshot of the network after unnormalizing the learned\n",
    "        bounding-box regression weights. This enables easy use at test-time.\n",
    "        \"\"\"\n",
    "        print \"Snapshotting...\"\n",
    "        scale_bbox_params = (cfg.TRAIN.BBOX_REG and\n",
    "                             cfg.TRAIN.BBOX_NORMALIZE_TARGETS and\n",
    "                             solver.net.params.has_key('bbox_pred'))\n",
    "\n",
    "        if scale_bbox_params:\n",
    "            # save original values\n",
    "            orig_0 = solver.net.params['bbox_pred'][0].data.copy()\n",
    "            orig_1 = solver.net.params['bbox_pred'][1].data.copy()\n",
    "\n",
    "            # scale and shift with bbox reg unnormalization; then save snapshot\n",
    "            solver.net.params['bbox_pred'][0].data[...] = (solver.net.params['bbox_pred'][0].data * bbox_stds[:, np.newaxis])\n",
    "            solver.net.params['bbox_pred'][1].data[...] = (solver.net.params['bbox_pred'][1].data * bbox_stds + bbox_means)\n",
    "\n",
    "        infix = ('_' + cfg.TRAIN.SNAPSHOT_INFIX if cfg.TRAIN.SNAPSHOT_INFIX != '' else '')\n",
    "        filename = (solver_param.snapshot_prefix + infix +\n",
    "                    '_iter_{:d}'.format(solver.iter) + '.caffemodel')\n",
    "        filename = os.path.join(output_dir, filename)\n",
    "\n",
    "        solver.net.save(str(filename))\n",
    "        print 'Wrote snapshot to: {:s}'.format(filename)\n",
    "\n",
    "        if scale_bbox_params:\n",
    "            # restore net to original state\n",
    "            solver.net.params['bbox_pred'][0].data[...] = orig_0\n",
    "            solver.net.params['bbox_pred'][1].data[...] = orig_1"
   ]
  },
  {
   "cell_type": "code",
   "execution_count": 7,
   "metadata": {
    "collapsed": false
   },
   "outputs": [],
   "source": [
    "solver.net.layers[0].set_roidb(roidb_train)\n",
    "solver.test_nets[0].layers[0].set_roidb(roidb_test)"
   ]
  },
  {
   "cell_type": "code",
   "execution_count": 8,
   "metadata": {
    "collapsed": false
   },
   "outputs": [
    {
     "name": "stdout",
     "output_type": "stream",
     "text": [
      "testing at 0\n"
     ]
    },
    {
     "name": "stderr",
     "output_type": "stream",
     "text": [
      "../lib/rpn/proposal_target_layer.py:166: VisibleDeprecationWarning: using a non-integer number instead of an integer will result in an error in the future\n",
      "  fg_inds = npr.choice(fg_inds, size=fg_rois_per_this_image, replace=False)\n",
      "../lib/rpn/proposal_target_layer.py:177: VisibleDeprecationWarning: using a non-integer number instead of an integer will result in an error in the future\n",
      "  bg_inds = npr.choice(bg_inds, size=bg_rois_per_this_image, replace=False)\n",
      "../lib/rpn/proposal_target_layer.py:184: VisibleDeprecationWarning: using a non-integer number instead of an integer will result in an error in the future\n",
      "  labels[fg_rois_per_this_image:] = 0\n",
      "../lib/rpn/proposal_target_layer.py:127: VisibleDeprecationWarning: using a non-integer number instead of an integer will result in an error in the future\n",
      "  bbox_targets[ind, start:end] = bbox_target_data[ind, 1:]\n",
      "../lib/rpn/proposal_target_layer.py:128: VisibleDeprecationWarning: using a non-integer number instead of an integer will result in an error in the future\n",
      "  bbox_inside_weights[ind, start:end] = cfg.TRAIN.BBOX_INSIDE_WEIGHTS\n",
      "../lib/fast_rcnn/bbox_transform.py:48: RuntimeWarning: overflow encountered in exp\n",
      "  pred_w = np.exp(dw) * widths[:, np.newaxis]\n",
      "../lib/fast_rcnn/bbox_transform.py:48: RuntimeWarning: overflow encountered in multiply\n",
      "  pred_w = np.exp(dw) * widths[:, np.newaxis]\n",
      "../lib/fast_rcnn/bbox_transform.py:49: RuntimeWarning: overflow encountered in exp\n",
      "  pred_h = np.exp(dh) * heights[:, np.newaxis]\n",
      "../lib/fast_rcnn/bbox_transform.py:49: RuntimeWarning: overflow encountered in multiply\n",
      "  pred_h = np.exp(dh) * heights[:, np.newaxis]\n",
      "../lib/fast_rcnn/bbox_transform.py:46: RuntimeWarning: overflow encountered in multiply\n",
      "  pred_ctr_x = dx * widths[:, np.newaxis] + ctr_x[:, np.newaxis]\n",
      "../lib/fast_rcnn/bbox_transform.py:47: RuntimeWarning: overflow encountered in multiply\n",
      "  pred_ctr_y = dy * heights[:, np.newaxis] + ctr_y[:, np.newaxis]\n",
      "../lib/fast_rcnn/bbox_transform.py:53: RuntimeWarning: invalid value encountered in subtract\n",
      "  pred_boxes[:, 0::4] = pred_ctr_x - 0.5 * pred_w\n",
      "../lib/fast_rcnn/bbox_transform.py:55: RuntimeWarning: invalid value encountered in subtract\n",
      "  pred_boxes[:, 1::4] = pred_ctr_y - 0.5 * pred_h\n",
      "../lib/fast_rcnn/bbox_transform.py:57: RuntimeWarning: invalid value encountered in add\n",
      "  pred_boxes[:, 2::4] = pred_ctr_x + 0.5 * pred_w\n",
      "../lib/fast_rcnn/bbox_transform.py:59: RuntimeWarning: invalid value encountered in add\n",
      "  pred_boxes[:, 3::4] = pred_ctr_y + 0.5 * pred_h\n",
      "../lib/rpn/proposal_layer.py:179: RuntimeWarning: invalid value encountered in greater_equal\n",
      "  keep = np.where((ws >= min_size) & (hs >= min_size))[0]\n"
     ]
    },
    {
     "ename": "KeyboardInterrupt",
     "evalue": "",
     "output_type": "error",
     "traceback": [
      "\u001b[0;31m---------------------------------------------------------------------------\u001b[0m",
      "\u001b[0;31mKeyboardInterrupt\u001b[0m                         Traceback (most recent call last)",
      "\u001b[0;32m<ipython-input-8-94d78e768b82>\u001b[0m in \u001b[0;36m<module>\u001b[0;34m()\u001b[0m\n\u001b[1;32m     16\u001b[0m         \u001b[0;32mprint\u001b[0m \u001b[0;34m\"testing at\"\u001b[0m\u001b[0;34m,\u001b[0m \u001b[0msolver\u001b[0m\u001b[0;34m.\u001b[0m\u001b[0miter\u001b[0m\u001b[0;34m\u001b[0m\u001b[0m\n\u001b[1;32m     17\u001b[0m     \u001b[0mtimer\u001b[0m\u001b[0;34m.\u001b[0m\u001b[0mtic\u001b[0m\u001b[0;34m(\u001b[0m\u001b[0;34m)\u001b[0m\u001b[0;34m\u001b[0m\u001b[0m\n\u001b[0;32m---> 18\u001b[0;31m     \u001b[0msolver\u001b[0m\u001b[0;34m.\u001b[0m\u001b[0mstep\u001b[0m\u001b[0;34m(\u001b[0m\u001b[0;36m1\u001b[0m\u001b[0;34m)\u001b[0m\u001b[0;34m\u001b[0m\u001b[0m\n\u001b[0m\u001b[1;32m     19\u001b[0m     \u001b[0mtimer\u001b[0m\u001b[0;34m.\u001b[0m\u001b[0mtoc\u001b[0m\u001b[0;34m(\u001b[0m\u001b[0;34m)\u001b[0m\u001b[0;34m\u001b[0m\u001b[0m\n\u001b[1;32m     20\u001b[0m     \u001b[0;31m#if solver.iter % solver_param.display == 0:\u001b[0m\u001b[0;34m\u001b[0m\u001b[0;34m\u001b[0m\u001b[0m\n",
      "\u001b[0;32m/home/jogue/workspace/jg_pfr/lib/rpn/anchor_target_layer.pyc\u001b[0m in \u001b[0;36mbackward\u001b[0;34m(self, top, propagate_down, bottom)\u001b[0m\n\u001b[1;32m    249\u001b[0m         \u001b[0mtop\u001b[0m\u001b[0;34m[\u001b[0m\u001b[0;36m3\u001b[0m\u001b[0;34m]\u001b[0m\u001b[0;34m.\u001b[0m\u001b[0mdata\u001b[0m\u001b[0;34m[\u001b[0m\u001b[0;34m.\u001b[0m\u001b[0;34m.\u001b[0m\u001b[0;34m.\u001b[0m\u001b[0;34m]\u001b[0m \u001b[0;34m=\u001b[0m \u001b[0mbbox_outside_weights\u001b[0m\u001b[0;34m\u001b[0m\u001b[0m\n\u001b[1;32m    250\u001b[0m \u001b[0;34m\u001b[0m\u001b[0m\n\u001b[0;32m--> 251\u001b[0;31m     \u001b[0;32mdef\u001b[0m \u001b[0mbackward\u001b[0m\u001b[0;34m(\u001b[0m\u001b[0mself\u001b[0m\u001b[0;34m,\u001b[0m \u001b[0mtop\u001b[0m\u001b[0;34m,\u001b[0m \u001b[0mpropagate_down\u001b[0m\u001b[0;34m,\u001b[0m \u001b[0mbottom\u001b[0m\u001b[0;34m)\u001b[0m\u001b[0;34m:\u001b[0m\u001b[0;34m\u001b[0m\u001b[0m\n\u001b[0m\u001b[1;32m    252\u001b[0m         \u001b[0;34m\"\"\"This layer does not propagate gradients.\"\"\"\u001b[0m\u001b[0;34m\u001b[0m\u001b[0m\n\u001b[1;32m    253\u001b[0m         \u001b[0;32mpass\u001b[0m\u001b[0;34m\u001b[0m\u001b[0m\n",
      "\u001b[0;31mKeyboardInterrupt\u001b[0m: "
     ]
    }
   ],
   "source": [
    "\"\"\"Network training loop.\"\"\"\n",
    "\n",
    "timer = Timer()\n",
    "list_iters = []\n",
    "list_accuracy_cls = []\n",
    "list_loss_bbox = []\n",
    "list_loss_cls = []\n",
    "list_rpn_accuracy_cls = []\n",
    "list_rpn_cls_loss = []\n",
    "list_rpn_loss_bbox = []\n",
    "\n",
    "\n",
    "while solver.iter < max_iters:\n",
    "    # Make one SGD update\n",
    "    #if solver.iter % solver_param.test_interval == 0:\n",
    "        #print \"testing at\", solver.iter\n",
    "    timer.tic()\n",
    "    solver.step(1)\n",
    "    timer.toc()\n",
    "    #if solver.iter % solver_param.display == 0:\n",
    "    list_iters.append(solver.iter)\n",
    "    list_accuracy_cls.append(float(solver.net.blobs['accuracy_cls'].data[...]))\n",
    "    list_loss_bbox.append(float(solver.net.blobs['loss_bbox'].data[...]))\n",
    "    list_loss_cls.append(float(solver.net.blobs['loss_cls'].data[...]))\n",
    "    list_rpn_accuracy_cls.append(float(solver.net.blobs['rpn_accuracy_cls'].data[...]))\n",
    "    list_rpn_cls_loss.append(float(solver.net.blobs['rpn_cls_loss'].data[...]))\n",
    "    list_rpn_loss_bbox.append(float(solver.net.blobs['rpn_loss_bbox'].data[...]))\n",
    "    \n",
    "    if solver.iter % 100 == 0:\n",
    "        clear_output()\n",
    "        plt.close('all')\n",
    "        \n",
    "        fig, ax = plt.subplots()\n",
    "        ax.plot(list_iters, list_loss_cls, 'r', label='loss_cls')\n",
    "        ax.plot(list_iters, list_loss_bbox, 'r--', label='loss_bbox')\n",
    "        ax.legend(loc='upper center', shadow=True, fontsize='x-large')\n",
    "        fig, ax = plt.subplots()\n",
    "        ax.plot(list_iters, list_rpn_cls_loss, 'b', label='rpn_cls_loss')\n",
    "        ax.plot(list_iters, list_rpn_loss_bbox, 'b--', label='rpn_loss_bbox')\n",
    "        ax.legend(loc='upper center', shadow=True, fontsize='x-large')\n",
    "        fig, ax = plt.subplots()\n",
    "        ax.plot(list_iters, list_accuracy_cls, 'r', label='accuracy_cls')\n",
    "        ax.plot(list_iters, list_rpn_accuracy_cls, 'b', label='rpn_accuracy_cls')\n",
    "        ax.legend(loc='upper center', shadow=True, fontsize='x-large')\n",
    "        plt.show()\n",
    "        #print( 'Avancement ['+str(rank)+']: ' + \"{0:.2f}\".format(round((100.0*float(rank)/float(len(paths_imgs))),2)) + '%')\n",
    "        #print( 'Accuracy : ' + \"{0:.2f}\".format(round((100.0*float(sum(accuracy_saving))/float(len(accuracy_saving))),2)) + '%')\n",
    "        #plt.plot(loss_saving)\n",
    "        #plt.plot(accuracy_saving)\n",
    "        #plt.ylim([0, 0.25])\n",
    "        #plt.show()\n",
    "\n",
    "    if solver.iter % 795 == 0:\n",
    "        snapshot(bbox_means_train, bbox_stds_train)\n",
    "    #    last_snapshot_iter = self.solver.iter\n",
    "    #    model_paths.append(self.snapshot())\n",
    "\n",
    "    #if last_snapshot_iter != self.solver.iter:\n",
    "    #model_paths.append(self.snapshot())\n",
    "#return model_paths"
   ]
  },
  {
   "cell_type": "code",
   "execution_count": 9,
   "metadata": {
    "collapsed": false
   },
   "outputs": [
    {
     "data": {
      "image/png": "[encoded data removed]",
      "text/plain": [
       "<matplotlib.figure.Figure at 0x7f6b3719f8d0>"
      ]
     },
     "metadata": {},
     "output_type": "display_data"
    },
    {
     "data": {
      "image/png": "[encoded data removed]",
      "text/plain": [
       "<matplotlib.figure.Figure at 0x7f6b3724a890>"
      ]
     },
     "metadata": {},
     "output_type": "display_data"
    },
    {
     "data": {
      "image/png": "[encoded data removed]",
      "text/plain": [
       "<matplotlib.figure.Figure at 0x7f6b37185690>"
      ]
     },
     "metadata": {},
     "output_type": "display_data"
    }
   ],
   "source": [
    "fig, ax = plt.subplots()\n",
    "ax.plot(list_iters, list_loss_cls, 'r', label='loss_cls')\n",
    "ax.plot(list_iters, list_loss_bbox, 'r--', label='loss_bbox')\n",
    "ax.legend(loc='upper center', shadow=True, fontsize='x-large')\n",
    "fig, ax = plt.subplots()\n",
    "ax.plot(list_iters, list_rpn_cls_loss, 'b', label='rpn_cls_loss')\n",
    "ax.plot(list_iters, list_rpn_loss_bbox, 'b--', label='rpn_loss_bbox')\n",
    "ax.legend(loc='upper center', shadow=True, fontsize='x-large')\n",
    "fig, ax = plt.subplots()\n",
    "ax.plot(list_iters, list_accuracy_cls, 'r', label='accuracy_cls')\n",
    "ax.plot(list_iters, list_rpn_accuracy_cls, 'b', label='rpn_accuracy_cls')\n",
    "ax.legend(loc='upper center', shadow=True, fontsize='x-large')\n",
    "#plt.plot(list_iters, list_loss_bbox, list_iters, list_loss_cls, list_iters, list_rpn_accuracy_cls, list_iters, list_rpn_cls_loss, list_iters, list_rpn_loss_bbox)\n",
    "\n",
    "\n",
    "\n",
    "plt.show()"
   ]
  },
  {
   "cell_type": "code",
   "execution_count": 10,
   "metadata": {
    "collapsed": false
   },
   "outputs": [],
   "source": [
    "\n",
    "\n",
    "#plt.plot(list_iters, list_loss_bbox, list_iters, list_loss_cls, list_iters, list_rpn_accuracy_cls, list_iters, list_rpn_cls_loss, list_iters, list_rpn_loss_bbox)\n",
    "\n",
    "\n",
    "\n",
    "plt.show()"
   ]
  },
  {
   "cell_type": "code",
   "execution_count": 11,
   "metadata": {
    "collapsed": true
   },
   "outputs": [],
   "source": [
    "#fig, ax = plt.subplots()\n",
    "#ax.hold(True)\n",
    "#plt.show(False)\n",
    "#plt.draw()\n",
    "#points = ax.plot(list_iters, list_accuracy_cls, 'o')[0]\n",
    "#plt.ion()\n",
    "#print list_iters\n",
    "        #print list_rpn_loss_bbox\n",
    "        #print '----------------------------------------------------------'\n",
    "        #print '-----------------------',solver.iter,'-------------------------'\n",
    "        #print 'loss_bbox',solver.net.blobs['loss_bbox'].data\n",
    "        #print 'loss_cls',solver.net.blobs['loss_cls'].data\n",
    "        #print 'rpn_accuracy_cls',solver.net.blobs['rpn_accuracy_cls'].data\n",
    "        #print 'rpn_cls_loss',solver.net.blobs['rpn_cls_loss'].data\n",
    "        #print 'rpn_loss_bbox',solver.net.blobs['rpn_loss_bbox'].data\n",
    "        \n",
    "        #fig, ax = plt.subplots()\n",
    "        #http://stackoverflow.com/questions/11874767/real-time-plotting-in-while-loop-with-matplotlib\n",
    "        #points.set_data(list_iters, list_accuracy_cls)\n",
    "        #ax.plot(list_iters, list_accuracy_cls, 'g--', label='accuracy_cls')\n",
    "        #ax.plot(list_iters, list_loss_bbox, 'g', label='loss_bbox')\n",
    "        #ax.plot(list_iters, list_loss_cls, 'r', label='loss_cls')\n",
    "        #ax.plot(list_iters, list_rpn_accuracy_cls, 'b--', label='rpn_accuracy_cls')\n",
    "        #ax.plot(list_iters, list_rpn_cls_loss, 'b', label='rpn_cls_loss')\n",
    "        #ax.plot(list_iters, list_rpn_loss_bbox, 'c', label='rpn_loss_bbox')\n",
    "        \n",
    "        #plt.plot(list_iters, list_loss_bbox, list_iters, list_loss_cls, list_iters, list_rpn_accuracy_cls, list_iters, list_rpn_cls_loss, list_iters, list_rpn_loss_bbox)\n",
    "        #fig.canvas.draw()\n",
    "        \n",
    "        #plt.pause(0.05)\n",
    "        #plt.show()"
   ]
  },
  {
   "cell_type": "code",
   "execution_count": 12,
   "metadata": {
    "collapsed": true
   },
   "outputs": [],
   "source": [
    "del solver"
   ]
  },
  {
   "cell_type": "code",
   "execution_count": null,
   "metadata": {
    "collapsed": true
   },
   "outputs": [],
   "source": []
  }
 ],
 "metadata": {
  "anaconda-cloud": {},
  "kernelspec": {
   "display_name": "Python [default]",
   "language": "python",
   "name": "python2"
  },
  "language_info": {
   "codemirror_mode": {
    "name": "ipython",
    "version": 2
   },
   "file_extension": ".py",
   "mimetype": "text/x-python",
   "name": "python",
   "nbconvert_exporter": "python",
   "pygments_lexer": "ipython2",
   "version": "2.7.13"
  }
 },
 "nbformat": 4,
 "nbformat_minor": 2
}
