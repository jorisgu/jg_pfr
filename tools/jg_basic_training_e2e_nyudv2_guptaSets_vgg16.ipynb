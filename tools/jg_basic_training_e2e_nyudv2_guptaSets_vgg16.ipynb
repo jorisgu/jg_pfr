{
 "cells": [
  {
   "cell_type": "code",
   "execution_count": 1,
   "metadata": {
    "collapsed": true
   },
   "outputs": [],
   "source": [
    "#!/usr/bin/env python\n",
    "\n",
    "# --------------------------------------------------------\n",
    "# Py Faster R-CNN train notebook \n",
    "# based on py-faster-rcnn Written by Ross Girshick from Microsoft (MIT License)\n",
    "# Edited by Joris GUERRY from ONERA\n",
    "# --------------------------------------------------------\n",
    "\n",
    "\"\"\"Train a Faster R-CNN network using alternating optimization.\n",
    "This tool implements the alternating optimization algorithm described in our\n",
    "NIPS 2015 paper (\"Faster R-CNN: Towards Real-time Object Detection with Region\n",
    "Proposal Networks.\" Shaoqing Ren, Kaiming He, Ross Girshick, Jian Sun.)\n",
    "\"\"\"\n",
    "\n",
    "import _init_paths\n",
    "from fast_rcnn.train import get_training_roidb, train_net\n",
    "from fast_rcnn.config import cfg, cfg_from_file, cfg_from_list, get_output_dir\n",
    "from datasets.factory import get_imdb\n",
    "from rpn.generate import imdb_proposals\n",
    "import argparse\n",
    "import pprint\n",
    "import numpy as np\n",
    "import sys, os\n",
    "import multiprocessing as mp\n",
    "import cPickle\n",
    "import shutil"
   ]
  },
  {
   "cell_type": "code",
   "execution_count": null,
   "metadata": {
    "collapsed": true
   },
   "outputs": [],
   "source": []
  }
 ],
 "metadata": {
  "kernelspec": {
   "display_name": "Python 2",
   "language": "python",
   "name": "python2"
  },
  "language_info": {
   "codemirror_mode": {
    "name": "ipython",
    "version": 2
   },
   "file_extension": ".py",
   "mimetype": "text/x-python",
   "name": "python",
   "nbconvert_exporter": "python",
   "pygments_lexer": "ipython2",
   "version": "2.7.12"
  }
 },
 "nbformat": 4,
 "nbformat_minor": 2
}
