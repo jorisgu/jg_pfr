{
 "cells": [
  {
   "cell_type": "code",
   "execution_count": 3,
   "metadata": {
    "collapsed": false
   },
   "outputs": [],
   "source": [
    "import _init_paths\n",
    "import numpy as np\n",
    "import sys, os"
   ]
  },
  {
   "cell_type": "code",
   "execution_count": null,
   "metadata": {
    "collapsed": true
   },
   "outputs": [],
   "source": []
  },
  {
   "cell_type": "code",
   "execution_count": 4,
   "metadata": {
    "collapsed": true
   },
   "outputs": [],
   "source": [
    "import caffe\n",
    "caffe.set_mode_gpu()\n",
    "caffe.set_device(0)"
   ]
  },
  {
   "cell_type": "code",
   "execution_count": 7,
   "metadata": {
    "collapsed": false
   },
   "outputs": [],
   "source": [
    "# solves, iters, etc. for each training stage\n",
    "path_test_prototxt = '/home/jguerry/workspace/jg_pfr/models/nyud_v2_40gupta/VGG_CNN_M_1024/faster_rcnn_alt_opt/faster_rcnn_test.pt'\n"
   ]
  },
  {
   "cell_type": "markdown",
   "metadata": {},
   "source": [
    "### Load network"
   ]
  },
  {
   "cell_type": "code",
   "execution_count": 8,
   "metadata": {
    "collapsed": false
   },
   "outputs": [],
   "source": [
    "net = caffe.Net(path_test_prototxt, caffe.TEST)   "
   ]
  },
  {
   "cell_type": "markdown",
   "metadata": {},
   "source": [
    "#### blobs"
   ]
  },
  {
   "cell_type": "code",
   "execution_count": 26,
   "metadata": {
    "collapsed": false
   },
   "outputs": [
    {
     "data": {
      "text/plain": [
       "[('data', (1, 3, 224, 224)),\n",
       " ('im_info', (1, 3)),\n",
       " ('conv1', (1, 96, 109, 109)),\n",
       " ('norm1', (1, 96, 109, 109)),\n",
       " ('pool1', (1, 96, 54, 54)),\n",
       " ('conv2', (1, 256, 26, 26)),\n",
       " ('norm2', (1, 256, 26, 26)),\n",
       " ('pool2', (1, 256, 13, 13)),\n",
       " ('conv3', (1, 512, 13, 13)),\n",
       " ('conv4', (1, 512, 13, 13)),\n",
       " ('conv5', (1, 512, 13, 13)),\n",
       " ('conv5_relu5_0_split_0', (1, 512, 13, 13)),\n",
       " ('conv5_relu5_0_split_1', (1, 512, 13, 13)),\n",
       " ('rpn/output', (1, 256, 13, 13)),\n",
       " ('rpn/output_rpn_relu/3x3_0_split_0', (1, 256, 13, 13)),\n",
       " ('rpn/output_rpn_relu/3x3_0_split_1', (1, 256, 13, 13)),\n",
       " ('rpn_cls_score', (1, 18, 13, 13)),\n",
       " ('rpn_bbox_pred', (1, 36, 13, 13)),\n",
       " ('rpn_cls_score_reshape', (1, 2, 117, 13)),\n",
       " ('rpn_cls_prob', (1, 2, 117, 13)),\n",
       " ('rpn_cls_prob_reshape', (1, 18, 13, 13)),\n",
       " ('rois', (1, 5)),\n",
       " ('pool5', (1, 512, 6, 6)),\n",
       " ('fc6', (1, 4096)),\n",
       " ('fc7', (1, 1024)),\n",
       " ('fc7_relu7_0_split_0', (1, 1024)),\n",
       " ('fc7_relu7_0_split_1', (1, 1024)),\n",
       " ('cls_score', (1, 41)),\n",
       " ('bbox_pred', (1, 164)),\n",
       " ('cls_prob', (1, 41))]"
      ]
     },
     "execution_count": 26,
     "metadata": {},
     "output_type": "execute_result"
    }
   ],
   "source": [
    "a = [(k, v.data.shape) for k, v in net.blobs.items()]"
   ]
  },
  {
   "cell_type": "markdown",
   "metadata": {},
   "source": [
    "#### layers"
   ]
  },
  {
   "cell_type": "code",
   "execution_count": 27,
   "metadata": {
    "collapsed": false
   },
   "outputs": [
    {
     "data": {
      "text/plain": [
       "[('conv1', (96, 3, 7, 7), (96,)),\n",
       " ('conv2', (256, 96, 5, 5), (256,)),\n",
       " ('conv3', (512, 256, 3, 3), (512,)),\n",
       " ('conv4', (512, 512, 3, 3), (512,)),\n",
       " ('conv5', (512, 512, 3, 3), (512,)),\n",
       " ('rpn_conv/3x3', (256, 512, 3, 3), (256,)),\n",
       " ('rpn_cls_score', (18, 256, 1, 1), (18,)),\n",
       " ('rpn_bbox_pred', (36, 256, 1, 1), (36,)),\n",
       " ('fc6', (4096, 18432), (4096,)),\n",
       " ('fc7', (1024, 4096), (1024,)),\n",
       " ('cls_score', (41, 1024), (41,)),\n",
       " ('bbox_pred', (164, 1024), (164,))]"
      ]
     },
     "execution_count": 27,
     "metadata": {},
     "output_type": "execute_result"
    }
   ],
   "source": [
    "[(k, v[0].data.shape, v[1].data.shape) for k, v in net.params.items()]"
   ]
  },
  {
   "cell_type": "code",
   "execution_count": null,
   "metadata": {
    "collapsed": true
   },
   "outputs": [],
   "source": []
  }
 ],
 "metadata": {
  "kernelspec": {
   "display_name": "Python [Root]",
   "language": "python",
   "name": "Python [Root]"
  },
  "language_info": {
   "codemirror_mode": {
    "name": "ipython",
    "version": 2
   },
   "file_extension": ".py",
   "mimetype": "text/x-python",
   "name": "python",
   "nbconvert_exporter": "python",
   "pygments_lexer": "ipython2",
   "version": "2.7.12"
  }
 },
 "nbformat": 4,
 "nbformat_minor": 0
}
