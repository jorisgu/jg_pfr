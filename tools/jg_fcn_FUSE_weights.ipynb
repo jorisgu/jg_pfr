{
 "cells": [
  {
   "cell_type": "code",
   "execution_count": 1,
   "metadata": {
    "collapsed": true
   },
   "outputs": [],
   "source": [
    "import caffe\n",
    "import numpy as np"
   ]
  },
  {
   "cell_type": "code",
   "execution_count": 2,
   "metadata": {
    "collapsed": true
   },
   "outputs": [],
   "source": [
    "fcn32s_proto_3channels = '/data/soft/digits/digits/jobs/20170225-224205-aa61/deploy.prototxt'"
   ]
  },
  {
   "cell_type": "code",
   "execution_count": 3,
   "metadata": {
    "collapsed": true
   },
   "outputs": [],
   "source": [
    "fcn32s_HHAmodel = '/data/soft/digits/digits/jobs/20170223-102514-9981/snapshot_iter_105700.caffemodel'\n",
    "fcn32s_cubNmodel = '/data/soft/digits/digits/jobs/20170224-152658-14f6/snapshot_iter_105700.caffemodel'\n",
    "fcn32s_jetNmodel = '/data/soft/digits/digits/jobs/20170223-201441-5d22/snapshot_iter_105700.caffemodel'\n",
    "fcn32s_RGB100model = '/data/soft/digits/digits/jobs/20170225-224205-aa61/snapshot_iter_105700.caffemodel'"
   ]
  },
  {
   "cell_type": "code",
   "execution_count": 4,
   "metadata": {
    "collapsed": true
   },
   "outputs": [],
   "source": [
    "mono_deploy = '/home/jguerry/workspace/dl_data_sunrgbd/MODELS/fcn32s_optim/deploy.prototxt'\n",
    "fuse_deploy = '/home/jguerry/workspace/dl_data_sunrgbd/MODELS/fcn32s_optim_fuse/deploy_fuse_concat012.prototxt'\n",
    "\n",
    "weights_path_0=fcn32s_RGB100model\n",
    "weights_path_1=fcn32s_HHAmodel\n",
    "\n",
    "\n",
    "weights_path_fuse='/home/jguerry/workspace/dl_data_sunrgbd/MODELS/fcn32s_optim_fuse/fuse_concat012_RGB-HHA.caffemodel'"
   ]
  },
  {
   "cell_type": "code",
   "execution_count": 5,
   "metadata": {
    "collapsed": true
   },
   "outputs": [],
   "source": [
    "def transfer(new_net, net, prefix='', suffix=''):\n",
    "    # from fcn.berkeleyvision.org\n",
    "    for p in net.params:\n",
    "        #print \"Working on\", p, ':'\n",
    "        p_new = prefix + p + suffix\n",
    "        if p_new not in new_net.params:\n",
    "            print 'dropping', p\n",
    "            continue\n",
    "        for i in range(len(net.params[p])):\n",
    "            if i > (len(new_net.params[p_new]) - 1):\n",
    "                print 'dropping', p, i\n",
    "                break\n",
    "            if net.params[p][i].data.shape != new_net.params[p_new][i].data.shape:\n",
    "                print 'coercing', p, i, 'from', net.params[p][i].data.shape, 'to', new_net.params[p_new][i].data.shape\n",
    "            else:\n",
    "                print 'copying', p, ' -> ', p_new, i\n",
    "            new_net.params[p_new][i].data.flat = net.params[p][i].data.flat"
   ]
  },
  {
   "cell_type": "code",
   "execution_count": 6,
   "metadata": {
    "collapsed": true
   },
   "outputs": [],
   "source": [
    "caffe_gpu = True\n",
    "if not caffe_gpu:\n",
    "    caffe.set_mode_cpu()\n",
    "else:\n",
    "    caffe.set_mode_gpu()\n",
    "    caffe.set_device(0);"
   ]
  },
  {
   "cell_type": "code",
   "execution_count": 7,
   "metadata": {
    "collapsed": false
   },
   "outputs": [],
   "source": [
    "monoNet = caffe.Net(mono_deploy, caffe.TEST)\n",
    "# monoBlobs = [(k, v.data.shape) for k, v in monoNet.blobs.items()]\n",
    "# monoLayers = [(k, v[0].data.shape, v[1].data.shape) for k, v in monoNet.params.items() if k != 'upscore37']"
   ]
  },
  {
   "cell_type": "code",
   "execution_count": 8,
   "metadata": {
    "collapsed": false,
    "scrolled": true
   },
   "outputs": [],
   "source": [
    "fuseNet = caffe.Net(fuse_deploy, caffe.TEST)\n",
    "# fuseBlobs = [(k, v.data.shape) for k, v in fuseNet.blobs.items()]\n",
    "# fuseLayers = [(k, v[0].data.shape, v[1].data.shape) for k, v in fuseNet.params.items() if k not in ['upscore37_data0','upscore37_data1','upscore_sum', 'upscore_concat','upscore_rc_corrected']]"
   ]
  },
  {
   "cell_type": "raw",
   "metadata": {},
   "source": [
    "print\"~~~~~~~~~~~~~~~~~~~~~~~~~~~~~~~~~~~~~~~~~~~~~~~~~~~~~~~~~~~~~~~~~~~\"\n",
    "print \"monoBlobs\"\n",
    "for a in monoBlobs:\n",
    "    print a\n",
    "print\"~~~~~~~~~~~~~~~~~~~~~~~~~~~~~~~~~~~~~~~~~~~~~~~~~~~~~~~~~~~~~~~~~~~\"\n",
    "print\"~~~~~~~~~~~~~~~~~~~~~~~~~~~~~~~~~~~~~~~~~~~~~~~~~~~~~~~~~~~~~~~~~~~\"\n",
    "print\"~~~~~~~~~~~~~~~~~~~~~~~~~~~~~~~~~~~~~~~~~~~~~~~~~~~~~~~~~~~~~~~~~~~\"\n",
    "print \"monoLayers\"\n",
    "for a in monoLayers:\n",
    "    print a\n",
    "    \n",
    "print\"~~~~~~~~~~~~~~~~~~~~~~~~~~~~~~~~~~~~~~~~~~~~~~~~~~~~~~~~~~~~~~~~~~~\"\n",
    "print \"fuseBlobs\"\n",
    "for a in fuseBlobs:\n",
    "    print a\n",
    "print\"~~~~~~~~~~~~~~~~~~~~~~~~~~~~~~~~~~~~~~~~~~~~~~~~~~~~~~~~~~~~~~~~~~~\"\n",
    "print\"~~~~~~~~~~~~~~~~~~~~~~~~~~~~~~~~~~~~~~~~~~~~~~~~~~~~~~~~~~~~~~~~~~~\"\n",
    "print\"~~~~~~~~~~~~~~~~~~~~~~~~~~~~~~~~~~~~~~~~~~~~~~~~~~~~~~~~~~~~~~~~~~~\"\n",
    "print \"fuseLayers\"\n",
    "for a in fuseLayers:\n",
    "    print a"
   ]
  },
  {
   "cell_type": "code",
   "execution_count": 9,
   "metadata": {
    "collapsed": false
   },
   "outputs": [
    {
     "name": "stdout",
     "output_type": "stream",
     "text": [
      "copying conv1_1  ->  data0_conv1_1 0\n",
      "copying conv1_1  ->  data0_conv1_1 1\n",
      "copying conv1_2  ->  data0_conv1_2 0\n",
      "copying conv1_2  ->  data0_conv1_2 1\n",
      "copying conv2_1  ->  data0_conv2_1 0\n",
      "copying conv2_1  ->  data0_conv2_1 1\n",
      "copying conv2_2  ->  data0_conv2_2 0\n",
      "copying conv2_2  ->  data0_conv2_2 1\n",
      "copying conv3_1  ->  data0_conv3_1 0\n",
      "copying conv3_1  ->  data0_conv3_1 1\n",
      "copying conv3_2  ->  data0_conv3_2 0\n",
      "copying conv3_2  ->  data0_conv3_2 1\n",
      "copying conv3_3  ->  data0_conv3_3 0\n",
      "copying conv3_3  ->  data0_conv3_3 1\n",
      "copying conv4_1  ->  data0_conv4_1 0\n",
      "copying conv4_1  ->  data0_conv4_1 1\n",
      "copying conv4_2  ->  data0_conv4_2 0\n",
      "copying conv4_2  ->  data0_conv4_2 1\n",
      "copying conv4_3  ->  data0_conv4_3 0\n",
      "copying conv4_3  ->  data0_conv4_3 1\n",
      "copying conv5_1  ->  data0_conv5_1 0\n",
      "copying conv5_1  ->  data0_conv5_1 1\n",
      "copying conv5_2  ->  data0_conv5_2 0\n",
      "copying conv5_2  ->  data0_conv5_2 1\n",
      "copying conv5_3  ->  data0_conv5_3 0\n",
      "copying conv5_3  ->  data0_conv5_3 1\n",
      "copying fc6  ->  data0_fc6 0\n",
      "copying fc6  ->  data0_fc6 1\n",
      "copying fc7  ->  data0_fc7 0\n",
      "copying fc7  ->  data0_fc7 1\n",
      "copying score_fr37  ->  data0_score_fr37 0\n",
      "copying score_fr37  ->  data0_score_fr37 1\n",
      "copying upscore37  ->  data0_upscore37 0\n",
      "copying conv1_1  ->  data1_conv1_1 0\n",
      "copying conv1_1  ->  data1_conv1_1 1\n",
      "copying conv1_2  ->  data1_conv1_2 0\n",
      "copying conv1_2  ->  data1_conv1_2 1\n",
      "copying conv2_1  ->  data1_conv2_1 0\n",
      "copying conv2_1  ->  data1_conv2_1 1\n",
      "copying conv2_2  ->  data1_conv2_2 0\n",
      "copying conv2_2  ->  data1_conv2_2 1\n",
      "copying conv3_1  ->  data1_conv3_1 0\n",
      "copying conv3_1  ->  data1_conv3_1 1\n",
      "copying conv3_2  ->  data1_conv3_2 0\n",
      "copying conv3_2  ->  data1_conv3_2 1\n",
      "copying conv3_3  ->  data1_conv3_3 0\n",
      "copying conv3_3  ->  data1_conv3_3 1\n",
      "copying conv4_1  ->  data1_conv4_1 0\n",
      "copying conv4_1  ->  data1_conv4_1 1\n",
      "copying conv4_2  ->  data1_conv4_2 0\n",
      "copying conv4_2  ->  data1_conv4_2 1\n",
      "copying conv4_3  ->  data1_conv4_3 0\n",
      "copying conv4_3  ->  data1_conv4_3 1\n",
      "copying conv5_1  ->  data1_conv5_1 0\n",
      "copying conv5_1  ->  data1_conv5_1 1\n",
      "copying conv5_2  ->  data1_conv5_2 0\n",
      "copying conv5_2  ->  data1_conv5_2 1\n",
      "copying conv5_3  ->  data1_conv5_3 0\n",
      "copying conv5_3  ->  data1_conv5_3 1\n",
      "copying fc6  ->  data1_fc6 0\n",
      "copying fc6  ->  data1_fc6 1\n",
      "copying fc7  ->  data1_fc7 0\n",
      "copying fc7  ->  data1_fc7 1\n",
      "copying score_fr37  ->  data1_score_fr37 0\n",
      "copying score_fr37  ->  data1_score_fr37 1\n",
      "copying upscore37  ->  data1_upscore37 0\n"
     ]
    }
   ],
   "source": [
    "monoNet.copy_from(weights_path_0,)\n",
    "transfer(fuseNet,monoNet,prefix = 'data0_')\n",
    "monoNet.copy_from(weights_path_1)\n",
    "transfer(fuseNet,monoNet,prefix = 'data1_')"
   ]
  },
  {
   "cell_type": "code",
   "execution_count": 11,
   "metadata": {
    "collapsed": false
   },
   "outputs": [
    {
     "name": "stdout",
     "output_type": "stream",
     "text": [
      "('data0_upscore37', 0)\n",
      "37888.0\n",
      "('data1_upscore37', 0)\n",
      "37888.0\n",
      "('fuse_concat0_upscore37', 0)\n",
      "37888.0\n",
      "('fuse_concat1_upscore37', 0)\n",
      "37888.0\n",
      "('fuse_concat2_upscore37', 0)\n",
      "37888.0\n"
     ]
    }
   ],
   "source": [
    "for k, v in fuseNet.params.items():\n",
    "    if 'upscore' in k:\n",
    "        for i in range(len(fuseNet.params[k])):\n",
    "            fuseNet.params[k][i].data.flat = monoNet.params['upscore37'][i].data.flat\n",
    "            print(k,i)\n",
    "            print(np.sum(fuseNet.params[k][i].data)) #flat = net.params[p][i].data.flat"
   ]
  },
  {
   "cell_type": "code",
   "execution_count": 14,
   "metadata": {
    "collapsed": false,
    "scrolled": true
   },
   "outputs": [
    {
     "name": "stdout",
     "output_type": "stream",
     "text": [
      "Saving output model to /home/jguerry/workspace/dl_data_sunrgbd/MODELS/fcn32s_optim_fuse/fuse_concat012_RGB-HHA.caffemodel \n"
     ]
    }
   ],
   "source": [
    "#### SAVING\n",
    "print \"Saving output model to %s \" % weights_path_fuse\n",
    "fuseNet.save(weights_path_fuse)"
   ]
  },
  {
   "cell_type": "code",
   "execution_count": 15,
   "metadata": {
    "collapsed": true
   },
   "outputs": [],
   "source": [
    "del fuseNet\n",
    "del monoNet"
   ]
  }
 ],
 "metadata": {
  "anaconda-cloud": {},
  "kernelspec": {
   "display_name": "Python [conda env:jg_pfr]",
   "language": "python",
   "name": "conda-env-jg_pfr-py"
  },
  "language_info": {
   "codemirror_mode": {
    "name": "ipython",
    "version": 2
   },
   "file_extension": ".py",
   "mimetype": "text/x-python",
   "name": "python",
   "nbconvert_exporter": "python",
   "pygments_lexer": "ipython2",
   "version": "2.7.12"
  }
 },
 "nbformat": 4,
 "nbformat_minor": 1
}
