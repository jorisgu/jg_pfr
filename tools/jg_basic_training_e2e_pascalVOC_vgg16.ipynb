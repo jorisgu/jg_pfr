{
 "cells": [
  {
   "cell_type": "markdown",
   "metadata": {},
   "source": [
    "# BASIC TRAINING END2END"
   ]
  },
  {
   "cell_type": "markdown",
   "metadata": {},
   "source": [
    "### Faster RCNN"
   ]
  },
  {
   "cell_type": "code",
   "execution_count": 1,
   "metadata": {
    "collapsed": false
   },
   "outputs": [],
   "source": [
    "import _init_paths\n",
    "from fast_rcnn.train import get_training_roidb, train_net\n",
    "from fast_rcnn.test import test_net, im_detect\n",
    "from fast_rcnn.config import cfg, cfg_from_file, cfg_from_list, get_output_dir\n",
    "from fast_rcnn.bbox_transform import clip_boxes, bbox_transform_inv\n",
    "from datasets.factory import get_imdb\n",
    "from rpn.generate import imdb_proposals\n",
    "import roi_data_layer.roidb as rdl_roidb"
   ]
  },
  {
   "cell_type": "markdown",
   "metadata": {},
   "source": [
    "### Caffe"
   ]
  },
  {
   "cell_type": "code",
   "execution_count": 2,
   "metadata": {
    "collapsed": false
   },
   "outputs": [],
   "source": [
    "import caffe\n",
    "from caffe.proto import caffe_pb2\n",
    "import google.protobuf as pb2"
   ]
  },
  {
   "cell_type": "markdown",
   "metadata": {},
   "source": [
    "### Utils"
   ]
  },
  {
   "cell_type": "code",
   "execution_count": 3,
   "metadata": {
    "collapsed": true
   },
   "outputs": [],
   "source": [
    "## import argparse\n",
    "import pprint\n",
    "import numpy as np\n",
    "import sys, os\n",
    "import multiprocessing as mp\n",
    "import cPickle\n",
    "import shutil\n",
    "from utils.timer import Timer"
   ]
  },
  {
   "cell_type": "markdown",
   "metadata": {},
   "source": [
    "### Plotting"
   ]
  },
  {
   "cell_type": "code",
   "execution_count": 4,
   "metadata": {
    "collapsed": true
   },
   "outputs": [],
   "source": [
    "from IPython.display import Image\n",
    "from IPython.display import clear_output\n",
    "import matplotlib\n",
    "import matplotlib.pyplot as plt\n",
    "%matplotlib inline "
   ]
  },
  {
   "cell_type": "markdown",
   "metadata": {},
   "source": [
    "## Paths"
   ]
  },
  {
   "cell_type": "code",
   "execution_count": 19,
   "metadata": {
    "collapsed": false,
    "scrolled": true
   },
   "outputs": [
    {
     "name": "stdout",
     "output_type": "stream",
     "text": [
      "{'DATA_DIR': '/home/jogue/workspace/jg_pfr/data',\n",
      " 'DEDUP_BOXES': 0.0625,\n",
      " 'EPS': 1e-14,\n",
      " 'EXP_DIR': 'faster_rcnn_end2end',\n",
      " 'GPU_ID': 0,\n",
      " 'MATLAB': 'matlab',\n",
      " 'MODELS_DIR': '/home/jogue/workspace/jg_pfr/models/pascal_voc',\n",
      " 'PIXEL_MEANS': array([[[ 102.9801,  115.9465,  122.7717]]]),\n",
      " 'RNG_SEED': 3,\n",
      " 'ROOT_DIR': '/home/jogue/workspace/jg_pfr',\n",
      " 'TEST': {'BBOX_REG': True,\n",
      "          'HAS_RPN': True,\n",
      "          'MAX_SIZE': 1000,\n",
      "          'NMS': 0.3,\n",
      "          'PROPOSAL_METHOD': 'selective_search',\n",
      "          'RPN_MIN_SIZE': 16,\n",
      "          'RPN_NMS_THRESH': 0.7,\n",
      "          'RPN_POST_NMS_TOP_N': 300,\n",
      "          'RPN_PRE_NMS_TOP_N': 6000,\n",
      "          'SCALES': [600],\n",
      "          'SVM': False},\n",
      " 'TRAIN': {'ASPECT_GROUPING': True,\n",
      "           'BATCH_SIZE': 256,\n",
      "           'BBOX_INSIDE_WEIGHTS': [1.0, 1.0, 1.0, 1.0],\n",
      "           'BBOX_NORMALIZE_MEANS': [0.0, 0.0, 0.0, 0.0],\n",
      "           'BBOX_NORMALIZE_STDS': [0.1, 0.1, 0.2, 0.2],\n",
      "           'BBOX_NORMALIZE_TARGETS': True,\n",
      "           'BBOX_NORMALIZE_TARGETS_PRECOMPUTED': True,\n",
      "           'BBOX_REG': True,\n",
      "           'BBOX_THRESH': 0.5,\n",
      "           'BG_THRESH_HI': 0.5,\n",
      "           'BG_THRESH_LO': 0.0,\n",
      "           'FG_FRACTION': 0.25,\n",
      "           'FG_THRESH': 0.5,\n",
      "           'HAS_RPN': True,\n",
      "           'IMS_PER_BATCH': 1,\n",
      "           'MAX_SIZE': 1000,\n",
      "           'PROPOSAL_METHOD': 'gt',\n",
      "           'RPN_BATCHSIZE': 256,\n",
      "           'RPN_BBOX_INSIDE_WEIGHTS': [1.0, 1.0, 1.0, 1.0],\n",
      "           'RPN_CLOBBER_POSITIVES': False,\n",
      "           'RPN_FG_FRACTION': 0.5,\n",
      "           'RPN_MIN_SIZE': 16,\n",
      "           'RPN_NEGATIVE_OVERLAP': 0.3,\n",
      "           'RPN_NMS_THRESH': 0.7,\n",
      "           'RPN_POSITIVE_OVERLAP': 0.7,\n",
      "           'RPN_POSITIVE_WEIGHT': -1.0,\n",
      "           'RPN_POST_NMS_TOP_N': 2000,\n",
      "           'RPN_PRE_NMS_TOP_N': 12000,\n",
      "           'SCALES': [600],\n",
      "           'SNAPSHOT_INFIX': 'jg',\n",
      "           'SNAPSHOT_ITERS': 795,\n",
      "           'USE_FLIPPED': True,\n",
      "           'USE_PREFETCH': False},\n",
      " 'USE_GPU_NMS': True}\n"
     ]
    }
   ],
   "source": [
    "#########################################################################################################\n",
    "#########################################################################################################\n",
    "#########################################################################################################\n",
    "\n",
    "#PASCAL\n",
    "pretrained_model = '/home/jogue/workspace/jg_pfr/data/faster_rcnn_models/VGG16_faster_rcnn_final.caffemodel'\n",
    "solver_prototxt = '/home/jogue/workspace/jg_pfr/models/pascal_voc/VGG16/faster_rcnn_end2end/solver.prototxt'\n",
    "test_prototxt = '/home/jogue/workspace/jg_pfr/models/pascal_voc/VGG16/faster_rcnn_end2end/test.prototxt'\n",
    "\n",
    "#NYUDV2\n",
    "#pretrained_model = '/home/jogue/workspace/caffemodels/nyud-fcn32s-color-heavy.caffemodel'\n",
    "#solver_prototxt = '/home/jogue/workspace/jg_pfr/models/nyud_v2_40gupta/VGG16_from_FCN/faster_rcnn_end2end/solver_fcn.prototxt'\n",
    "\n",
    "#########################################################################################################\n",
    "#########################################################################################################\n",
    "#########################################################################################################\n",
    "\n",
    "#PASCAL\n",
    "path_proposal = '/home/jogue/workspace/jg_pfr/output/2017janvier23/'\n",
    "output_dir = '/home/jogue/workspace/jg_pfr/output/2017janvier23/'\n",
    "\n",
    "#NYUDV2\n",
    "#path_proposal = '/home/jogue/workspace/jg_pfr/output/2017janvier22/'\n",
    "#output_dir = '/home/jogue/workspace/jg_pfr/output/2017janvier22/'\n",
    "\n",
    "#########################################################################################################\n",
    "#########################################################################################################\n",
    "#########################################################################################################\n",
    "\n",
    "# PASCAL\n",
    "imdb_train_name = 'voc_2007_trainval'\n",
    "imdb_test_name = 'voc_2007_fake'\n",
    "#imdb_test_name = 'voc_2007_test'\n",
    "# NYUDV2\n",
    "#imdb_train_name = 'nyud_v2_trainvalGupta_rgb_i_100_8bits'\n",
    "#imdb_test_name = 'nyud_v2_testGupta_rgb_i_100_8bits'\n",
    "\n",
    "#########################################################################################################\n",
    "#########################################################################################################\n",
    "#########################################################################################################\n",
    "#PASCAL\n",
    "cfg_from_file('/home/jogue/workspace/jg_pfr/experiments/cfgs/faster_rcnn_end2end.yml')\n",
    "\n",
    "#NYUDV2\n",
    "#cfg_from_file('/home/jogue/workspace/jg_pfr/experiments/cfgs/nyud_v2_40gupta/cfg_end2end.yml')\n",
    "\n",
    "#########################################################################################################\n",
    "#########################################################################################################\n",
    "#########################################################################################################\n",
    "\n",
    "cfg.GPU_ID = 0\n",
    "cfg.TRAIN.SNAPSHOT_ITERS = 795\n",
    "cfg.TRAIN.SNAPSHOT_INFIX = 'jg'\n",
    "#########################################################################################################\n",
    "#########################################################################################################\n",
    "#########################################################################################################\n",
    "#print 'Init model: {}'.format(path_net_weights)\n",
    "#print 'RPN proposals: {}'.format(path_proposal)\n",
    "#print('Using config:')\n",
    "pprint.pprint(cfg)"
   ]
  },
  {
   "cell_type": "markdown",
   "metadata": {},
   "source": [
    "## Init caffe"
   ]
  },
  {
   "cell_type": "code",
   "execution_count": 6,
   "metadata": {
    "collapsed": true
   },
   "outputs": [],
   "source": [
    "## np.random.seed(cfg.RNG_SEED)\n",
    "caffe.set_random_seed(cfg.RNG_SEED)\n",
    "# set up caffe\n",
    "caffe.set_mode_gpu()\n",
    "caffe.set_device(cfg.GPU_ID)"
   ]
  },
  {
   "cell_type": "markdown",
   "metadata": {
    "collapsed": false
   },
   "source": [
    "## Get imdb"
   ]
  },
  {
   "cell_type": "markdown",
   "metadata": {},
   "source": [
    "### train"
   ]
  },
  {
   "cell_type": "code",
   "execution_count": 7,
   "metadata": {
    "collapsed": false,
    "scrolled": true
   },
   "outputs": [
    {
     "name": "stdout",
     "output_type": "stream",
     "text": [
      "Appending horizontally-flipped training examples...\n",
      "voc_2007_trainval ss roidb loaded from /home/jogue/workspace/jg_pfr/data/cache/voc_2007_trainval_selective_search_roidb.pkl\n",
      "done\n",
      "\n",
      "Enriching the imdb's roidb...\n",
      "done\n",
      "\n",
      "Computing bounding-box regression targets...\n",
      "num class in add_bbox_regression_targets : 21\n",
      "Normalizing targets\n",
      "done\n",
      "\n"
     ]
    }
   ],
   "source": [
    "imdb_train = get_imdb(imdb_train_name)\n",
    "if cfg.TRAIN.USE_FLIPPED:\n",
    "    print 'Appending horizontally-flipped training examples...'\n",
    "    imdb_train.append_flipped_images()\n",
    "    print 'done'\n",
    "    print ''\n",
    "    \n",
    "print 'Enriching the imdb\\'s roidb...'\n",
    "rdl_roidb.prepare_roidb(imdb_train)\n",
    "print 'done'\n",
    "print ''\n",
    "\n",
    "roidb_train = imdb_train.roidb\n",
    "if cfg.TRAIN.BBOX_REG:\n",
    "    print 'Computing bounding-box regression targets...'\n",
    "    bbox_means, bbox_stds = rdl_roidb.add_bbox_regression_targets(roidb_train)\n",
    "    print 'done'\n",
    "    print ''"
   ]
  },
  {
   "cell_type": "markdown",
   "metadata": {},
   "source": [
    "## Loading solver and pretrained_model"
   ]
  },
  {
   "cell_type": "code",
   "execution_count": 8,
   "metadata": {
    "collapsed": false
   },
   "outputs": [
    {
     "name": "stdout",
     "output_type": "stream",
     "text": [
      "RoiDataLayer: name_to_top: {'gt_boxes': 2, 'data': 0, 'im_info': 1}\n",
      "Loading pretrained model weights from /home/jogue/workspace/jg_pfr/data/faster_rcnn_models/VGG16_faster_rcnn_final.caffemodel\n",
      "done\n",
      "\n"
     ]
    }
   ],
   "source": [
    "solver = caffe.SGDSolver(solver_prototxt)\n",
    "if pretrained_model is not None:\n",
    "    print ('Loading pretrained model '\n",
    "           'weights from {:s}').format(pretrained_model)\n",
    "    solver.net.copy_from(pretrained_model)\n",
    "    print 'done'\n",
    "    print ''\n",
    "\n",
    "solver_param = caffe_pb2.SolverParameter()\n",
    "with open(solver_prototxt, 'rt') as f:\n",
    "    pb2.text_format.Merge(f.read(), solver_param)    "
   ]
  },
  {
   "cell_type": "markdown",
   "metadata": {},
   "source": [
    "## Init input layer with roiDB"
   ]
  },
  {
   "cell_type": "code",
   "execution_count": 9,
   "metadata": {
    "collapsed": true
   },
   "outputs": [],
   "source": [
    "solver.net.layers[0].set_roidb(roidb_train)"
   ]
  },
  {
   "cell_type": "markdown",
   "metadata": {},
   "source": [
    "## Training"
   ]
  },
  {
   "cell_type": "code",
   "execution_count": 10,
   "metadata": {
    "collapsed": true
   },
   "outputs": [],
   "source": [
    "def snapshot(bbox_stds,bbox_means):\n",
    "        \"\"\"Take a snapshot of the network after unnormalizing the learned\n",
    "        bounding-box regression weights. This enables easy use at test-time.\n",
    "        \"\"\"\n",
    "        print \"Snapshotting...\"\n",
    "        scale_bbox_params = (cfg.TRAIN.BBOX_REG and\n",
    "                             cfg.TRAIN.BBOX_NORMALIZE_TARGETS and\n",
    "                             solver.net.params.has_key('bbox_pred'))\n",
    "\n",
    "        if scale_bbox_params:\n",
    "            #print 'Scaling before saving'\n",
    "            # save original values\n",
    "            orig_0 = solver.net.params['bbox_pred'][0].data.copy()\n",
    "            orig_1 = solver.net.params['bbox_pred'][1].data.copy()\n",
    "\n",
    "            # scale and shift with bbox reg unnormalization; then save snapshot\n",
    "            solver.net.params['bbox_pred'][0].data[...] = (solver.net.params['bbox_pred'][0].data * bbox_stds[:, np.newaxis])\n",
    "            solver.net.params['bbox_pred'][1].data[...] = (solver.net.params['bbox_pred'][1].data * bbox_stds + bbox_means)\n",
    "\n",
    "        #infix = ('_' + cfg.TRAIN.SNAPSHOT_INFIX if cfg.TRAIN.SNAPSHOT_INFIX != '' else '')\n",
    "        #filename = (solver_param.snapshot_prefix + infix + '_iter_{:d}'.format(solver.iter))\n",
    "        #filename = os.path.join(output_dir, filename)\n",
    "        #solver.net.save(str(filename + '.caffemodel'))\n",
    "        #print 'Wrote snapshot to: {:s}'.format(filename)\n",
    "        \n",
    "        solver.snapshot()\n",
    "        \n",
    "\n",
    "        if scale_bbox_params:\n",
    "            #print 'Unscaling before resuming'\n",
    "            # restore net to original state\n",
    "            solver.net.params['bbox_pred'][0].data[...] = orig_0\n",
    "            solver.net.params['bbox_pred'][1].data[...] = orig_1\n",
    "        print \"done.\"\n",
    "        return solver_param.snapshot_prefix+\"_iter_\"+str(solver.iter)"
   ]
  },
  {
   "cell_type": "code",
   "execution_count": 11,
   "metadata": {
    "collapsed": true
   },
   "outputs": [],
   "source": [
    "timer = Timer()\n",
    "list_iters = []\n",
    "list_loss_bbox = []\n",
    "list_loss_cls = []\n",
    "list_rpn_cls_loss = []\n",
    "list_rpn_loss_bbox = []\n",
    "#custom_test_interval = 1590\n",
    "#custom_test_interval = 795\n",
    "custom_test_interval = 1\n",
    "test_dataset_size = 654\n",
    "custom_display_interval = 300\n",
    "#max_iters = 159000\n",
    "max_iters = 10\n",
    "\n",
    "custom_debug = True"
   ]
  },
  {
   "cell_type": "markdown",
   "metadata": {},
   "source": [
    "## Training loop"
   ]
  },
  {
   "cell_type": "code",
   "execution_count": 12,
   "metadata": {
    "collapsed": false
   },
   "outputs": [
    {
     "name": "stdout",
     "output_type": "stream",
     "text": [
      "0\n"
     ]
    },
    {
     "name": "stderr",
     "output_type": "stream",
     "text": [
      "../lib/rpn/proposal_target_layer.py:166: VisibleDeprecationWarning: using a non-integer number instead of an integer will result in an error in the future\n",
      "  fg_inds = npr.choice(fg_inds, size=fg_rois_per_this_image, replace=False)\n",
      "../lib/rpn/proposal_target_layer.py:177: VisibleDeprecationWarning: using a non-integer number instead of an integer will result in an error in the future\n",
      "  bg_inds = npr.choice(bg_inds, size=bg_rois_per_this_image, replace=False)\n",
      "../lib/rpn/proposal_target_layer.py:184: VisibleDeprecationWarning: using a non-integer number instead of an integer will result in an error in the future\n",
      "  labels[fg_rois_per_this_image:] = 0\n",
      "../lib/rpn/proposal_target_layer.py:127: VisibleDeprecationWarning: using a non-integer number instead of an integer will result in an error in the future\n",
      "  bbox_targets[ind, start:end] = bbox_target_data[ind, 1:]\n",
      "../lib/rpn/proposal_target_layer.py:128: VisibleDeprecationWarning: using a non-integer number instead of an integer will result in an error in the future\n",
      "  bbox_inside_weights[ind, start:end] = cfg.TRAIN.BBOX_INSIDE_WEIGHTS\n"
     ]
    },
    {
     "name": "stdout",
     "output_type": "stream",
     "text": [
      "1\n",
      "2\n",
      "3\n",
      "4\n",
      "5\n",
      "Snapshotting...\n",
      "done.\n",
      "6\n",
      "7\n",
      "8\n",
      "9\n"
     ]
    }
   ],
   "source": [
    "last_snapshot_iter = -1\n",
    "timer = Timer()\n",
    "model_paths = []\n",
    "#while solver.iter < max_iters:\n",
    "\n",
    "while solver.iter < max_iters:\n",
    "    if custom_debug:\n",
    "        print solver.iter\n",
    "    solver.step(1)\n",
    "\n",
    "    list_iters.append(solver.iter)\n",
    "    list_loss_bbox.append(float(solver.net.blobs['loss_bbox'].data[...]))\n",
    "    list_loss_cls.append(float(solver.net.blobs['loss_cls'].data[...]))\n",
    "    list_rpn_cls_loss.append(float(solver.net.blobs['rpn_cls_loss'].data[...]))\n",
    "    list_rpn_loss_bbox.append(float(solver.net.blobs['rpn_loss_bbox'].data[...]))\n",
    "\n",
    "    #if self.solver.iter % cfg.TRAIN.SNAPSHOT_ITERS == 0:\n",
    "    if solver.iter % 6 == 0:\n",
    "        last_snapshot_iter = solver.iter\n",
    "        model_paths.append(snapshot(bbox_stds,bbox_means))\n",
    "        \n",
    "    if solver.iter % custom_display_interval == 0:\n",
    "        clear_output()\n",
    "        plt.close('all')\n",
    "\n",
    "        fig, ax = plt.subplots()\n",
    "        ax.plot(list_iters, list_loss_cls, 'r', label='loss_cls')\n",
    "        ax.plot(list_iters, list_loss_bbox, 'r--', label='loss_bbox')\n",
    "        ax.legend(loc='upper center', shadow=True, fontsize='x-large')\n",
    "        fig, ax = plt.subplots()\n",
    "        ax.plot(list_iters, list_rpn_cls_loss, 'b', label='rpn_cls_loss')\n",
    "        ax.plot(list_iters, list_rpn_loss_bbox, 'b--', label='rpn_loss_bbox')\n",
    "        ax.legend(loc='upper center', shadow=True, fontsize='x-large')    \n",
    "\n",
    "#if last_snapshot_iter != solver.iter:\n",
    "#    model_paths.append(snapshot(bbox_stds,bbox_means))\n"
   ]
  },
  {
   "cell_type": "code",
   "execution_count": 13,
   "metadata": {
    "collapsed": false
   },
   "outputs": [],
   "source": [
    "del solver\n",
    "#del test_network\n"
   ]
  },
  {
   "cell_type": "code",
   "execution_count": 21,
   "metadata": {
    "collapsed": false
   },
   "outputs": [],
   "source": [
    "test_caffemodel = str(model_paths[-1])+'.caffemodel'\n",
    "#test_caffemodel = '/home/jogue/workspace/jg_pfr/output/2017janvier23/vgg16_faster_rcnn_iter_50.caffemodel'\n",
    "test_network = caffe.Net(test_prototxt,test_caffemodel, caffe.TEST)\n",
    "test_network.name = os.path.splitext(os.path.basename(test_caffemodel))[0]"
   ]
  },
  {
   "cell_type": "code",
   "execution_count": 22,
   "metadata": {
    "collapsed": false
   },
   "outputs": [
    {
     "data": {
      "text/plain": [
       "[('data', (1, 3, 224, 224)),\n",
       " ('im_info', (1, 3)),\n",
       " ('conv1_1', (1, 64, 224, 224)),\n",
       " ('conv1_2', (1, 64, 224, 224)),\n",
       " ('pool1', (1, 64, 112, 112)),\n",
       " ('conv2_1', (1, 128, 112, 112)),\n",
       " ('conv2_2', (1, 128, 112, 112)),\n",
       " ('pool2', (1, 128, 56, 56)),\n",
       " ('conv3_1', (1, 256, 56, 56)),\n",
       " ('conv3_2', (1, 256, 56, 56)),\n",
       " ('conv3_3', (1, 256, 56, 56)),\n",
       " ('pool3', (1, 256, 28, 28)),\n",
       " ('conv4_1', (1, 512, 28, 28)),\n",
       " ('conv4_2', (1, 512, 28, 28)),\n",
       " ('conv4_3', (1, 512, 28, 28)),\n",
       " ('pool4', (1, 512, 14, 14)),\n",
       " ('conv5_1', (1, 512, 14, 14)),\n",
       " ('conv5_2', (1, 512, 14, 14)),\n",
       " ('conv5_3', (1, 512, 14, 14)),\n",
       " ('conv5_3_relu5_3_0_split_0', (1, 512, 14, 14)),\n",
       " ('conv5_3_relu5_3_0_split_1', (1, 512, 14, 14)),\n",
       " ('rpn/output', (1, 512, 14, 14)),\n",
       " ('rpn/output_rpn_relu/3x3_0_split_0', (1, 512, 14, 14)),\n",
       " ('rpn/output_rpn_relu/3x3_0_split_1', (1, 512, 14, 14)),\n",
       " ('rpn_cls_score', (1, 18, 14, 14)),\n",
       " ('rpn_bbox_pred', (1, 36, 14, 14)),\n",
       " ('rpn_cls_score_reshape', (1, 2, 126, 14)),\n",
       " ('rpn_cls_prob', (1, 2, 126, 14)),\n",
       " ('rpn_cls_prob_reshape', (1, 18, 14, 14)),\n",
       " ('rois', (1, 5)),\n",
       " ('pool5', (1, 512, 7, 7)),\n",
       " ('fc6', (1, 4096)),\n",
       " ('fc7', (1, 4096)),\n",
       " ('fc7_drop7_0_split_0', (1, 4096)),\n",
       " ('fc7_drop7_0_split_1', (1, 4096)),\n",
       " ('cls_score', (1, 21)),\n",
       " ('bbox_pred', (1, 84)),\n",
       " ('cls_prob', (1, 21))]"
      ]
     },
     "execution_count": 22,
     "metadata": {},
     "output_type": "execute_result"
    }
   ],
   "source": [
    "a = [(k, v.data.shape) for k, v in test_network.blobs.items()]\n",
    "a"
   ]
  },
  {
   "cell_type": "code",
   "execution_count": 23,
   "metadata": {
    "collapsed": false,
    "scrolled": false
   },
   "outputs": [
    {
     "name": "stdout",
     "output_type": "stream",
     "text": [
      "self.num_classes = 41\n"
     ]
    },
    {
     "ename": "IndexError",
     "evalue": "index 21 is out of bounds for axis 1 with size 21",
     "output_type": "error",
     "traceback": [
      "\u001b[0;31m---------------------------------------------------------------------------\u001b[0m",
      "\u001b[0;31mIndexError\u001b[0m                                Traceback (most recent call last)",
      "\u001b[0;32m<ipython-input-23-abb28e06f6e5>\u001b[0m in \u001b[0;36m<module>\u001b[0;34m()\u001b[0m\n\u001b[1;32m      1\u001b[0m \u001b[0mimdb\u001b[0m \u001b[0;34m=\u001b[0m \u001b[0mget_imdb\u001b[0m\u001b[0;34m(\u001b[0m\u001b[0mimdb_test_name\u001b[0m\u001b[0;34m)\u001b[0m\u001b[0;34m\u001b[0m\u001b[0m\n\u001b[1;32m      2\u001b[0m \u001b[0;31m#imdb.competition_mode(args.comp_mode)\u001b[0m\u001b[0;34m\u001b[0m\u001b[0;34m\u001b[0m\u001b[0m\n\u001b[0;32m----> 3\u001b[0;31m \u001b[0mtest_net\u001b[0m\u001b[0;34m(\u001b[0m\u001b[0mtest_network\u001b[0m\u001b[0;34m,\u001b[0m \u001b[0mimdb\u001b[0m\u001b[0;34m,\u001b[0m \u001b[0mmax_per_image\u001b[0m\u001b[0;34m=\u001b[0m\u001b[0;36m100\u001b[0m\u001b[0;34m,\u001b[0m \u001b[0mvis\u001b[0m\u001b[0;34m=\u001b[0m\u001b[0mFalse\u001b[0m\u001b[0;34m,\u001b[0m \u001b[0moutput_dir\u001b[0m\u001b[0;34m=\u001b[0m\u001b[0moutput_dir\u001b[0m\u001b[0;34m)\u001b[0m\u001b[0;34m\u001b[0m\u001b[0m\n\u001b[0m",
      "\u001b[0;32m/home/jogue/workspace/jg_pfr/lib/fast_rcnn/test.pyc\u001b[0m in \u001b[0;36mtest_net\u001b[0;34m(net, imdb, max_per_image, thresh, vis, output_dir)\u001b[0m\n\u001b[1;32m    264\u001b[0m         \u001b[0;31m# skip j = 0, because it's the background class\u001b[0m\u001b[0;34m\u001b[0m\u001b[0;34m\u001b[0m\u001b[0m\n\u001b[1;32m    265\u001b[0m         \u001b[0;32mfor\u001b[0m \u001b[0mj\u001b[0m \u001b[0;32min\u001b[0m \u001b[0mxrange\u001b[0m\u001b[0;34m(\u001b[0m\u001b[0;36m1\u001b[0m\u001b[0;34m,\u001b[0m \u001b[0mimdb\u001b[0m\u001b[0;34m.\u001b[0m\u001b[0mnum_classes\u001b[0m\u001b[0;34m)\u001b[0m\u001b[0;34m:\u001b[0m\u001b[0;34m\u001b[0m\u001b[0m\n\u001b[0;32m--> 266\u001b[0;31m             \u001b[0minds\u001b[0m \u001b[0;34m=\u001b[0m \u001b[0mnp\u001b[0m\u001b[0;34m.\u001b[0m\u001b[0mwhere\u001b[0m\u001b[0;34m(\u001b[0m\u001b[0mscores\u001b[0m\u001b[0;34m[\u001b[0m\u001b[0;34m:\u001b[0m\u001b[0;34m,\u001b[0m \u001b[0mj\u001b[0m\u001b[0;34m]\u001b[0m \u001b[0;34m>\u001b[0m \u001b[0mthresh\u001b[0m\u001b[0;34m)\u001b[0m\u001b[0;34m[\u001b[0m\u001b[0;36m0\u001b[0m\u001b[0;34m]\u001b[0m\u001b[0;34m\u001b[0m\u001b[0m\n\u001b[0m\u001b[1;32m    267\u001b[0m             \u001b[0mcls_scores\u001b[0m \u001b[0;34m=\u001b[0m \u001b[0mscores\u001b[0m\u001b[0;34m[\u001b[0m\u001b[0minds\u001b[0m\u001b[0;34m,\u001b[0m \u001b[0mj\u001b[0m\u001b[0;34m]\u001b[0m\u001b[0;34m\u001b[0m\u001b[0m\n\u001b[1;32m    268\u001b[0m             \u001b[0mcls_boxes\u001b[0m \u001b[0;34m=\u001b[0m \u001b[0mboxes\u001b[0m\u001b[0;34m[\u001b[0m\u001b[0minds\u001b[0m\u001b[0;34m,\u001b[0m \u001b[0mj\u001b[0m\u001b[0;34m*\u001b[0m\u001b[0;36m4\u001b[0m\u001b[0;34m:\u001b[0m\u001b[0;34m(\u001b[0m\u001b[0mj\u001b[0m\u001b[0;34m+\u001b[0m\u001b[0;36m1\u001b[0m\u001b[0;34m)\u001b[0m\u001b[0;34m*\u001b[0m\u001b[0;36m4\u001b[0m\u001b[0;34m]\u001b[0m\u001b[0;34m\u001b[0m\u001b[0m\n",
      "\u001b[0;31mIndexError\u001b[0m: index 21 is out of bounds for axis 1 with size 21"
     ]
    }
   ],
   "source": [
    "imdb = get_imdb(imdb_test_name)\n",
    "#imdb.competition_mode(args.comp_mode)\n",
    "test_net(test_network, imdb, max_per_image=100, vis=False, output_dir=output_dir)"
   ]
  },
  {
   "cell_type": "code",
   "execution_count": 24,
   "metadata": {
    "collapsed": true
   },
   "outputs": [],
   "source": [
    "#net = caffe.Net(args.prototxt, args.caffemodel, caffe.TEST)"
   ]
  },
  {
   "cell_type": "code",
   "execution_count": 18,
   "metadata": {
    "collapsed": true
   },
   "outputs": [],
   "source": [
    "### test\n",
    "#imdb_test = get_imdb(imdb_test_name)\n",
    "###############################################################\"\n",
    "#from google.protobuf import text_format\n",
    "#import caffe.draw\n",
    "#from caffe.proto import caffe_pb2\n",
    "\n",
    "\n",
    "#net = caffe_pb2.NetParameter()\n",
    "#text_format.Merge(open(solver_param.net).read(), net)\n",
    "#text_format.Merge(open(solver_param.train_net).read(), net)\n",
    "\n",
    "\n",
    "#phase = caffe.TRAIN\n",
    "#caffe.draw.draw_net_to_file(net, output_dir+'train.png', 'top-bottom', phase)\n",
    "#phase = caffe.TEST\n",
    "#caffe.draw.draw_net_to_file(net, output_dir+'test.png', 'top-bottom', phase)\n",
    "#Image(filename = output_dir+'train.png')\n",
    "#Image(filename = output_dir+'test.png')"
   ]
  }
 ],
 "metadata": {
  "anaconda-cloud": {},
  "kernelspec": {
   "display_name": "Python 2",
   "language": "python",
   "name": "python2"
  },
  "language_info": {
   "codemirror_mode": {
    "name": "ipython",
    "version": 2
   },
   "file_extension": ".py",
   "mimetype": "text/x-python",
   "name": "python",
   "nbconvert_exporter": "python",
   "pygments_lexer": "ipython2",
   "version": "2.7.13"
  }
 },
 "nbformat": 4,
 "nbformat_minor": 2
}
