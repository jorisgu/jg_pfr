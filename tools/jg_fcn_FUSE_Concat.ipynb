{
 "cells": [
  {
   "cell_type": "code",
   "execution_count": null,
   "metadata": {
    "collapsed": true
   },
   "outputs": [],
   "source": [
    "import caffe\n",
    "import numpy as np"
   ]
  },
  {
   "cell_type": "code",
   "execution_count": null,
   "metadata": {
    "collapsed": false
   },
   "outputs": [],
   "source": [
    "fuse_deploy_concat012 = '/home/jguerry/workspace/dl_data_sunrgbd/MODELS/20170301_fcn32s_optim_fuse_concat/deploy_fuse_concat012.prototxt'\n",
    "weights_path_fuse_concat012='/home/jguerry/workspace/dl_data_sunrgbd/MODELS/20170301_fcn32s_optim_fuse_concat/fcn32s_fuse_concat012_init.caffemodel'\n",
    "\n",
    "fuse_deploy_basic = '/home/jguerry/workspace/dl_data_sunrgbd/MODELS/20170227_fcn32s_optim_fuse_(original)/deploy_fuse.prototxt'\n",
    "weights_path_fuse_basic='/home/jguerry/workspace/dl_data_sunrgbd/MODELS/20170227_fcn32s_optim_fuse_(original)/fcn32s_fuse.caffemodel'"
   ]
  },
  {
   "cell_type": "code",
   "execution_count": null,
   "metadata": {
    "collapsed": true
   },
   "outputs": [],
   "source": [
    "def transfer(new_net, net, prefix='', suffix=''):\n",
    "    # from fcn.berkeleyvision.org\n",
    "    for p in net.params:\n",
    "        #print \"Working on\", p, ':'\n",
    "        p_new = prefix + p + suffix\n",
    "        if p_new not in new_net.params:\n",
    "            print 'dropping', p\n",
    "            continue\n",
    "        for i in range(len(net.params[p])):\n",
    "            if i > (len(new_net.params[p_new]) - 1):\n",
    "                print 'dropping', p, i\n",
    "                break\n",
    "            if net.params[p][i].data.shape != new_net.params[p_new][i].data.shape:\n",
    "                print 'coercing', p, i, 'from', net.params[p][i].data.shape, 'to', new_net.params[p_new][i].data.shape\n",
    "            else:\n",
    "                print 'copying', p, ' -> ', p_new, i\n",
    "            new_net.params[p_new][i].data.flat = net.params[p][i].data.flat"
   ]
  },
  {
   "cell_type": "code",
   "execution_count": null,
   "metadata": {
    "collapsed": true
   },
   "outputs": [],
   "source": [
    "caffe_gpu = True\n",
    "if not caffe_gpu:\n",
    "    caffe.set_mode_cpu()\n",
    "else:\n",
    "    caffe.set_mode_gpu()\n",
    "    caffe.set_device(0);"
   ]
  },
  {
   "cell_type": "code",
   "execution_count": null,
   "metadata": {
    "collapsed": false,
    "scrolled": true
   },
   "outputs": [],
   "source": [
    "fuseNet_concat = caffe.Net(fuse_deploy_concat012, weights_path_fuse_basic, caffe.TEST)\n",
    "# fuseBlobs = [(k, v.data.shape) for k, v in fuseNet.blobs.items()]\n",
    "# fuseLayers = [(k, v[0].data.shape, v[1].data.shape) for k, v in fuseNet.params.items() if k not in ['upscore37_data0','upscore37_data1','upscore_sum', 'upscore_concat','upscore_rc_corrected']]"
   ]
  },
  {
   "cell_type": "code",
   "execution_count": null,
   "metadata": {
    "collapsed": false,
    "scrolled": true
   },
   "outputs": [],
   "source": [
    "#### SAVING\n",
    "print \"Saving output model to %s \" % weights_path_fuse_concat012\n",
    "fuseNet_concat.save(weights_path_fuse_concat012)"
   ]
  },
  {
   "cell_type": "code",
   "execution_count": null,
   "metadata": {
    "collapsed": true
   },
   "outputs": [],
   "source": [
    "del fuseNet_concat"
   ]
  },
  {
   "cell_type": "code",
   "execution_count": null,
   "metadata": {
    "collapsed": true
   },
   "outputs": [],
   "source": []
  }
 ],
 "metadata": {
  "anaconda-cloud": {},
  "kernelspec": {
   "display_name": "Python [conda env:jg_pfr]",
   "language": "python",
   "name": "conda-env-jg_pfr-py"
  },
  "language_info": {
   "codemirror_mode": {
    "name": "ipython",
    "version": 2
   },
   "file_extension": ".py",
   "mimetype": "text/x-python",
   "name": "python",
   "nbconvert_exporter": "python",
   "pygments_lexer": "ipython2",
   "version": "2.7.12"
  }
 },
 "nbformat": 4,
 "nbformat_minor": 1
}
