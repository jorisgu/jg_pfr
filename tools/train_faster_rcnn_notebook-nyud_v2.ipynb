{
 "cells": [
  {
   "cell_type": "code",
   "execution_count": null,
   "metadata": {
    "collapsed": false
   },
   "outputs": [],
   "source": [
    "#!/usr/bin/env python\n",
    "\n",
    "# --------------------------------------------------------\n",
    "# Py Faster R-CNN train notebook \n",
    "# based on py-faster-rcnn Written by Ross Girshick from Microsoft (MIT License)\n",
    "# Edited by Joris GUERRY from ONERA\n",
    "# --------------------------------------------------------\n",
    "\n",
    "\"\"\"Train a Faster R-CNN network using alternating optimization.\n",
    "This tool implements the alternating optimization algorithm described in our\n",
    "NIPS 2015 paper (\"Faster R-CNN: Towards Real-time Object Detection with Region\n",
    "Proposal Networks.\" Shaoqing Ren, Kaiming He, Ross Girshick, Jian Sun.)\n",
    "\"\"\"\n",
    "\n",
    "import _init_paths\n",
    "from fast_rcnn.train import get_training_roidb, train_net\n",
    "from fast_rcnn.config import cfg, cfg_from_file, cfg_from_list, get_output_dir\n",
    "from datasets.factory import get_imdb\n",
    "from rpn.generate import imdb_proposals\n",
    "import argparse\n",
    "import pprint\n",
    "import numpy as np\n",
    "import sys, os\n",
    "import multiprocessing as mp\n",
    "import cPickle\n",
    "import shutil"
   ]
  },
  {
   "cell_type": "code",
   "execution_count": null,
   "metadata": {
    "collapsed": true
   },
   "outputs": [],
   "source": [
    "def get_roidb(imdb_name, rpn_file=None):\n",
    "    print 'Requiring dataset `{:s}` for training'.format(imdb_name)\n",
    "    imdb = get_imdb(imdb_name)\n",
    "    print 'Loaded dataset `{:s}` for training'.format(imdb.name)\n",
    "    imdb.set_proposal_method(cfg.TRAIN.PROPOSAL_METHOD)\n",
    "    print 'Set proposal method: {:s}'.format(cfg.TRAIN.PROPOSAL_METHOD)\n",
    "    if rpn_file is not None:\n",
    "        imdb.config['rpn_file'] = rpn_file\n",
    "    roidb = get_training_roidb(imdb)\n",
    "    return roidb, imdb"
   ]
  },
  {
   "cell_type": "code",
   "execution_count": null,
   "metadata": {
    "collapsed": true
   },
   "outputs": [],
   "source": [
    "def get_solvers(net_name):\n",
    "    # Faster R-CNN Alternating Optimization\n",
    "    n = 'faster_rcnn_alt_opt'\n",
    "    # Solver for each training stage\n",
    "    solvers = [[net_name, n, 'stage1_rpn_solver60k80k.pt'],\n",
    "               [net_name, n, 'stage1_fast_rcnn_solver30k40k.pt'],\n",
    "               [net_name, n, 'stage2_rpn_solver60k80k.pt'],\n",
    "               [net_name, n, 'stage2_fast_rcnn_solver30k40k.pt']]\n",
    "    solvers = [os.path.join(cfg.MODELS_DIR, *s) for s in solvers]\n",
    "    # Iterations for each training stage\n",
    "    #max_iters = [80000, 40000, 80000, 40000]\n",
    "    max_iters = [100, 100, 100, 100]\n",
    "    # Test prototxt for the RPN\n",
    "    rpn_test_prototxt = os.path.join(\n",
    "        cfg.MODELS_DIR, net_name, n, 'rpn_test.pt')\n",
    "    return solvers, max_iters, rpn_test_prototxt"
   ]
  },
  {
   "cell_type": "code",
   "execution_count": null,
   "metadata": {
    "collapsed": true
   },
   "outputs": [],
   "source": [
    "def _init_caffe(cfg):\n",
    "    \"\"\"Initialize pycaffe in a training process.\n",
    "    \"\"\"\n",
    "\n",
    "    import caffe\n",
    "    # fix the random seeds (numpy and caffe) for reproducibility\n",
    "    np.random.seed(cfg.RNG_SEED)\n",
    "    caffe.set_random_seed(cfg.RNG_SEED)\n",
    "    # set up caffe\n",
    "    caffe.set_mode_gpu()\n",
    "    caffe.set_device(cfg.GPU_ID)"
   ]
  },
  {
   "cell_type": "code",
   "execution_count": null,
   "metadata": {
    "collapsed": false
   },
   "outputs": [],
   "source": [
    "class Args:\n",
    "    def __init__(self,\n",
    "                 gpu_id=0,\n",
    "                 net_name='VGG_CNN_M_1024',\n",
    "                 pretrained_model='/data/workspace/jg_pfr/data/imagenet_models/VGG_CNN_M_1024.v2.caffemodel',\n",
    "                 cfg_file='/data/workspace/jg_pfr/experiments/cfgs/faster_rcnn_alt_opt_nyud_v2.yml',\n",
    "                 imdb_name= 'nyud_v2_train_rgb',\n",
    "                 set_cfgs=None):\n",
    "        \n",
    "        self.gpu_id = gpu_id\n",
    "        self.net_name = net_name\n",
    "        self.pretrained_model = pretrained_model\n",
    "        self.cfg_file = cfg_file\n",
    "        self.imdb_name = imdb_name\n",
    "        self.set_cfgs = set_cfgs\n",
    "    \n",
    "args = Args()\n",
    "\n",
    "if args.cfg_file is not None:\n",
    "    cfg_from_file(args.cfg_file)\n",
    "if args.set_cfgs is not None:\n",
    "    cfg_from_list(args.set_cfgs)\n",
    "cfg.GPU_ID = args.gpu_id\n",
    "\n",
    "#pprint.pprint(cfg)"
   ]
  },
  {
   "cell_type": "code",
   "execution_count": null,
   "metadata": {
    "collapsed": true
   },
   "outputs": [],
   "source": [
    "# solves, iters, etc. for each training stage\n",
    "solvers, max_iters, rpn_test_prototxt = get_solvers(args.net_name)"
   ]
  },
  {
   "cell_type": "code",
   "execution_count": null,
   "metadata": {
    "collapsed": false
   },
   "outputs": [],
   "source": [
    "print '~~~~~~~~~~~~~~~~~~~~~~~~~~~~~~~~~~~~~~~~~~~~~~~~~~~~~~~~~~'\n",
    "print 'Stage 1.1 RPN, init from ImageNet model'\n",
    "print '~~~~~~~~~~~~~~~~~~~~~~~~~~~~~~~~~~~~~~~~~~~~~~~~~~~~~~~~~~'\n",
    "\n",
    "\"\"\"Train a Region Proposal Network in a separate training process.\n",
    "\"\"\"\n",
    "\n",
    "# Not using any proposals, just ground-truth boxes\n",
    "cfg.TRAIN.HAS_RPN = True\n",
    "cfg.TRAIN.BBOX_REG = False  # applies only to Fast R-CNN bbox regression\n",
    "cfg.TRAIN.PROPOSAL_METHOD = 'gt'\n",
    "cfg.TRAIN.IMS_PER_BATCH = 1\n",
    "print 'Init model: {}'.format(args.pretrained_model)\n",
    "print('Using config:')\n",
    "pprint.pprint(cfg)\n",
    "\n",
    "import caffe\n",
    "_init_caffe(cfg)\n",
    "\n",
    "roidb, imdb = get_roidb(args.imdb_name)\n",
    "print 'roidb len: {}'.format(len(roidb))\n",
    "output_dir = get_output_dir(imdb)\n",
    "print 'Output will be saved to `{:s}`'.format(output_dir)\n",
    "\n",
    "model_paths = train_net(solvers[0], roidb, output_dir,\n",
    "                        pretrained_model=args.pretrained_model,\n",
    "                        max_iters=max_iters[0])\n",
    "\n",
    "# Cleanup all but the final model\n",
    "for i in model_paths[:-1]:\n",
    "    os.remove(i)\n",
    "rpn_model_path = str(model_paths[-1])"
   ]
  },
  {
   "cell_type": "code",
   "execution_count": null,
   "metadata": {
    "collapsed": true
   },
   "outputs": [],
   "source": [
    "rpn_model_path = '/data/workspace/jg_pfr/output/pfr_ao_nyud_v2/nyud_v2_train_rgb/vgg_cnn_m_1024_rpn_iter_100.caffemodel'"
   ]
  },
  {
   "cell_type": "code",
   "execution_count": null,
   "metadata": {
    "collapsed": false
   },
   "outputs": [],
   "source": [
    "print '~~~~~~~~~~~~~~~~~~~~~~~~~~~~~~~~~~~~~~~~~~~~~~~~~~~~~~~~~~'\n",
    "print 'Stage 1.2 RPN, generate proposals'\n",
    "print '~~~~~~~~~~~~~~~~~~~~~~~~~~~~~~~~~~~~~~~~~~~~~~~~~~~~~~~~~~'\n",
    "\n",
    "cfg.TEST.RPN_PRE_NMS_TOP_N = -1     # no pre NMS filtering\n",
    "cfg.TEST.RPN_POST_NMS_TOP_N = 2000  # limit top boxes after NMS\n",
    "print 'RPN model: {}'.format(rpn_model_path)\n",
    "print('Using config:')\n",
    "pprint.pprint(cfg)\n",
    "\n",
    "import caffe\n",
    "_init_caffe(cfg)\n",
    "\n",
    "# NOTE: the matlab implementation computes proposals on flipped images, too.\n",
    "# We compute them on the image once and then flip the already computed\n",
    "# proposals. This might cause a minor loss in mAP (less proposal jittering).\n",
    "imdb = get_imdb(args.imdb_name)\n",
    "print 'Loaded dataset `{:s}` for proposal generation'.format(imdb.name)\n",
    "\n",
    "# Load RPN and configure output directory\n",
    "rpn_net = caffe.Net(rpn_test_prototxt, rpn_model_path, caffe.TEST)\n",
    "output_dir = get_output_dir(imdb)\n",
    "print 'Output will be saved to `{:s}`'.format(output_dir)\n",
    "\n",
    "# Generate proposals on the imdb\n",
    "rpn_proposals = imdb_proposals(rpn_net, imdb)\n",
    "\n",
    "# Write proposals to disk\n",
    "rpn_net_name = os.path.splitext(os.path.basename(rpn_model_path))[0]\n",
    "rpn_proposals_path = os.path.join(\n",
    "    output_dir, rpn_net_name + '_proposals.pkl')\n",
    "with open(rpn_proposals_path, 'wb') as f:\n",
    "    cPickle.dump(rpn_proposals, f, cPickle.HIGHEST_PROTOCOL)\n",
    "print 'Wrote RPN proposals to {}'.format(rpn_proposals_path)\n",
    "print \"Number of images : \"+ str(len(rpn_proposals))\n",
    "print \"Number of BB proposal : \"+ str((rpn_proposals[0]).shape[0])"
   ]
  },
  {
   "cell_type": "code",
   "execution_count": null,
   "metadata": {
    "collapsed": true
   },
   "outputs": [],
   "source": [
    "rpn_proposals_path = '/data/workspace/jg_pfr/output/pfr_ao_nyud_v2/nyud_v2_train_rgb/vgg_cnn_m_1024_rpn_iter_100_proposals.pkl'"
   ]
  },
  {
   "cell_type": "code",
   "execution_count": null,
   "metadata": {
    "collapsed": false
   },
   "outputs": [],
   "source": [
    "print '~~~~~~~~~~~~~~~~~~~~~~~~~~~~~~~~~~~~~~~~~~~~~~~~~~~~~~~~~~'\n",
    "print 'Stage 1.3 Fast R-CNN using RPN proposals, init from ImageNet model'\n",
    "print '~~~~~~~~~~~~~~~~~~~~~~~~~~~~~~~~~~~~~~~~~~~~~~~~~~~~~~~~~~'\n",
    "\n",
    "cfg.TRAIN.SNAPSHOT_INFIX = 'stage1'\n",
    "cfg.TRAIN.HAS_RPN = False           # not generating prosals on-the-fly\n",
    "cfg.TRAIN.PROPOSAL_METHOD = 'rpn'   # use pre-computed RPN proposals instead\n",
    "cfg.TRAIN.IMS_PER_BATCH = 2\n",
    "print 'Init model: {}'.format(args.pretrained_model)\n",
    "print 'RPN proposals: {}'.format(rpn_proposals_path)\n",
    "print('Using config:')\n",
    "pprint.pprint(cfg)\n",
    "\n",
    "import caffe\n",
    "_init_caffe(cfg)\n",
    "\n",
    "roidb, imdb = get_roidb(args.imdb_name, rpn_file=rpn_proposals_path)\n",
    "output_dir = get_output_dir(imdb)\n",
    "print 'Output will be saved to `{:s}`'.format(output_dir)"
   ]
  },
  {
   "cell_type": "code",
   "execution_count": null,
   "metadata": {
    "collapsed": false
   },
   "outputs": [],
   "source": [
    "print solvers[1]\n",
    "print output_dir\n",
    "print args.pretrained_model\n",
    "print max_iters[1]"
   ]
  },
  {
   "cell_type": "code",
   "execution_count": null,
   "metadata": {
    "collapsed": false
   },
   "outputs": [],
   "source": [
    "pprint.pprint(cfg)"
   ]
  },
  {
   "cell_type": "code",
   "execution_count": null,
   "metadata": {
    "collapsed": false
   },
   "outputs": [],
   "source": [
    "# Train Fast R-CNN\n",
    "model_paths = train_net(solvers[1], roidb, output_dir,\n",
    "                        pretrained_model=args.pretrained_model,\n",
    "                        max_iters=max_iters[1])\n",
    "# Cleanup all but the final model\n",
    "for i in model_paths[:-1]:\n",
    "    os.remove(i)\n",
    "fast_rcnn_model_path = model_paths[-1]\n",
    "# Send Fast R-CNN model path over the multiprocessing queue\n",
    "#queue.put({'model_path': fast_rcnn_model_path})"
   ]
  },
  {
   "cell_type": "code",
   "execution_count": null,
   "metadata": {
    "collapsed": true
   },
   "outputs": [],
   "source": [
    "stoooooooooooooooooooooooooooop here Jack !"
   ]
  },
  {
   "cell_type": "raw",
   "metadata": {},
   "source": [
    "# --------------------------------------------------------------------------\n",
    "# Pycaffe doesn't reliably free GPU memory when instantiated nets are\n",
    "# discarded (e.g. \"del net\" in Python code). To work around this issue, each\n",
    "# training stage is executed in a separate process using\n",
    "# multiprocessing.Process.\n",
    "# --------------------------------------------------------------------------\n",
    "\n",
    "# queue for communicated results between processes\n",
    "mp_queue = mp.Queue()"
   ]
  },
  {
   "cell_type": "raw",
   "metadata": {},
   "source": [
    "    print '~~~~~~~~~~~~~~~~~~~~~~~~~~~~~~~~~~~~~~~~~~~~~~~~~~~~~~~~~~'\n",
    "    print 'Stage 1 RPN, init from ImageNet model'\n",
    "    print '~~~~~~~~~~~~~~~~~~~~~~~~~~~~~~~~~~~~~~~~~~~~~~~~~~~~~~~~~~'\n",
    "\n",
    "    cfg.TRAIN.SNAPSHOT_INFIX = 'stage1'\n",
    "    mp_kwargs = dict(\n",
    "            queue=mp_queue,\n",
    "            imdb_name=args.imdb_name,\n",
    "            init_model=args.pretrained_model,\n",
    "            solver=solvers[0],\n",
    "            max_iters=max_iters[0],\n",
    "            cfg=cfg)\n",
    "    p = mp.Process(target=train_rpn, kwargs=mp_kwargs)\n",
    "    p.start()\n",
    "    rpn_stage1_out = mp_queue.get()\n",
    "    p.join()"
   ]
  },
  {
   "cell_type": "raw",
   "metadata": {},
   "source": [
    "print '~~~~~~~~~~~~~~~~~~~~~~~~~~~~~~~~~~~~~~~~~~~~~~~~~~~~~~~~~~'\n",
    "print 'Stage 1 RPN, generate proposals'\n",
    "print '~~~~~~~~~~~~~~~~~~~~~~~~~~~~~~~~~~~~~~~~~~~~~~~~~~~~~~~~~~'\n",
    "\n",
    "mp_kwargs = dict(\n",
    "        queue=mp_queue,\n",
    "        imdb_name=args.imdb_name,\n",
    "        rpn_model_path=str(rpn_stage1_out['model_path']),\n",
    "        cfg=cfg,\n",
    "        rpn_test_prototxt=rpn_test_prototxt)\n",
    "p = mp.Process(target=rpn_generate, kwargs=mp_kwargs)\n",
    "p.start()\n",
    "rpn_stage1_out['proposal_path'] = mp_queue.get()['proposal_path']\n",
    "p.join()"
   ]
  },
  {
   "cell_type": "raw",
   "metadata": {},
   "source": [
    "print '~~~~~~~~~~~~~~~~~~~~~~~~~~~~~~~~~~~~~~~~~~~~~~~~~~~~~~~~~~'\n",
    "print 'Stage 1 Fast R-CNN using RPN proposals, init from ImageNet model'\n",
    "print '~~~~~~~~~~~~~~~~~~~~~~~~~~~~~~~~~~~~~~~~~~~~~~~~~~~~~~~~~~'\n",
    "\n",
    "cfg.TRAIN.SNAPSHOT_INFIX = 'stage1'\n",
    "mp_kwargs = dict(\n",
    "        queue=mp_queue,\n",
    "        imdb_name=args.imdb_name,\n",
    "        init_model=args.pretrained_model,\n",
    "        solver=solvers[1],\n",
    "        max_iters=max_iters[1],\n",
    "        cfg=cfg,\n",
    "        rpn_file=rpn_stage1_out['proposal_path'])\n",
    "p = mp.Process(target=train_fast_rcnn, kwargs=mp_kwargs)\n",
    "p.start()\n",
    "fast_rcnn_stage1_out = mp_queue.get()\n",
    "p.join()"
   ]
  },
  {
   "cell_type": "code",
   "execution_count": null,
   "metadata": {
    "collapsed": true
   },
   "outputs": [],
   "source": [
    "print '~~~~~~~~~~~~~~~~~~~~~~~~~~~~~~~~~~~~~~~~~~~~~~~~~~~~~~~~~~'\n",
    "print 'Stage 2 RPN, init from stage 1 Fast R-CNN model'\n",
    "print '~~~~~~~~~~~~~~~~~~~~~~~~~~~~~~~~~~~~~~~~~~~~~~~~~~~~~~~~~~'\n",
    "\n",
    "cfg.TRAIN.SNAPSHOT_INFIX = 'stage2'\n",
    "mp_kwargs = dict(\n",
    "        queue=mp_queue,\n",
    "        imdb_name=args.imdb_name,\n",
    "        init_model=str(fast_rcnn_stage1_out['model_path']),\n",
    "        solver=solvers[2],\n",
    "        max_iters=max_iters[2],\n",
    "        cfg=cfg)\n",
    "p = mp.Process(target=train_rpn, kwargs=mp_kwargs)\n",
    "p.start()\n",
    "rpn_stage2_out = mp_queue.get()\n",
    "p.join()"
   ]
  },
  {
   "cell_type": "code",
   "execution_count": null,
   "metadata": {
    "collapsed": true
   },
   "outputs": [],
   "source": [
    "print '~~~~~~~~~~~~~~~~~~~~~~~~~~~~~~~~~~~~~~~~~~~~~~~~~~~~~~~~~~'\n",
    "print 'Stage 2 RPN, generate proposals'\n",
    "print '~~~~~~~~~~~~~~~~~~~~~~~~~~~~~~~~~~~~~~~~~~~~~~~~~~~~~~~~~~'\n",
    "\n",
    "mp_kwargs = dict(\n",
    "        queue=mp_queue,\n",
    "        imdb_name=args.imdb_name,\n",
    "        rpn_model_path=str(rpn_stage2_out['model_path']),\n",
    "        cfg=cfg,\n",
    "        rpn_test_prototxt=rpn_test_prototxt)\n",
    "p = mp.Process(target=rpn_generate, kwargs=mp_kwargs)\n",
    "p.start()\n",
    "rpn_stage2_out['proposal_path'] = mp_queue.get()['proposal_path']\n",
    "p.join()"
   ]
  },
  {
   "cell_type": "code",
   "execution_count": null,
   "metadata": {
    "collapsed": true
   },
   "outputs": [],
   "source": [
    "print '~~~~~~~~~~~~~~~~~~~~~~~~~~~~~~~~~~~~~~~~~~~~~~~~~~~~~~~~~~'\n",
    "print 'Stage 2 Fast R-CNN, init from stage 2 RPN R-CNN model'\n",
    "print '~~~~~~~~~~~~~~~~~~~~~~~~~~~~~~~~~~~~~~~~~~~~~~~~~~~~~~~~~~'\n",
    "\n",
    "cfg.TRAIN.SNAPSHOT_INFIX = 'stage2'\n",
    "mp_kwargs = dict(\n",
    "        queue=mp_queue,\n",
    "        imdb_name=args.imdb_name,\n",
    "        init_model=str(rpn_stage2_out['model_path']),\n",
    "        solver=solvers[3],\n",
    "        max_iters=max_iters[3],\n",
    "        cfg=cfg,\n",
    "        rpn_file=rpn_stage2_out['proposal_path'])\n",
    "p = mp.Process(target=train_fast_rcnn, kwargs=mp_kwargs)\n",
    "p.start()\n",
    "fast_rcnn_stage2_out = mp_queue.get()\n",
    "p.join()"
   ]
  },
  {
   "cell_type": "code",
   "execution_count": null,
   "metadata": {
    "collapsed": true
   },
   "outputs": [],
   "source": [
    "# Create final model (just a copy of the last stage)\n",
    "final_path = os.path.join(\n",
    "        os.path.dirname(fast_rcnn_stage2_out['model_path']),\n",
    "        args.net_name + '_faster_rcnn_final.caffemodel')\n",
    "print 'cp {} -> {}'.format(\n",
    "        fast_rcnn_stage2_out['model_path'], final_path)\n",
    "shutil.copy(fast_rcnn_stage2_out['model_path'], final_path)\n",
    "print 'Final model: {}'.format(final_path)"
   ]
  }
 ],
 "metadata": {
  "kernelspec": {
   "display_name": "Python [Root]",
   "language": "python",
   "name": "Python [Root]"
  },
  "language_info": {
   "codemirror_mode": {
    "name": "ipython",
    "version": 2
   },
   "file_extension": ".py",
   "mimetype": "text/x-python",
   "name": "python",
   "nbconvert_exporter": "python",
   "pygments_lexer": "ipython2",
   "version": "2.7.12"
  }
 },
 "nbformat": 4,
 "nbformat_minor": 0
}
