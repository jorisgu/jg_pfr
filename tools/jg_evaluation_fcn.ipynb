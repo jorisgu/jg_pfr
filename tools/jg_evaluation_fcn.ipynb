{
 "cells": [
  {
   "cell_type": "markdown",
   "metadata": {},
   "source": [
    "confusion matrix :\n",
    "    http://gcucurull.github.io/caffe/python/deep-learning/2016/06/29/caffe-confusion-matrix/\n",
    "    https://github.com/gcucurull/caffe-conf-matrix\n",
    "FCN :\n",
    "    score :\n",
    "        https://github.com/shelhamer/fcn.berkeleyvision.org/blob/master/score.py\n",
    "    infer :\n",
    "        https://github.com/shelhamer/fcn.berkeleyvision.org/blob/master/infer.py"
   ]
  },
  {
   "cell_type": "code",
   "execution_count": 1,
   "metadata": {
    "collapsed": true
   },
   "outputs": [],
   "source": [
    "from __future__ import division\n",
    "from __future__ import print_function\n",
    "import caffe\n",
    "import numpy as np\n",
    "import os\n",
    "import sys\n",
    "from datetime import datetime\n",
    "from PIL import Image\n",
    "from IPython.display import Image\n",
    "from IPython.display import clear_output\n",
    "import time"
   ]
  },
  {
   "cell_type": "code",
   "execution_count": 2,
   "metadata": {
    "collapsed": false
   },
   "outputs": [],
   "source": [
    "def log_progress(sequence, title='', every=1, size=None, end_msg='', removeAtTheEnd=False):\n",
    "    from ipywidgets import IntProgress, HTML, VBox\n",
    "    from IPython.display import display\n",
    "\n",
    "    is_iterator = False\n",
    "    if size is None:\n",
    "        try:\n",
    "            size = len(sequence)\n",
    "        except TypeError:\n",
    "            is_iterator = True\n",
    "    if size is not None:\n",
    "        if every is None:\n",
    "            if size <= 200:\n",
    "                every = 1\n",
    "            else:\n",
    "                every = int(size / 200)     # every 0.5%\n",
    "    else:\n",
    "        assert every is not None, 'sequence is iterator, set every'\n",
    "\n",
    "    if is_iterator:\n",
    "        progress = IntProgress(min=0, max=1, value=1)\n",
    "        progress.bar_style = 'info'\n",
    "    else:\n",
    "        progress = IntProgress(min=0, max=size, value=0)\n",
    "    label = HTML()\n",
    "    box = VBox(children=[label, progress])\n",
    "    display(box)\n",
    "\n",
    "    index = 0\n",
    "    try:\n",
    "        for index, record in enumerate(sequence, 1):\n",
    "            if index == 1 or index % every == 0:\n",
    "                if is_iterator:\n",
    "                    label.value = '{index} / ?'.format(index=index)\n",
    "                else:\n",
    "                    progress.value = index\n",
    "                    label.value = u'{title} : {value} ({index} / {size})'.format(\n",
    "                        title=title,\n",
    "                        value=sequence[index-1],\n",
    "                        index=index,\n",
    "                        size=size\n",
    "                    )\n",
    "            yield record\n",
    "    except:\n",
    "        progress.bar_style = 'danger'\n",
    "        raise\n",
    "    else:\n",
    "        progress.bar_style = 'success'\n",
    "        progress.value = index\n",
    "        label.value = end_msg\n",
    "        if removeAtTheEnd:\n",
    "            box.close()\n",
    "    "
   ]
  },
  {
   "cell_type": "code",
   "execution_count": 3,
   "metadata": {
    "collapsed": true
   },
   "outputs": [],
   "source": [
    "def fast_hist(a, b, n):\n",
    "    k = (a >= 0) & (a < n)\n",
    "    return np.bincount(n * a[k].astype(int) + b[k], minlength=n**2).reshape(n, n)"
   ]
  },
  {
   "cell_type": "code",
   "execution_count": 4,
   "metadata": {
    "collapsed": true
   },
   "outputs": [],
   "source": [
    "import _init_paths\n",
    "import caffe\n",
    "#import jg_layers.jg_input_voc_layers"
   ]
  },
  {
   "cell_type": "code",
   "execution_count": 5,
   "metadata": {
    "collapsed": true
   },
   "outputs": [],
   "source": [
    "def evaluate(results):\n",
    "    \n",
    "    hist_cumul = 0*results[0]\n",
    "    for hist in results:\n",
    "        hist_cumul+=hist\n",
    "    result = {}\n",
    "    \n",
    "\n",
    "    acc = np.diag(hist_cumul).sum() / hist_cumul.sum()\n",
    "    # per-class accuracy\n",
    "    pc_acc = np.diag(hist_cumul) / hist_cumul.sum(1)\n",
    "    mean_accuracy= np.nanmean(pc_acc)\n",
    "    # per-class IU\n",
    "    iu = np.diag(hist_cumul) / (hist_cumul.sum(1) + hist_cumul.sum(0) - np.diag(hist_cumul))\n",
    "    mean_iu= np.nanmean(iu)\n",
    "    freq = hist_cumul.sum(1) / hist_cumul.sum()\n",
    "    freq_weighted_iu=(freq[freq > 0] * iu[freq > 0]).sum()\n",
    "    \n",
    "    print(\"Accuracy :\",acc)\n",
    "    print(\"per-class accuracy :\",mean_accuracy)\n",
    "    print(\"per-class IU :\",mean_iu)\n",
    "    print(\"per-class IU (frequency weighted) :\",freq_weighted_iu)\n",
    "    \n",
    "    return acc"
   ]
  },
  {
   "cell_type": "code",
   "execution_count": null,
   "metadata": {
    "collapsed": true
   },
   "outputs": [],
   "source": []
  },
  {
   "cell_type": "code",
   "execution_count": 6,
   "metadata": {
    "collapsed": true
   },
   "outputs": [],
   "source": [
    "#newParams = {}\n",
    "\n",
    "## classes\n",
    "#newParams['classes_file_path']= '/home/jogue/workspace/datasets/SUNRGBD_pv/37_classes.txt'\n",
    "\n",
    "## images\n",
    "#newParams['images_folder']= '/home/jogue/workspace/datasets/SUNRGBD_pv/data/rgb_i_100_8bits/'\n",
    "#newParams['image_file_extension']= 'png'\n",
    "## segmentations\n",
    "#newParams['segmentations_folder']= '/home/jogue/workspace/datasets/SUNRGBD_pv/data_nyudv2/labels_segmentation_37d_range_10-10-100/testGupta/'                            \n",
    "#newParams['segmentation_file_extension']= 'png'\n",
    "\n",
    "##sets\n",
    "#newParams['set_file_path']= '/home/jogue/workspace/datasets/SUNRGBD_pv/data/sets/nyudv2_gupta/testGupta_10-10-100.txt'\n",
    "\n",
    "## shuffle\n",
    "#newParams['shuffle']= False"
   ]
  },
  {
   "cell_type": "code",
   "execution_count": 7,
   "metadata": {
    "collapsed": false
   },
   "outputs": [],
   "source": [
    "ICIPmodels = '/home/jogue/workspace/ICIP/models/'\n",
    "prototxt_path = ICIPmodels+'jg_eval.prototxt'\n",
    "caffe_gpu = True\n",
    "if not caffe_gpu:\n",
    "    caffe.set_mode_cpu()\n",
    "else:\n",
    "    caffe.set_mode_gpu()\n",
    "    caffe.set_device(0);"
   ]
  },
  {
   "cell_type": "code",
   "execution_count": 8,
   "metadata": {
    "collapsed": false,
    "scrolled": false
   },
   "outputs": [
    {
     "name": "stdout",
     "output_type": "stream",
     "text": [
      "Number of image : 654\n",
      "Separated in 37 classes : {'toilet': 32, 'whiteboard': 29, 'wall': 0, 'night_stand': 31, 'books': 22, 'mirror': 18, 'table': 6, 'chair': 4, 'floor': 1, 'tv': 24, 'lamp': 34, 'window': 8, 'curtain': 15, 'blinds': 12, 'dresser': 16, 'picture': 10, 'ceiling': 21, 'door': 7, 'shower_curtain': 27, 'fridge': 23, 'cabinet': 2, 'sink': 33, 'desk': 13, 'bookshelf': 9, 'towel': 26, 'box': 28, 'floor_mat': 19, 'shelves': 14, 'sofa': 5, 'counter': 11, 'bed': 3, 'person': 30, 'paper': 25, 'bag': 36, 'bathtub': 35, 'pillow': 17, 'clothes': 20}\n"
     ]
    }
   ],
   "source": [
    "net = caffe.Net(prototxt_path, caffe.TEST)\n",
    "#net = caffe.Net(prototxt_path,weights_path , caffe.TEST)"
   ]
  },
  {
   "cell_type": "markdown",
   "metadata": {},
   "source": [
    "#### Blobs & Layers"
   ]
  },
  {
   "cell_type": "code",
   "execution_count": 9,
   "metadata": {
    "collapsed": false,
    "scrolled": true
   },
   "outputs": [],
   "source": [
    "B = [(k, v.data.shape) for k, v in net.blobs.items()]\n",
    "L = [(k, v[0].data.shape, v[1].data.shape) for k, v in net.params.items() if k != 'upscore37']"
   ]
  },
  {
   "cell_type": "markdown",
   "metadata": {},
   "source": [
    "#### Updating with new params"
   ]
  },
  {
   "cell_type": "code",
   "execution_count": 10,
   "metadata": {
    "collapsed": false
   },
   "outputs": [
    {
     "name": "stderr",
     "output_type": "stream",
     "text": [
      "Widget Javascript not detected.  It may not be installed properly. Did you enable the widgetsnbextension? If not, then run \"jupyter nbextension enable --py --sys-prefix widgetsnbextension\"\n",
      "Widget Javascript not detected.  It may not be installed properly. Did you enable the widgetsnbextension? If not, then run \"jupyter nbextension enable --py --sys-prefix widgetsnbextension\"\n",
      "Widget Javascript not detected.  It may not be installed properly. Did you enable the widgetsnbextension? If not, then run \"jupyter nbextension enable --py --sys-prefix widgetsnbextension\"\n"
     ]
    },
    {
     "name": "stdout",
     "output_type": "stream",
     "text": [
      "###############################################################\n",
      "NEW TESTING : model 10-10-100 % on 100 %.\n",
      "New epoch [total epoch : 1 ].\n",
      "Images processed = 0\n",
      "Cumulative loss = 906.887292072\n",
      "Accuracy : 0.672508756813\n",
      "per-class accuracy : 0.504340923923\n",
      "per-class IU : 0.354876512169\n",
      "per-class IU (frequency weighted) : 0.522990298425\n",
      "###############################################################\n",
      "NEW TESTING : model 10-10-100 % on 80 %.\n"
     ]
    },
    {
     "name": "stderr",
     "output_type": "stream",
     "text": [
      "/home/jogue/soft/anaconda2/envs/jg_pfr/lib/python2.7/site-packages/ipykernel/__main__.py:11: RuntimeWarning: invalid value encountered in true_divide\n",
      "/home/jogue/soft/anaconda2/envs/jg_pfr/lib/python2.7/site-packages/ipykernel/__main__.py:14: RuntimeWarning: invalid value encountered in true_divide\n",
      "Widget Javascript not detected.  It may not be installed properly. Did you enable the widgetsnbextension? If not, then run \"jupyter nbextension enable --py --sys-prefix widgetsnbextension\"\n"
     ]
    },
    {
     "name": "stdout",
     "output_type": "stream",
     "text": [
      "New epoch [total epoch : 1 ].\n",
      "Images processed = 0\n",
      "Cumulative loss = 890.431005761\n",
      "Accuracy : 0.657902757314\n",
      "per-class accuracy : 0.487240939238\n",
      "per-class IU : 0.345153866385\n",
      "per-class IU (frequency weighted) : 0.506962673916\n",
      "###############################################################\n",
      "NEW TESTING : model 10-10-100 % on 60 %.\n"
     ]
    },
    {
     "name": "stderr",
     "output_type": "stream",
     "text": [
      "Widget Javascript not detected.  It may not be installed properly. Did you enable the widgetsnbextension? If not, then run \"jupyter nbextension enable --py --sys-prefix widgetsnbextension\"\n"
     ]
    },
    {
     "name": "stdout",
     "output_type": "stream",
     "text": [
      "New epoch [total epoch : 1 ].\n",
      "Images processed = 0\n",
      "Cumulative loss = 926.392406613\n",
      "Accuracy : 0.617417160692\n",
      "per-class accuracy : 0.432515005087\n",
      "per-class IU : 0.307402318943\n",
      "per-class IU (frequency weighted) : 0.46110970653\n",
      "###############################################################\n",
      "NEW TESTING : model 10-10-100 % on 40 %.\n"
     ]
    },
    {
     "name": "stderr",
     "output_type": "stream",
     "text": [
      "Widget Javascript not detected.  It may not be installed properly. Did you enable the widgetsnbextension? If not, then run \"jupyter nbextension enable --py --sys-prefix widgetsnbextension\"\n"
     ]
    },
    {
     "name": "stdout",
     "output_type": "stream",
     "text": [
      "New epoch [total epoch : 1 ].\n",
      "Images processed = 0\n",
      "Cumulative loss = 1003.2447077\n",
      "Accuracy : 0.57054357676\n",
      "per-class accuracy : 0.353966699071\n",
      "per-class IU : 0.250355123629\n",
      "per-class IU (frequency weighted) : 0.406285010696\n",
      "###############################################################\n",
      "NEW TESTING : model 10-10-100 % on 20 %.\n"
     ]
    },
    {
     "name": "stderr",
     "output_type": "stream",
     "text": [
      "Widget Javascript not detected.  It may not be installed properly. Did you enable the widgetsnbextension? If not, then run \"jupyter nbextension enable --py --sys-prefix widgetsnbextension\"\n"
     ]
    },
    {
     "name": "stdout",
     "output_type": "stream",
     "text": [
      "New epoch [total epoch : 1 ].\n",
      "Images processed = 0\n",
      "Cumulative loss = 1080.35869086\n",
      "Accuracy : 0.530140524341\n",
      "per-class accuracy : 0.278811547172\n",
      "per-class IU : 0.193359275728\n",
      "per-class IU (frequency weighted) : 0.359556874711\n"
     ]
    },
    {
     "name": "stderr",
     "output_type": "stream",
     "text": [
      "Widget Javascript not detected.  It may not be installed properly. Did you enable the widgetsnbextension? If not, then run \"jupyter nbextension enable --py --sys-prefix widgetsnbextension\"\n",
      "Widget Javascript not detected.  It may not be installed properly. Did you enable the widgetsnbextension? If not, then run \"jupyter nbextension enable --py --sys-prefix widgetsnbextension\"\n"
     ]
    },
    {
     "name": "stdout",
     "output_type": "stream",
     "text": [
      "###############################################################\n",
      "NEW TESTING : model 60-10-100 % on 100 %.\n",
      "New epoch [total epoch : 1 ].\n",
      "Images processed = 0\n",
      "Cumulative loss = 1085.80640831\n",
      "Accuracy : 0.680884177897\n",
      "per-class accuracy : 0.503931925798\n",
      "per-class IU : 0.360540829397\n",
      "per-class IU (frequency weighted) : 0.529487335996\n",
      "###############################################################\n",
      "NEW TESTING : model 60-10-100 % on 80 %.\n"
     ]
    },
    {
     "name": "stderr",
     "output_type": "stream",
     "text": [
      "Widget Javascript not detected.  It may not be installed properly. Did you enable the widgetsnbextension? If not, then run \"jupyter nbextension enable --py --sys-prefix widgetsnbextension\"\n"
     ]
    },
    {
     "name": "stdout",
     "output_type": "stream",
     "text": [
      "New epoch [total epoch : 1 ].\n",
      "Images processed = 0\n",
      "Cumulative loss = 999.665861562\n",
      "Accuracy : 0.666415827939\n",
      "per-class accuracy : 0.48452947466\n",
      "per-class IU : 0.348059050075\n",
      "per-class IU (frequency weighted) : 0.513807353582\n",
      "###############################################################\n",
      "NEW TESTING : model 60-10-100 % on 60 %.\n"
     ]
    },
    {
     "name": "stderr",
     "output_type": "stream",
     "text": [
      "Widget Javascript not detected.  It may not be installed properly. Did you enable the widgetsnbextension? If not, then run \"jupyter nbextension enable --py --sys-prefix widgetsnbextension\"\n"
     ]
    },
    {
     "name": "stdout",
     "output_type": "stream",
     "text": [
      "New epoch [total epoch : 1 ].\n",
      "Images processed = 0\n",
      "Cumulative loss = 1014.36424869\n",
      "Accuracy : 0.619424353822\n",
      "per-class accuracy : 0.419727643636\n",
      "per-class IU : 0.304796930198\n",
      "per-class IU (frequency weighted) : 0.460211656565\n",
      "###############################################################\n",
      "NEW TESTING : model 60-10-100 % on 40 %.\n"
     ]
    },
    {
     "name": "stderr",
     "output_type": "stream",
     "text": [
      "Widget Javascript not detected.  It may not be installed properly. Did you enable the widgetsnbextension? If not, then run \"jupyter nbextension enable --py --sys-prefix widgetsnbextension\"\n"
     ]
    },
    {
     "name": "stdout",
     "output_type": "stream",
     "text": [
      "New epoch [total epoch : 1 ].\n",
      "Images processed = 0\n",
      "Cumulative loss = 1142.17625487\n",
      "Accuracy : 0.547323105062\n",
      "per-class accuracy : 0.308135772456\n",
      "per-class IU : 0.223658547433\n",
      "per-class IU (frequency weighted) : 0.378567262487\n",
      "###############################################################\n",
      "NEW TESTING : model 60-10-100 % on 20 %.\n"
     ]
    },
    {
     "name": "stderr",
     "output_type": "stream",
     "text": [
      "Widget Javascript not detected.  It may not be installed properly. Did you enable the widgetsnbextension? If not, then run \"jupyter nbextension enable --py --sys-prefix widgetsnbextension\"\n"
     ]
    },
    {
     "name": "stdout",
     "output_type": "stream",
     "text": [
      "New epoch [total epoch : 1 ].\n",
      "Images processed = 0\n",
      "Cumulative loss = 1333.27963114\n",
      "Accuracy : 0.479730496211\n",
      "per-class accuracy : 0.198425922268\n",
      "per-class IU : 0.133839116674\n",
      "per-class IU (frequency weighted) : 0.304217770207\n"
     ]
    },
    {
     "name": "stderr",
     "output_type": "stream",
     "text": [
      "Widget Javascript not detected.  It may not be installed properly. Did you enable the widgetsnbextension? If not, then run \"jupyter nbextension enable --py --sys-prefix widgetsnbextension\"\n",
      "Widget Javascript not detected.  It may not be installed properly. Did you enable the widgetsnbextension? If not, then run \"jupyter nbextension enable --py --sys-prefix widgetsnbextension\"\n"
     ]
    },
    {
     "name": "stdout",
     "output_type": "stream",
     "text": [
      "###############################################################\n",
      "NEW TESTING : model 80-10-100 % on 100 %.\n",
      "New epoch [total epoch : 1 ].\n",
      "Images processed = 0\n",
      "Cumulative loss = 1033.92811131\n",
      "Accuracy : 0.686773553373\n",
      "per-class accuracy : 0.512260151199\n",
      "per-class IU : 0.371152153591\n",
      "per-class IU (frequency weighted) : 0.536840210639\n",
      "###############################################################\n",
      "NEW TESTING : model 80-10-100 % on 80 %.\n"
     ]
    },
    {
     "name": "stderr",
     "output_type": "stream",
     "text": [
      "Widget Javascript not detected.  It may not be installed properly. Did you enable the widgetsnbextension? If not, then run \"jupyter nbextension enable --py --sys-prefix widgetsnbextension\"\n"
     ]
    },
    {
     "name": "stdout",
     "output_type": "stream",
     "text": [
      "New epoch [total epoch : 1 ].\n",
      "Images processed = 0\n",
      "Cumulative loss = 962.663928926\n",
      "Accuracy : 0.664905097053\n",
      "per-class accuracy : 0.481879467105\n",
      "per-class IU : 0.350409221733\n",
      "per-class IU (frequency weighted) : 0.513040670462\n",
      "###############################################################\n",
      "NEW TESTING : model 80-10-100 % on 60 %.\n"
     ]
    },
    {
     "name": "stderr",
     "output_type": "stream",
     "text": [
      "Widget Javascript not detected.  It may not be installed properly. Did you enable the widgetsnbextension? If not, then run \"jupyter nbextension enable --py --sys-prefix widgetsnbextension\"\n"
     ]
    },
    {
     "name": "stdout",
     "output_type": "stream",
     "text": [
      "New epoch [total epoch : 1 ].\n",
      "Images processed = 0\n",
      "Cumulative loss = 1043.16543667\n",
      "Accuracy : 0.597304353484\n",
      "per-class accuracy : 0.385016654531\n",
      "per-class IU : 0.281594934037\n",
      "per-class IU (frequency weighted) : 0.434231963796\n",
      "###############################################################\n",
      "NEW TESTING : model 80-10-100 % on 40 %.\n"
     ]
    },
    {
     "name": "stderr",
     "output_type": "stream",
     "text": [
      "Widget Javascript not detected.  It may not be installed properly. Did you enable the widgetsnbextension? If not, then run \"jupyter nbextension enable --py --sys-prefix widgetsnbextension\"\n"
     ]
    },
    {
     "name": "stdout",
     "output_type": "stream",
     "text": [
      "New epoch [total epoch : 1 ].\n",
      "Images processed = 0\n",
      "Cumulative loss = 1241.45524731\n",
      "Accuracy : 0.507927838799\n",
      "per-class accuracy : 0.255891724902\n",
      "per-class IU : 0.185649235221\n",
      "per-class IU (frequency weighted) : 0.33274805095\n",
      "###############################################################\n",
      "NEW TESTING : model 80-10-100 % on 20 %.\n"
     ]
    },
    {
     "name": "stderr",
     "output_type": "stream",
     "text": [
      "Widget Javascript not detected.  It may not be installed properly. Did you enable the widgetsnbextension? If not, then run \"jupyter nbextension enable --py --sys-prefix widgetsnbextension\"\n"
     ]
    },
    {
     "name": "stdout",
     "output_type": "stream",
     "text": [
      "New epoch [total epoch : 1 ].\n",
      "Images processed = 0\n",
      "Cumulative loss = 1451.07231179\n",
      "Accuracy : 0.433026004821\n",
      "per-class accuracy : 0.146026516343\n",
      "per-class IU : 0.0976630980738\n",
      "per-class IU (frequency weighted) : 0.247910150091\n"
     ]
    }
   ],
   "source": [
    "modelToTest = ['10-10-100','60-10-100','80-10-100'] #,100,90,80,70,60,40,20]\n",
    "#modelToTest = ['10-10-100','60-10-100','80-10-100',100,90,80,70,60,40,20]\n",
    "#DatasetToTest = range(100,0,-10)\n",
    "for luminosity_model in log_progress(modelToTest,title='Luminosity model', end_msg='Finished !'): \n",
    "    weights_path = ICIPmodels+'rgb_'+str(luminosity_model)+'/weights.caffemodel'\n",
    "    net.copy_from(weights_path)\n",
    "    for luminosity_datatest in log_progress(range(100,0,-20), title='Luminosity dataset', removeAtTheEnd=True):\n",
    "        newParams = {}\n",
    "        newParams['images_folder']= '/home/jogue/workspace/datasets/SUNRGBD_pv/data/rgb_i_'+str(luminosity_datatest)+'_8bits/'\n",
    "        newParams['iter_counter']=0\n",
    "        newParams['countEpoch']=0\n",
    "        net.layers[0].update(newParams)\n",
    "        \n",
    "        results = []\n",
    "        losses = []\n",
    "        \n",
    "        n_cl = net.blobs['score'].channels\n",
    "        hist = np.zeros((n_cl, n_cl))\n",
    "        loss = 0\n",
    "        print(\"###############################################################\")\n",
    "        print(\"NEW TESTING : model\",luminosity_model,\"% on\",luminosity_datatest,\"%.\")\n",
    "        #for idx in log_progress(range(net.layers[0].nb_images), title='iteration', end_msg=str(i),removeAtTheEnd=True):\n",
    "        for idx in log_progress(range(net.layers[0].nb_images), title='iteration', removeAtTheEnd=True):\n",
    "            net.forward()\n",
    "            score_map = net.blobs['score'].data[0].argmax(0)\n",
    "            gt_map = net.blobs['label'].data[0, 0]\n",
    "            hist = fast_hist(gt_map.flatten(),score_map.flatten(),n_cl)\n",
    "            # compute the loss as well\n",
    "            loss = net.blobs['loss'].data.flat[0]\n",
    "            results.append(hist)\n",
    "            losses.append(loss)\n",
    "        print(\"Images processed =\",net.layers[0].iter_counter)\n",
    "        print(\"Cumulative loss =\",sum(losses))\n",
    "        evaluate(results)"
   ]
  }
 ],
 "metadata": {
  "anaconda-cloud": {},
  "celltoolbar": "Raw Cell Format",
  "kernelspec": {
   "display_name": "Python [conda env:jg_pfr]",
   "language": "python",
   "name": "conda-env-jg_pfr-py"
  },
  "language_info": {
   "codemirror_mode": {
    "name": "ipython",
    "version": 2
   },
   "file_extension": ".py",
   "mimetype": "text/x-python",
   "name": "python",
   "nbconvert_exporter": "python",
   "pygments_lexer": "ipython2",
   "version": "2.7.13"
  }
 },
 "nbformat": 4,
 "nbformat_minor": 1
}
