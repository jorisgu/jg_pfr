{
 "cells": [
  {
   "cell_type": "code",
   "execution_count": 1,
   "metadata": {
    "collapsed": true
   },
   "outputs": [],
   "source": [
    "import caffe\n",
    "import numpy as np"
   ]
  },
  {
   "cell_type": "code",
   "execution_count": 2,
   "metadata": {
    "collapsed": true
   },
   "outputs": [],
   "source": [
    "IROSpath = '/home/jguerry/workspace/IROSmodels/'\n",
    "\n",
    "target_net_proto = '/home/jguerry/workspace/IROSmodels/fcn_vgg19bn_8s/deploy_37.prototxt'\n",
    "target_weights = '/home/jguerry/workspace/IROSmodels/fcn_vgg19bn_8s/fcn_vgg19bn_8s.caffemodel'\n",
    "\n",
    "source_net_proto = '/home/jguerry/workspace/IROSmodels/bn-models/VGG19_cvgj/deploy.prototxt'\n",
    "source_weights = '/home/jguerry/workspace/IROSmodels/bn-models/VGG19_cvgj/vgg19_cvgj_iter_300000.caffemodel'\n",
    "\n",
    "a_fcn_proto = '/home/jguerry/workspace/IROSmodels/fcn32s_HHA/deploy.prototxt'\n",
    "a_fcn_weights = '/home/jguerry/workspace/IROSmodels/fcn32s_HHA/snapshot_iter_15900.caffemodel'\n"
   ]
  },
  {
   "cell_type": "code",
   "execution_count": 3,
   "metadata": {
    "collapsed": true
   },
   "outputs": [],
   "source": [
    "def transfer(new_net, net, suffix=''):\n",
    "    # from fcn.berkeleyvision.org\n",
    "    for p in net.params:\n",
    "        #print \"Working on\", p, ':'\n",
    "        p_new = p + suffix\n",
    "        if p_new not in new_net.params:\n",
    "            print 'dropping', p\n",
    "            continue\n",
    "        for i in range(len(net.params[p])):\n",
    "            if i > (len(new_net.params[p_new]) - 1):\n",
    "                print 'dropping', p, i\n",
    "                break\n",
    "            if net.params[p][i].data.shape != new_net.params[p_new][i].data.shape:\n",
    "                print 'coercing', p, i, 'from', net.params[p][i].data.shape, 'to', new_net.params[p_new][i].data.shape\n",
    "            else:\n",
    "                print 'copying', p, ' -> ', p_new, i\n",
    "            new_net.params[p_new][i].data.flat = net.params[p][i].data.flat"
   ]
  },
  {
   "cell_type": "code",
   "execution_count": 4,
   "metadata": {
    "collapsed": true
   },
   "outputs": [],
   "source": [
    "caffe_gpu = True\n",
    "if not caffe_gpu:\n",
    "    caffe.set_mode_cpu()\n",
    "else:\n",
    "    caffe.set_mode_gpu()\n",
    "    caffe.set_device(0);"
   ]
  },
  {
   "cell_type": "code",
   "execution_count": 5,
   "metadata": {
    "collapsed": false
   },
   "outputs": [],
   "source": [
    "target_net = caffe.Net(target_net_proto, caffe.TEST)\n",
    "target_net_blobs = [(k, v.data.shape) for k, v in target_net.blobs.items()]\n",
    "target_net_layers = [(k, v[0].data.shape, v[1].data.shape) for k, v in target_net.params.items() if 'deconv' not in k]"
   ]
  },
  {
   "cell_type": "raw",
   "metadata": {},
   "source": [
    "print\"~~~~~~~~~~~~~~~~~~~~~~~~~~~~~~~~~~~~~~~~~~~~~~~~~~~~~~~~~~~~~~~~~~~\"\n",
    "print \"monoBlobs\"\n",
    "for a in target_net_blobs:\n",
    "    print a\n",
    "print\"~~~~~~~~~~~~~~~~~~~~~~~~~~~~~~~~~~~~~~~~~~~~~~~~~~~~~~~~~~~~~~~~~~~\"\n",
    "print\"~~~~~~~~~~~~~~~~~~~~~~~~~~~~~~~~~~~~~~~~~~~~~~~~~~~~~~~~~~~~~~~~~~~\"\n",
    "print\"~~~~~~~~~~~~~~~~~~~~~~~~~~~~~~~~~~~~~~~~~~~~~~~~~~~~~~~~~~~~~~~~~~~\"\n",
    "print \"monoLayers\"\n",
    "for a in target_net_layers:\n",
    "    print a\n",
    "print\"~~~~~~~~~~~~~~~~~~~~~~~~~~~~~~~~~~~~~~~~~~~~~~~~~~~~~~~~~~~~~~~~~~~\""
   ]
  },
  {
   "cell_type": "code",
   "execution_count": 6,
   "metadata": {
    "collapsed": true
   },
   "outputs": [],
   "source": [
    "source_net = caffe.Net(source_net_proto,source_weights, caffe.TEST)\n",
    "source_net_blobs = [(k, v.data.shape) for k, v in source_net.blobs.items()]\n",
    "source_net_layers = [(k, v[0].data.shape, v[1].data.shape) for k, v in source_net.params.items() if 'deconv' not in k]"
   ]
  },
  {
   "cell_type": "code",
   "execution_count": 7,
   "metadata": {
    "collapsed": false
   },
   "outputs": [
    {
     "name": "stdout",
     "output_type": "stream",
     "text": [
      "copying data/bn  ->  data/bn 0\n",
      "copying data/bn  ->  data/bn 1\n",
      "copying data/bn  ->  data/bn 2\n",
      "copying data/scale  ->  data/scale 0\n",
      "copying data/scale  ->  data/scale 1\n",
      "copying conv1_1  ->  conv1_1 0\n",
      "copying conv1_1  ->  conv1_1 1\n",
      "copying conv1_1/bn  ->  conv1_1/bn 0\n",
      "copying conv1_1/bn  ->  conv1_1/bn 1\n",
      "copying conv1_1/bn  ->  conv1_1/bn 2\n",
      "copying conv1_2  ->  conv1_2 0\n",
      "copying conv1_2  ->  conv1_2 1\n",
      "copying conv1_2/bn  ->  conv1_2/bn 0\n",
      "copying conv1_2/bn  ->  conv1_2/bn 1\n",
      "copying conv1_2/bn  ->  conv1_2/bn 2\n",
      "copying conv2_1  ->  conv2_1 0\n",
      "copying conv2_1  ->  conv2_1 1\n",
      "copying conv2_1/bn  ->  conv2_1/bn 0\n",
      "copying conv2_1/bn  ->  conv2_1/bn 1\n",
      "copying conv2_1/bn  ->  conv2_1/bn 2\n",
      "copying conv2_2  ->  conv2_2 0\n",
      "copying conv2_2  ->  conv2_2 1\n",
      "copying conv2_2/bn  ->  conv2_2/bn 0\n",
      "copying conv2_2/bn  ->  conv2_2/bn 1\n",
      "copying conv2_2/bn  ->  conv2_2/bn 2\n",
      "copying conv3_1  ->  conv3_1 0\n",
      "copying conv3_1  ->  conv3_1 1\n",
      "copying conv3_1/bn  ->  conv3_1/bn 0\n",
      "copying conv3_1/bn  ->  conv3_1/bn 1\n",
      "copying conv3_1/bn  ->  conv3_1/bn 2\n",
      "copying conv3_2  ->  conv3_2 0\n",
      "copying conv3_2  ->  conv3_2 1\n",
      "copying conv3_2/bn  ->  conv3_2/bn 0\n",
      "copying conv3_2/bn  ->  conv3_2/bn 1\n",
      "copying conv3_2/bn  ->  conv3_2/bn 2\n",
      "copying conv3_3  ->  conv3_3 0\n",
      "copying conv3_3  ->  conv3_3 1\n",
      "copying conv3_3/bn  ->  conv3_3/bn 0\n",
      "copying conv3_3/bn  ->  conv3_3/bn 1\n",
      "copying conv3_3/bn  ->  conv3_3/bn 2\n",
      "copying conv3_4  ->  conv3_4 0\n",
      "copying conv3_4  ->  conv3_4 1\n",
      "copying conv3_4/bn  ->  conv3_4/bn 0\n",
      "copying conv3_4/bn  ->  conv3_4/bn 1\n",
      "copying conv3_4/bn  ->  conv3_4/bn 2\n",
      "copying conv4_1  ->  conv4_1 0\n",
      "copying conv4_1  ->  conv4_1 1\n",
      "copying conv4_1/bn  ->  conv4_1/bn 0\n",
      "copying conv4_1/bn  ->  conv4_1/bn 1\n",
      "copying conv4_1/bn  ->  conv4_1/bn 2\n",
      "copying conv4_2  ->  conv4_2 0\n",
      "copying conv4_2  ->  conv4_2 1\n",
      "copying conv4_2/bn  ->  conv4_2/bn 0\n",
      "copying conv4_2/bn  ->  conv4_2/bn 1\n",
      "copying conv4_2/bn  ->  conv4_2/bn 2\n",
      "copying conv4_3  ->  conv4_3 0\n",
      "copying conv4_3  ->  conv4_3 1\n",
      "copying conv4_3/bn  ->  conv4_3/bn 0\n",
      "copying conv4_3/bn  ->  conv4_3/bn 1\n",
      "copying conv4_3/bn  ->  conv4_3/bn 2\n",
      "copying conv4_4  ->  conv4_4 0\n",
      "copying conv4_4  ->  conv4_4 1\n",
      "copying conv4_4/bn  ->  conv4_4/bn 0\n",
      "copying conv4_4/bn  ->  conv4_4/bn 1\n",
      "copying conv4_4/bn  ->  conv4_4/bn 2\n",
      "copying conv5_1  ->  conv5_1 0\n",
      "copying conv5_1  ->  conv5_1 1\n",
      "copying conv5_1/bn  ->  conv5_1/bn 0\n",
      "copying conv5_1/bn  ->  conv5_1/bn 1\n",
      "copying conv5_1/bn  ->  conv5_1/bn 2\n",
      "copying conv5_2  ->  conv5_2 0\n",
      "copying conv5_2  ->  conv5_2 1\n",
      "copying conv5_2/bn  ->  conv5_2/bn 0\n",
      "copying conv5_2/bn  ->  conv5_2/bn 1\n",
      "copying conv5_2/bn  ->  conv5_2/bn 2\n",
      "copying conv5_3  ->  conv5_3 0\n",
      "copying conv5_3  ->  conv5_3 1\n",
      "copying conv5_3/bn  ->  conv5_3/bn 0\n",
      "copying conv5_3/bn  ->  conv5_3/bn 1\n",
      "copying conv5_3/bn  ->  conv5_3/bn 2\n",
      "copying conv5_4  ->  conv5_4 0\n",
      "copying conv5_4  ->  conv5_4 1\n",
      "copying conv5_4/bn  ->  conv5_4/bn 0\n",
      "copying conv5_4/bn  ->  conv5_4/bn 1\n",
      "copying conv5_4/bn  ->  conv5_4/bn 2\n",
      "coercing fc6 0 from (4096, 25088) to (4096, 512, 7, 7)\n",
      "copying fc6  ->  fc6 1\n",
      "copying fc6/bn  ->  fc6/bn 0\n",
      "copying fc6/bn  ->  fc6/bn 1\n",
      "copying fc6/bn  ->  fc6/bn 2\n",
      "coercing fc7 0 from (4096, 4096) to (4096, 4096, 1, 1)\n",
      "copying fc7  ->  fc7 1\n",
      "copying fc7/bn  ->  fc7/bn 0\n",
      "copying fc7/bn  ->  fc7/bn 1\n",
      "copying fc7/bn  ->  fc7/bn 2\n",
      "dropping fc8\n"
     ]
    }
   ],
   "source": [
    "transfer(target_net,source_net)"
   ]
  },
  {
   "cell_type": "code",
   "execution_count": 8,
   "metadata": {
    "collapsed": false,
    "scrolled": true
   },
   "outputs": [
    {
     "name": "stdout",
     "output_type": "stream",
     "text": [
      "Saving output model to /home/jguerry/workspace/IROSmodels/fcn_vgg19bn_8s/fcn_vgg19bn_8s.caffemodel \n"
     ]
    }
   ],
   "source": [
    "#### SAVING\n",
    "print \"Saving output model to %s \" % target_weights\n",
    "target_net.save(target_weights)\n",
    "print \"Saved.\""
   ]
  },
  {
   "cell_type": "code",
   "execution_count": 9,
   "metadata": {
    "collapsed": true
   },
   "outputs": [],
   "source": [
    "del target_net\n",
    "del source_net"
   ]
  }
 ],
 "metadata": {
  "anaconda-cloud": {},
  "kernelspec": {
   "display_name": "Python [conda env:jg_pfr]",
   "language": "python",
   "name": "conda-env-jg_pfr-py"
  },
  "language_info": {
   "codemirror_mode": {
    "name": "ipython",
    "version": 2
   },
   "file_extension": ".py",
   "mimetype": "text/x-python",
   "name": "python",
   "nbconvert_exporter": "python",
   "pygments_lexer": "ipython2",
   "version": "2.7.12"
  }
 },
 "nbformat": 4,
 "nbformat_minor": 1
}
