{
 "cells": [
  {
   "cell_type": "code",
   "execution_count": 1,
   "metadata": {
    "collapsed": true
   },
   "outputs": [],
   "source": [
    "# from __future__ import division\n",
    "# from __future__ import print_function\n",
    "import caffe\n",
    "import numpy as np\n",
    "import os\n",
    "import sys\n",
    "from datetime import datetime\n",
    "from PIL import Image as pilimg\n",
    "from IPython.display import Image\n",
    "from IPython.display import clear_output\n",
    "import time\n",
    "\n",
    "import xml.etree.ElementTree as ET\n",
    "\n",
    "import os.path as osp\n",
    "from easydict import EasyDict as edict\n",
    "import yaml"
   ]
  },
  {
   "cell_type": "code",
   "execution_count": 2,
   "metadata": {
    "collapsed": true
   },
   "outputs": [],
   "source": [
    "from matplotlib.pyplot import imshow\n",
    "from matplotlib.pyplot import imread\n",
    "from matplotlib.pyplot import imsave\n",
    "import matplotlib.pyplot as plt\n",
    "import matplotlib.image as mpimg\n",
    "\n",
    "%matplotlib inline"
   ]
  },
  {
   "cell_type": "code",
   "execution_count": 3,
   "metadata": {
    "collapsed": true
   },
   "outputs": [],
   "source": [
    "def log_progress(sequence, title='', every=1, size=None, end_msg='', removeAtTheEnd=False):\n",
    "    from ipywidgets import IntProgress, HTML, VBox\n",
    "    from IPython.display import display\n",
    "\n",
    "    is_iterator = False\n",
    "    if size is None:\n",
    "        try:\n",
    "            size = len(sequence)\n",
    "        except TypeError:\n",
    "            is_iterator = True\n",
    "    if size is not None:\n",
    "        if every is None:\n",
    "            if size <= 200:\n",
    "                every = 1\n",
    "            else:\n",
    "                every = int(size / 200)     # every 0.5%\n",
    "    else:\n",
    "        assert every is not None, 'sequence is iterator, set every'\n",
    "\n",
    "    if is_iterator:\n",
    "        progress = IntProgress(min=0, max=1, value=1)\n",
    "        progress.bar_style = 'info'\n",
    "    else:\n",
    "        progress = IntProgress(min=0, max=size, value=0)\n",
    "    label = HTML()\n",
    "    box = VBox(children=[label, progress])\n",
    "    display(box)\n",
    "\n",
    "    index = 0\n",
    "    try:\n",
    "        for index, record in enumerate(sequence, 1):\n",
    "            if index == 1 or index % every == 0:\n",
    "                if is_iterator:\n",
    "                    label.value = '{index} / ?'.format(index=index)\n",
    "                else:\n",
    "                    progress.value = index\n",
    "                    if isinstance(sequence, dict):\n",
    "                        val = ''\n",
    "                    else:\n",
    "                        val=sequence[index-1]\n",
    "                            \n",
    "                    label.value = u'{title} : {value} ({index} / {size})'.format(\n",
    "                        title=title,\n",
    "                        value=val,\n",
    "                        index=index,\n",
    "                        size=size\n",
    "                    )\n",
    "            yield record\n",
    "    except:\n",
    "        progress.bar_style = 'danger'\n",
    "        raise\n",
    "    else:\n",
    "        progress.bar_style = 'success'\n",
    "        progress.value = index\n",
    "        label.value = end_msg\n",
    "        if removeAtTheEnd:\n",
    "            box.close()\n",
    "    "
   ]
  },
  {
   "cell_type": "code",
   "execution_count": 4,
   "metadata": {
    "collapsed": true
   },
   "outputs": [],
   "source": [
    "def get_classes(classes_file_path):\n",
    "    classes = []\n",
    "    with open(classes_file_path, 'r') as fp:\n",
    "        for line in fp:\n",
    "            if line[0]=='#' or line[0]=='\\n':\n",
    "                pass\n",
    "            else:\n",
    "                classes.append(line[:-1])\n",
    "    return classes"
   ]
  },
  {
   "cell_type": "code",
   "execution_count": 5,
   "metadata": {
    "collapsed": false
   },
   "outputs": [],
   "source": [
    "# seg_basic_path='/home/jogue/workspace/datasets/InOutDoorPeople/labels_mask/'\n",
    "seg_basic_path='/home/jogue/workspace/datasets/InOutDoorPeople/labels_mask_person/'\n",
    "depth_basic_path='/home/jogue/workspace/datasets/InOutDoorPeople/Depth/'\n",
    "rgb_basic_path='/home/jogue/workspace/datasets/InOutDoorPeople/Images/'\n",
    "xml_basic_path='/home/jogue/workspace/datasets/InOutDoorPeople/Annotations_pv/'\n",
    "splits_basic_path = '/home/jogue/workspace/datasets/InOutDoorPeople/ImageSets/'\n",
    "# classes_file_path = '/home/jogue/workspace/datasets/SUNRGBD_pv/37_classes.txt'\n",
    "classes_file_path = '/home/jogue/workspace/datasets/InOutDoorPeople/classe_person.txt'\n",
    "\n",
    "splits=['seq0.txt', 'seq1.txt',  'seq2.txt',  'seq3.txt']\n",
    "\n",
    "classes = get_classes(classes_file_path)\n",
    "\n",
    "#classes=['background','person']\n",
    "_class_to_ind = dict(zip(classes, xrange(len(classes))))\n",
    "initial_mask = len(classes)*np.ones((1080,1920),dtype=np.uint8)\n",
    "mask = np.empty((1080,1920),dtype=np.uint8)"
   ]
  },
  {
   "cell_type": "code",
   "execution_count": 6,
   "metadata": {
    "collapsed": false
   },
   "outputs": [],
   "source": [
    "for split in log_progress(splits, title='Splits', end_msg='Finished !',removeAtTheEnd=False):\n",
    "    list_images = open(splits_basic_path+split, 'r').read().splitlines()\n",
    "    for img_name in log_progress(list_images, title='img', end_msg='Finished !',removeAtTheEnd=True):\n",
    "        \n",
    "        ##files\n",
    "        rgb_file = rgb_basic_path+img_name+'.png'\n",
    "        depth_file = depth_basic_path+img_name+'.png'\n",
    "        xmlfile = xml_basic_path+img_name+'.xml'\n",
    "        segfile = seg_basic_path+img_name+'.png'\n",
    "\n",
    "        tree = ET.parse(xmlfile)\n",
    "        objs = tree.findall('object')\n",
    "        only_in_cls_obj = [obj for obj in objs if obj.find('name').text.lower().strip() in classes]\n",
    "        objs = only_in_cls_obj\n",
    "        num_objs = len(objs)\n",
    "        img_rois = np.zeros((num_objs, 5), dtype=np.uint16)\n",
    "        mask = len(classes)*np.ones((1080,1920),dtype=np.uint8)\n",
    "        for ix, obj in enumerate(objs):\n",
    "            bbox = obj.find('bndbox')\n",
    "            # Make pixel indexes 0-based\n",
    "            x1 = float(bbox.find('xmin').text) - 1\n",
    "            y1 = float(bbox.find('ymin').text) - 1\n",
    "            x2 = float(bbox.find('xmax').text) - 1\n",
    "            y2 = float(bbox.find('ymax').text) - 1\n",
    "            label = _class_to_ind[obj.find('name').text.lower().strip()]\n",
    "            mask[int(y1):int(y2+1),int(x1):int(x2+1)]=label\n",
    "        # Creates PIL image\n",
    "        image = pilimg.new(\"L\", (1080, 1920))\n",
    "        image = pilimg.fromarray(mask)\n",
    "        image.save(segfile)\n",
    "    "
   ]
  },
  {
   "cell_type": "code",
   "execution_count": null,
   "metadata": {
    "collapsed": true
   },
   "outputs": [],
   "source": []
  },
  {
   "cell_type": "code",
   "execution_count": null,
   "metadata": {
    "collapsed": true
   },
   "outputs": [],
   "source": []
  }
 ],
 "metadata": {
  "anaconda-cloud": {},
  "kernelspec": {
   "display_name": "Python [conda env:jg_pfr]",
   "language": "python",
   "name": "conda-env-jg_pfr-py"
  },
  "language_info": {
   "codemirror_mode": {
    "name": "ipython",
    "version": 2
   },
   "file_extension": ".py",
   "mimetype": "text/x-python",
   "name": "python",
   "nbconvert_exporter": "python",
   "pygments_lexer": "ipython2",
   "version": "2.7.13"
  },
  "widgets": {
   "state": {
    "0545f4935a2f4933971770a1c1d3cd7e": {
     "views": [
      {
       "cell_index": 5
      }
     ]
    },
    "5e1f353a9cce484bae66bb1928a97bc7": {
     "views": [
      {
       "cell_index": 5
      }
     ]
    }
   },
   "version": "1.2.0"
  }
 },
 "nbformat": 4,
 "nbformat_minor": 1
}
