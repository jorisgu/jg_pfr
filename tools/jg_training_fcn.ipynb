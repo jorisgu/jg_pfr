{
 "cells": [
  {
   "cell_type": "code",
   "execution_count": null,
   "metadata": {
    "collapsed": true
   },
   "outputs": [],
   "source": [
    "from __future__ import division\n",
    "from __future__ import print_function\n",
    "import caffe\n",
    "import numpy as np\n",
    "import os\n",
    "import sys\n",
    "from datetime import datetime\n",
    "from PIL import Image\n",
    "from IPython.display import Image\n",
    "from IPython.display import clear_output\n",
    "import time\n",
    "import _init_paths"
   ]
  },
  {
   "cell_type": "code",
   "execution_count": null,
   "metadata": {
    "collapsed": false
   },
   "outputs": [],
   "source": [
    "def log_progress(sequence, title='', every=1, size=None, end_msg='', removeAtTheEnd=False):\n",
    "    from ipywidgets import IntProgress, HTML, VBox\n",
    "    from IPython.display import display\n",
    "\n",
    "    is_iterator = False\n",
    "    if size is None:\n",
    "        try:\n",
    "            size = len(sequence)\n",
    "        except TypeError:\n",
    "            is_iterator = True\n",
    "    if size is not None:\n",
    "        if every is None:\n",
    "            if size <= 200:\n",
    "                every = 1\n",
    "            else:\n",
    "                every = int(size / 200)     # every 0.5%\n",
    "    else:\n",
    "        assert every is not None, 'sequence is iterator, set every'\n",
    "\n",
    "    if is_iterator:\n",
    "        progress = IntProgress(min=0, max=1, value=1)\n",
    "        progress.bar_style = 'info'\n",
    "    else:\n",
    "        progress = IntProgress(min=0, max=size, value=0)\n",
    "    label = HTML()\n",
    "    box = VBox(children=[label, progress])\n",
    "    display(box)\n",
    "\n",
    "    index = 0\n",
    "    try:\n",
    "        for index, record in enumerate(sequence, 1):\n",
    "            if index == 1 or index % every == 0:\n",
    "                if is_iterator:\n",
    "                    label.value = '{index} / ?'.format(index=index)\n",
    "                else:\n",
    "                    progress.value = index\n",
    "                    label.value = u'{title} : {value} ({index} / {size})'.format(\n",
    "                        title=title,\n",
    "                        value=sequence[index-1],\n",
    "                        index=index,\n",
    "                        size=size\n",
    "                    )\n",
    "            yield record\n",
    "    except:\n",
    "        progress.bar_style = 'danger'\n",
    "        raise\n",
    "    else:\n",
    "        progress.bar_style = 'success'\n",
    "        progress.value = index\n",
    "        label.value = end_msg\n",
    "        if removeAtTheEnd:\n",
    "            box.close()\n",
    "    "
   ]
  },
  {
   "cell_type": "code",
   "execution_count": null,
   "metadata": {
    "collapsed": true
   },
   "outputs": [],
   "source": [
    "def fast_hist(a, b, n):\n",
    "    k = (a >= 0) & (a < n)\n",
    "    return np.bincount(n * a[k].astype(int) + b[k], minlength=n**2).reshape(n, n)"
   ]
  },
  {
   "cell_type": "code",
   "execution_count": null,
   "metadata": {
    "collapsed": true
   },
   "outputs": [],
   "source": [
    "def evaluate(results):\n",
    "    \n",
    "    hist_cumul = 0*results[0]\n",
    "    for hist in results:\n",
    "        hist_cumul+=hist\n",
    "    result = {}\n",
    "    \n",
    "\n",
    "    acc = np.diag(hist_cumul).sum() / hist_cumul.sum()\n",
    "    # per-class accuracy\n",
    "    pc_acc = np.diag(hist_cumul) / hist_cumul.sum(1)\n",
    "    mean_accuracy= np.nanmean(pc_acc)\n",
    "    # per-class IU\n",
    "    iu = np.diag(hist_cumul) / (hist_cumul.sum(1) + hist_cumul.sum(0) - np.diag(hist_cumul))\n",
    "    mean_iu= np.nanmean(iu)\n",
    "    freq = hist_cumul.sum(1) / hist_cumul.sum()\n",
    "    freq_weighted_iu=(freq[freq > 0] * iu[freq > 0]).sum()\n",
    "    \n",
    "    print(\"Accuracy :\",acc)\n",
    "    print(\"per-class accuracy :\",mean_accuracy)\n",
    "    print(\"per-class IU :\",mean_iu)\n",
    "    print(\"per-class IU (frequency weighted) :\",freq_weighted_iu)\n",
    "    \n",
    "    return acc"
   ]
  },
  {
   "cell_type": "code",
   "execution_count": null,
   "metadata": {
    "collapsed": true
   },
   "outputs": [],
   "source": [
    "caffe_gpu = True\n",
    "if not caffe_gpu:\n",
    "    caffe.set_mode_cpu()\n",
    "else:\n",
    "    caffe.set_mode_gpu()\n",
    "    caffe.set_device(0);"
   ]
  },
  {
   "cell_type": "code",
   "execution_count": null,
   "metadata": {
    "collapsed": true
   },
   "outputs": [],
   "source": [
    "ICIPpath = '/home/jogue/workspace/ICIPmodels/'\n",
    "weights_path_fuse='/home/jogue/workspace/ICIPmodels/fuse_weights.caffemodel'\n",
    "fuse_solver = ICIPpath + 'solver.prototxt'\n",
    "max_iters = 7 #95"
   ]
  },
  {
   "cell_type": "code",
   "execution_count": null,
   "metadata": {
    "collapsed": true
   },
   "outputs": [],
   "source": [
    "solver = caffe.SGDSolver(fuse_solver)"
   ]
  },
  {
   "cell_type": "code",
   "execution_count": null,
   "metadata": {
    "collapsed": false
   },
   "outputs": [],
   "source": [
    "if weights_path_fuse is not None:\n",
    "    print('Loading pretrained model weights from :',weights_path_fuse)\n",
    "    solver.net.copy_from(weights_path_fuse)\n",
    "    print('done')\n",
    "    print('')"
   ]
  },
  {
   "cell_type": "code",
   "execution_count": null,
   "metadata": {
    "collapsed": false
   },
   "outputs": [],
   "source": [
    "for idx in log_progress(range(max_iters), title='iteration', removeAtTheEnd=False):\n",
    "    #while solver.iter < max_iters:\n",
    "    #solver.step(1)\n",
    "    fuseNet.backward()\n",
    "    fuseNet.forward()\n",
    "    for layer in fuseNet.layers:\n",
    "        for blob in layer.blobs:\n",
    "            blob.data[...] -= blob.diff"
   ]
  },
  {
   "cell_type": "raw",
   "metadata": {
    "collapsed": false
   },
   "source": [
    "modelToTest = ['10-10-100','60-10-100','80-10-100'] #,100,90,80,70,60,40,20]\n",
    "#modelToTest = ['10-10-100','60-10-100','80-10-100',100,90,80,70,60,40,20]\n",
    "#DatasetToTest = range(100,0,-10)\n",
    "for luminosity_model in log_progress(modelToTest,title='Luminosity model', end_msg='Finished !'): \n",
    "    weights_path = ICIPmodels+'rgb_'+str(luminosity_model)+'/weights.caffemodel'\n",
    "    net.copy_from(weights_path)\n",
    "    for luminosity_datatest in log_progress(range(100,0,-20), title='Luminosity dataset', removeAtTheEnd=True):\n",
    "        newParams = {}\n",
    "        newParams['images_folder']= '/home/jogue/workspace/datasets/SUNRGBD_pv/data/rgb_i_'+str(luminosity_datatest)+'_8bits/'\n",
    "        newParams['iter_counter']=0\n",
    "        newParams['countEpoch']=0\n",
    "        net.layers[0].update(newParams)\n",
    "        \n",
    "        results = []\n",
    "        losses = []\n",
    "        \n",
    "        n_cl = net.blobs['score'].channels\n",
    "        hist = np.zeros((n_cl, n_cl))\n",
    "        loss = 0\n",
    "        print(\"###############################################################\")\n",
    "        print(\"NEW TESTING : model\",luminosity_model,\"% on\",luminosity_datatest,\"%.\")\n",
    "        #for idx in log_progress(range(net.layers[0].nb_images), title='iteration', end_msg=str(i),removeAtTheEnd=True):\n",
    "        for idx in log_progress(range(net.layers[0].nb_images), title='iteration', removeAtTheEnd=True):\n",
    "            net.forward()\n",
    "            score_map = net.blobs['score'].data[0].argmax(0)\n",
    "            gt_map = net.blobs['label'].data[0, 0]\n",
    "            hist = fast_hist(gt_map.flatten(),score_map.flatten(),n_cl)\n",
    "            # compute the loss as well\n",
    "            loss = net.blobs['loss'].data.flat[0]\n",
    "            results.append(hist)\n",
    "            losses.append(loss)\n",
    "        print(\"Images processed =\",net.layers[0].iter_counter)\n",
    "        print(\"Cumulative loss =\",sum(losses))\n",
    "        evaluate(results)"
   ]
  }
 ],
 "metadata": {
  "anaconda-cloud": {},
  "celltoolbar": "Raw Cell Format",
  "kernelspec": {
   "display_name": "Python 2",
   "language": "python",
   "name": "python2"
  },
  "language_info": {
   "codemirror_mode": {
    "name": "ipython",
    "version": 2
   },
   "file_extension": ".py",
   "mimetype": "text/x-python",
   "name": "python",
   "nbconvert_exporter": "python",
   "pygments_lexer": "ipython2",
   "version": "2.7.11"
  }
 },
 "nbformat": 4,
 "nbformat_minor": 1
}
