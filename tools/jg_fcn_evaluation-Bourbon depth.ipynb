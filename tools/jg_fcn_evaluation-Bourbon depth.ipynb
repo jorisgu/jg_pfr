{
 "cells": [
  {
   "cell_type": "markdown",
   "metadata": {},
   "source": [
    "confusion matrix :\n",
    "    http://gcucurull.github.io/caffe/python/deep-learning/2016/06/29/caffe-confusion-matrix/\n",
    "    https://github.com/gcucurull/caffe-conf-matrix\n",
    "FCN :\n",
    "    score :\n",
    "        https://github.com/shelhamer/fcn.berkeleyvision.org/blob/master/score.py\n",
    "    infer :\n",
    "        https://github.com/shelhamer/fcn.berkeleyvision.org/blob/master/infer.py"
   ]
  },
  {
   "cell_type": "code",
   "execution_count": 1,
   "metadata": {
    "collapsed": true
   },
   "outputs": [],
   "source": [
    "from __future__ import division\n",
    "from __future__ import print_function\n",
    "import caffe\n",
    "import numpy as np\n",
    "import os\n",
    "import sys\n",
    "from datetime import datetime\n",
    "from PIL import Image\n",
    "from IPython.display import Image\n",
    "from IPython.display import clear_output\n",
    "import time"
   ]
  },
  {
   "cell_type": "code",
   "execution_count": 2,
   "metadata": {
    "collapsed": false
   },
   "outputs": [],
   "source": [
    "def log_progress(sequence, title='', every=1, size=None, end_msg='', removeAtTheEnd=False):\n",
    "    from ipywidgets import IntProgress, HTML, VBox\n",
    "    from IPython.display import display\n",
    "\n",
    "    is_iterator = False\n",
    "    if size is None:\n",
    "        try:\n",
    "            size = len(sequence)\n",
    "        except TypeError:\n",
    "            is_iterator = True\n",
    "    if size is not None:\n",
    "        if every is None:\n",
    "            if size <= 200:\n",
    "                every = 1\n",
    "            else:\n",
    "                every = int(size / 200)     # every 0.5%\n",
    "    else:\n",
    "        assert every is not None, 'sequence is iterator, set every'\n",
    "\n",
    "    if is_iterator:\n",
    "        progress = IntProgress(min=0, max=1, value=1)\n",
    "        progress.bar_style = 'info'\n",
    "    else:\n",
    "        progress = IntProgress(min=0, max=size, value=0)\n",
    "    label = HTML()\n",
    "    box = VBox(children=[label, progress])\n",
    "    display(box)\n",
    "\n",
    "    index = 0\n",
    "    try:\n",
    "        for index, record in enumerate(sequence, 1):\n",
    "            if index == 1 or index % every == 0:\n",
    "                if is_iterator:\n",
    "                    label.value = '{index} / ?'.format(index=index)\n",
    "                else:\n",
    "                    progress.value = index\n",
    "                    if isinstance(sequence, dict):\n",
    "                        val = ''\n",
    "                    else:\n",
    "                        val=sequence[index-1]\n",
    "                            \n",
    "                    label.value = u'{title} : {value} ({index} / {size})'.format(\n",
    "                        title=title,\n",
    "                        value=val,\n",
    "                        index=index,\n",
    "                        size=size\n",
    "                    )\n",
    "            yield record\n",
    "    except:\n",
    "        progress.bar_style = 'danger'\n",
    "        raise\n",
    "    else:\n",
    "        progress.bar_style = 'success'\n",
    "        progress.value = index\n",
    "        label.value = end_msg\n",
    "        if removeAtTheEnd:\n",
    "            box.close()\n",
    "    "
   ]
  },
  {
   "cell_type": "code",
   "execution_count": 3,
   "metadata": {
    "collapsed": true
   },
   "outputs": [],
   "source": [
    "def fast_hist(a, b, n):\n",
    "    k = (a >= 0) & (a < n)\n",
    "    return np.bincount(n * a[k].astype(int) + b[k], minlength=n**2).reshape(n, n)"
   ]
  },
  {
   "cell_type": "code",
   "execution_count": 4,
   "metadata": {
    "collapsed": true
   },
   "outputs": [],
   "source": [
    "import _init_paths\n",
    "import caffe\n",
    "#import jg_layers.jg_input_voc_layers"
   ]
  },
  {
   "cell_type": "code",
   "execution_count": 5,
   "metadata": {
    "collapsed": true
   },
   "outputs": [],
   "source": [
    "def evaluate(results):\n",
    "    \n",
    "    hist_cumul = 0*results[0]\n",
    "    for hist in results:\n",
    "        hist_cumul+=hist\n",
    "    result = {}\n",
    "    \n",
    "\n",
    "    acc = np.diag(hist_cumul).sum() / hist_cumul.sum()\n",
    "    # per-class accuracy\n",
    "    pc_acc = np.diag(hist_cumul) / hist_cumul.sum(1)\n",
    "    mean_accuracy= np.nanmean(pc_acc)\n",
    "    # per-class IU\n",
    "    iu = np.diag(hist_cumul) / (hist_cumul.sum(1) + hist_cumul.sum(0) - np.diag(hist_cumul))\n",
    "    mean_iu= np.nanmean(iu)\n",
    "    freq = hist_cumul.sum(1) / hist_cumul.sum()\n",
    "    freq_weighted_iu=(freq[freq > 0] * iu[freq > 0]).sum()\n",
    "    \n",
    "    print(\"Accuracy :\",acc)\n",
    "    print(\"per-class accuracy :\",mean_accuracy)\n",
    "    print(\"per-class IU :\",mean_iu)\n",
    "    print(\"per-class IU (frequency weighted) :\",freq_weighted_iu)\n",
    "    \n",
    "    return acc"
   ]
  },
  {
   "cell_type": "code",
   "execution_count": 6,
   "metadata": {
    "collapsed": false
   },
   "outputs": [],
   "source": [
    "ICIPmodels = '/home/jguerry/workspace/ICIPmodels/'\n",
    "prototxt_path = ICIPmodels+'jg_eval_gray.prototxt'\n",
    "#prototxt_path = ICIPmodels+'jg_eval.prototxt'\n",
    "caffe_gpu = True\n",
    "if not caffe_gpu:\n",
    "    caffe.set_mode_cpu()\n",
    "else:\n",
    "    caffe.set_mode_gpu()\n",
    "    caffe.set_device(0);"
   ]
  },
  {
   "cell_type": "code",
   "execution_count": 7,
   "metadata": {
    "collapsed": false,
    "scrolled": false
   },
   "outputs": [
    {
     "name": "stdout",
     "output_type": "stream",
     "text": [
      "Number of image : 654\n",
      "Separated in 37 classes : {'toilet': 32, 'whiteboard': 29, 'wall': 0, 'night_stand': 31, 'books': 22, 'mirror': 18, 'table': 6, 'chair': 4, 'floor': 1, 'tv': 24, 'lamp': 34, 'window': 8, 'curtain': 15, 'blinds': 12, 'dresser': 16, 'picture': 10, 'ceiling': 21, 'door': 7, 'shower_curtain': 27, 'fridge': 23, 'cabinet': 2, 'sink': 33, 'desk': 13, 'bookshelf': 9, 'towel': 26, 'box': 28, 'floor_mat': 19, 'shelves': 14, 'sofa': 5, 'counter': 11, 'bed': 3, 'person': 30, 'paper': 25, 'bag': 36, 'bathtub': 35, 'pillow': 17, 'clothes': 20}\n"
     ]
    }
   ],
   "source": [
    "net = caffe.Net(prototxt_path, caffe.TEST)\n",
    "#net = caffe.Net(prototxt_path,weights_path , caffe.TEST)"
   ]
  },
  {
   "cell_type": "markdown",
   "metadata": {},
   "source": [
    "#### Blobs & Layers"
   ]
  },
  {
   "cell_type": "code",
   "execution_count": 8,
   "metadata": {
    "collapsed": false,
    "scrolled": true
   },
   "outputs": [],
   "source": [
    "B = [(k, v.data.shape) for k, v in net.blobs.items()]\n",
    "L = [(k, v[0].data.shape, v[1].data.shape) for k, v in net.params.items() if k != 'upscore37']"
   ]
  },
  {
   "cell_type": "code",
   "execution_count": 9,
   "metadata": {
    "collapsed": false
   },
   "outputs": [
    {
     "data": {
      "text/plain": [
       "[('data', (1, 1, 427, 561)),\n",
       " ('label', (1, 1, 427, 561)),\n",
       " ('data_jg_input_layer_0_split_0', (1, 1, 427, 561)),\n",
       " ('data_jg_input_layer_0_split_1', (1, 1, 427, 561)),\n",
       " ('label_jg_input_layer_1_split_0', (1, 1, 427, 561)),\n",
       " ('label_jg_input_layer_1_split_1', (1, 1, 427, 561)),\n",
       " ('conv1_1', (1, 64, 625, 759)),\n",
       " ('conv1_2', (1, 64, 625, 759)),\n",
       " ('pool1', (1, 64, 313, 380)),\n",
       " ('conv2_1', (1, 128, 313, 380)),\n",
       " ('conv2_2', (1, 128, 313, 380)),\n",
       " ('pool2', (1, 128, 157, 190)),\n",
       " ('conv3_1', (1, 256, 157, 190)),\n",
       " ('conv3_2', (1, 256, 157, 190)),\n",
       " ('conv3_3', (1, 256, 157, 190)),\n",
       " ('pool3', (1, 256, 79, 95)),\n",
       " ('conv4_1', (1, 512, 79, 95)),\n",
       " ('conv4_2', (1, 512, 79, 95)),\n",
       " ('conv4_3', (1, 512, 79, 95)),\n",
       " ('pool4', (1, 512, 40, 48)),\n",
       " ('conv5_1', (1, 512, 40, 48)),\n",
       " ('conv5_2', (1, 512, 40, 48)),\n",
       " ('conv5_3', (1, 512, 40, 48)),\n",
       " ('pool5', (1, 512, 20, 24)),\n",
       " ('fc6', (1, 4096, 14, 18)),\n",
       " ('fc7', (1, 4096, 14, 18)),\n",
       " ('score_fr', (1, 37, 14, 18)),\n",
       " ('upscore', (1, 37, 480, 608)),\n",
       " ('score', (1, 37, 427, 561)),\n",
       " ('score_score_0_split_0', (1, 37, 427, 561)),\n",
       " ('score_score_0_split_1', (1, 37, 427, 561)),\n",
       " ('loss', ()),\n",
       " ('accuracy', ())]"
      ]
     },
     "execution_count": 9,
     "metadata": {},
     "output_type": "execute_result"
    }
   ],
   "source": [
    "B"
   ]
  },
  {
   "cell_type": "markdown",
   "metadata": {},
   "source": [
    "#### Updating with new params"
   ]
  },
  {
   "cell_type": "code",
   "execution_count": 10,
   "metadata": {
    "collapsed": true
   },
   "outputs": [],
   "source": [
    "CasesGray = {}\n",
    "\n",
    "#CasesGray['HEB']={}\n",
    "#CasesGray['HEB']['weights'] = '/data/soft/digits/digits/jobs/20170205-202910-b71d/snapshot_iter_15900.caffemodel'\n",
    "#CasesGray['HEB']['dataset'] = '/home/jguerry/workspace/datasets/SUNRGBD_pv/data/d_raw_histeqBack_8bits/'\n",
    "\n",
    "#CasesGray['HEB-SO']={}\n",
    "#CasesGray['HEB-SO']['weights'] = '/data/soft/digits/digits/jobs/20170205-202647-f328/snapshot_iter_15900.caffemodel'\n",
    "#CasesGray['HEB-SO']['dataset'] = '/home/jguerry/workspace/datasets/SUNRGBD_pv/data_spreadout/d_raw_histeqBack_8bits/'\n",
    "\n",
    "CasesGray['HER-SO']={}\n",
    "CasesGray['HER-SO']['weights'] = '/data/soft/digits/digits/jobs/20170205-010629-0ab5/snapshot_iter_15900.caffemodel'\n",
    "CasesGray['HER-SO']['dataset'] = '/home/jguerry/workspace/datasets/SUNRGBD_pv/data_spreadout/d_raw_histeqRandom_8bits/'\n",
    "\n",
    "#CasesGray['HER']={}\n",
    "#CasesGray['HER']['weights'] = '/data/soft/digits/digits/jobs/20170205-010303-e57c/snapshot_iter_15900.caffemodel'\n",
    "#CasesGray['HER']['dataset'] = '/home/jguerry/workspace/datasets/SUNRGBD_pv/data/d_raw_histeqRandom_8bits/'\n",
    "\n",
    "#CasesGray['HEF-SO']={}\n",
    "#CasesGray['HEF-SO']['weights'] = '/data/soft/digits/digits/jobs/20170205-010122-2092/snapshot_iter_15900.caffemodel'\n",
    "#CasesGray['HEF-SO']['dataset'] = '/home/jguerry/workspace/datasets/SUNRGBD_pv/data_spreadout/d_raw_histeqFront_8bits/'\n",
    "\n",
    "#CasesGray['HEF']={}\n",
    "#CasesGray['HEF']['weights'] = '/data/soft/digits/digits/jobs/20170205-005712-dc0f/snapshot_iter_15900.caffemodel'\n",
    "#CasesGray['HEF']['dataset'] = '/home/jguerry/workspace/datasets/SUNRGBD_pv/data/d_raw_histeqFront_8bits/'\n",
    "\n",
    "CasesGray['d-SO']={}\n",
    "CasesGray['d-SO']['weights'] = '/data/soft/digits/digits/jobs/20170205-005600-ebd9/snapshot_iter_15900.caffemodel'\n",
    "CasesGray['d-SO']['dataset'] = '/home/jguerry/workspace/datasets/SUNRGBD_pv/data_spreadout/d_raw_normal_8bits/'\n",
    "\n",
    "CasesGray['d']={}\n",
    "CasesGray['d']['weights'] = '/data/soft/digits/digits/jobs/20170205-005349-cd70/snapshot_iter_15900.caffemodel'\n",
    "CasesGray['d']['dataset'] = '/home/jguerry/workspace/datasets/SUNRGBD_pv/data/d_raw_normal_8bits/'"
   ]
  },
  {
   "cell_type": "code",
   "execution_count": null,
   "metadata": {
    "collapsed": true
   },
   "outputs": [],
   "source": []
  },
  {
   "cell_type": "code",
   "execution_count": 11,
   "metadata": {
    "collapsed": false
   },
   "outputs": [],
   "source": [
    "#Cases = {}\n",
    "\n",
    "#Cases['HEB-cube-SO']={}\n",
    "#Cases['HEB-cube-SO']['weights'] = '/data/soft/digits/digits/jobs/20170205-202832-87aa/snapshot_iter_15900.caffemodel'\n",
    "#Cases['HEB-cube-SO']['dataset'] = '/home/jguerry/workspace/datasets/SUNRGBD_pv/data_spreadout/d_raw_histeqBack_cubehelix_8bits/'\n",
    "\n",
    "#Cases['HEB-jet']={}\n",
    "#Cases['HEB-jet']['weights'] = '/data/soft/digits/digits/jobs/20170205-202723-8a6d/snapshot_iter_15900.caffemodel'\n",
    "#Cases['HEB-jet']['dataset'] = '/home/jguerry/workspace/datasets/SUNRGBD_pv/data/d_raw_histeqBack_jet_8bits/'\n",
    "\n",
    "#Cases['HEB-jet-SO']={}\n",
    "#Cases['HEB-jet-SO']['weights'] = '/data/soft/digits/digits/jobs/20170205-202706-7a73/snapshot_iter_15900.caffemodel'\n",
    "#Cases['HEB-jet-SO']['dataset'] = '/home/jguerry/workspace/datasets/SUNRGBD_pv/data_spreadout/d_raw_histeqBack_jet_8bits/'\n",
    "\n",
    "#Cases['HER-jet-SO']={}\n",
    "#Cases['HER-jet-SO']['weights'] = '/data/soft/digits/digits/jobs/20170205-010504-7a95/snapshot_iter_15900.caffemodel'\n",
    "#Cases['HER-jet-SO']['dataset'] = '/home/jguerry/workspace/datasets/SUNRGBD_pv/data_spreadout/d_raw_histeqRandom_jet_8bits/'\n",
    "\n",
    "#Cases['HER-jet']={}\n",
    "#Cases['HER-jet']['weights'] = '/data/soft/digits/digits/jobs/20170205-010417-8bfd/snapshot_iter_15900.caffemodel'\n",
    "#Cases['HER-jet']['dataset'] = '/home/jguerry/workspace/datasets/SUNRGBD_pv/data/d_raw_histeqRandom_jet_8bits/'\n",
    "\n",
    "#Cases['HER-cube-SO']={}\n",
    "#Cases['HER-cube-SO']['weights'] = '/data/soft/digits/digits/jobs/20170205-010344-23f0/snapshot_iter_15900.caffemodel'\n",
    "#Cases['HER-cube-SO']['dataset'] = '/home/jguerry/workspace/datasets/SUNRGBD_pv/data_spreadout/d_raw_histeqRandom_cubehelix_8bits/'\n",
    "\n",
    "#Cases['HEF-cube']={}\n",
    "#Cases['HEF-cube']['weights'] = '/data/soft/digits/digits/jobs/20170205-005813-6c56/snapshot_iter_15900.caffemodel'\n",
    "#Cases['HEF-cube']['dataset'] = '/home/jguerry/workspace/datasets/SUNRGBD_pv/data/d_raw_histeqFront_cubehelix_8bits/'\n",
    "\n",
    "#Cases['HER-cube']={}\n",
    "#Cases['HER-cube']['weights'] = '/data/soft/digits/digits/jobs/20170204-042000-d100/snapshot_iter_15900.caffemodel'\n",
    "#Cases['HER-cube']['dataset'] = '/home/jguerry/workspace/datasets/SUNRGBD_pv/data/d_raw_histeqRandom_cubehelix_8bits/'\n",
    "\n",
    "#Cases['HEF-cube-SO']={}\n",
    "#Cases['HEF-cube-SO']['weights'] = '/data/soft/digits/digits/jobs/20170204-041941-b4f8/snapshot_iter_15900.caffemodel'\n",
    "#Cases['HEF-cube-SO']['dataset'] = '/home/jguerry/workspace/datasets/SUNRGBD_pv/data_spreadout/d_raw_histeqFront_cubehelix_8bits/'\n",
    "\n",
    "#Cases['HEF-jet']={}\n",
    "#Cases['HEF-jet']['weights'] = '/data/soft/digits/digits/jobs/20170204-041858-8e96/snapshot_iter_15900.caffemodel'\n",
    "#Cases['HEF-jet']['dataset'] = '/home/jguerry/workspace/datasets/SUNRGBD_pv/data/d_raw_histeqFront_jet_8bits/'\n",
    "\n",
    "#Cases['HEF-jet-SO']={}\n",
    "#Cases['HEF-jet-SO']['weights'] = '/data/soft/digits/digits/jobs/20170204-041843-fd2b/snapshot_iter_15900.caffemodel'\n",
    "#Cases['HEF-jet-SO']['dataset'] = '/home/jguerry/workspace/datasets/SUNRGBD_pv/data_spreadout/d_raw_histeqFront_jet_8bits/'\n",
    "\n",
    "#Cases['jet-SO']={}\n",
    "#Cases['jet-SO']['weights'] = '/data/soft/digits/digits/jobs/20170204-041458-dc3f/snapshot_iter_15900.caffemodel'\n",
    "#Cases['jet-SO']['dataset'] = '/home/jguerry/workspace/datasets/SUNRGBD_pv/data_spreadout/d_raw_jet_8bits/'\n",
    "\n",
    "#Cases['cube-SO']={}\n",
    "#Cases['cube-SO']['weights'] = '/data/soft/digits/digits/jobs/20170204-041449-00c6/snapshot_iter_15900.caffemodel'\n",
    "#Cases['cube-SO']['dataset'] = '/home/jguerry/workspace/datasets/SUNRGBD_pv/data_spreadout/d_raw_cubehelix_8bits/'\n",
    "\n",
    "#Cases['jet']={}\n",
    "#Cases['jet']['weights'] = '/data/soft/digits/digits/jobs/20170204-041429-f757/snapshot_iter_15900.caffemodel'\n",
    "#Cases['jet']['dataset'] = '/home/jguerry/workspace/datasets/SUNRGBD_pv/data/d_raw_jet_8bits/'\n",
    "\n",
    "#Cases['cube']={}\n",
    "#Cases['cube']['weights'] = '/data/soft/digits/digits/jobs/20170204-041412-add7/snapshot_iter_15900.caffemodel'\n",
    "#Cases['cube']['dataset'] = '/home/jguerry/workspace/datasets/SUNRGBD_pv/data/d_raw_cubehelix_8bits/'\n",
    "\n",
    "#Cases['DNA']={}\n",
    "#Cases['DNA']['weights'] = '/data/soft/digits/digits/jobs/20170204-041401-172d/snapshot_iter_15900.caffemodel'\n",
    "#Cases['DNA']['dataset'] = '/home/jguerry/workspace/datasets/SUNRGBD_pv/data/d_raw_DNA_8bits/'\n",
    "\n",
    "#Cases['HHA']={}\n",
    "#Cases['HHA']['weights'] = '/data/soft/digits/digits/jobs/20170204-041220-ff1a/snapshot_iter_15900.caffemodel'\n",
    "#Cases['HHA']['dataset'] = '/home/jguerry/workspace/datasets/SUNRGBD_pv/data/d_raw_HHA_8bits/'"
   ]
  },
  {
   "cell_type": "code",
   "execution_count": 12,
   "metadata": {
    "collapsed": false
   },
   "outputs": [
    {
     "data": {
      "text/plain": [
       "['HEB-SO', 'HER', 'HEF-SO', 'HEF', 'HER-SO', 'd-SO', 'd']"
      ]
     },
     "execution_count": 12,
     "metadata": {},
     "output_type": "execute_result"
    }
   ],
   "source": [
    "Cases=CasesGray\n",
    "Cases.keys()\n"
   ]
  },
  {
   "cell_type": "code",
   "execution_count": 13,
   "metadata": {
    "collapsed": false
   },
   "outputs": [
    {
     "name": "stdout",
     "output_type": "stream",
     "text": [
      "###############################################################\n",
      "NEW TESTING : model HEB-SO\n",
      "New epoch [total epoch : 1 ].\n",
      "Images processed = 0\n",
      "Cumulative loss = 1079.79950511\n",
      "Accuracy : 0.549918535227\n",
      "per-class accuracy : 0.210311374616\n",
      "per-class IU : 0.142535239174\n",
      "per-class IU (frequency weighted) : 0.363852002631\n"
     ]
    },
    {
     "name": "stderr",
     "output_type": "stream",
     "text": [
      "/data/soft/anaconda2/envs/jg_pfr/lib/python2.7/site-packages/ipykernel/__main__.py:11: RuntimeWarning: invalid value encountered in true_divide\n",
      "/data/soft/anaconda2/envs/jg_pfr/lib/python2.7/site-packages/ipykernel/__main__.py:14: RuntimeWarning: invalid value encountered in true_divide\n"
     ]
    },
    {
     "name": "stdout",
     "output_type": "stream",
     "text": [
      "###############################################################\n",
      "NEW TESTING : model HER\n",
      "New epoch [total epoch : 1 ].\n",
      "Images processed = 0\n",
      "Cumulative loss = 1016.9954049\n",
      "Accuracy : 0.573116718641\n",
      "per-class accuracy : 0.265964100606\n",
      "per-class IU : 0.181113981037\n",
      "per-class IU (frequency weighted) : 0.397429225716\n",
      "###############################################################\n",
      "NEW TESTING : model HEF-SO\n",
      "New epoch [total epoch : 1 ].\n",
      "Images processed = 0\n",
      "Cumulative loss = 1048.33446515\n",
      "Accuracy : 0.559993614963\n",
      "per-class accuracy : 0.244005003255\n",
      "per-class IU : 0.161952194929\n",
      "per-class IU (frequency weighted) : 0.383826675968\n",
      "###############################################################\n",
      "NEW TESTING : model HEF\n",
      "New epoch [total epoch : 1 ].\n",
      "Images processed = 0\n",
      "Cumulative loss = 1032.33075523\n",
      "Accuracy : 0.570776533158\n",
      "per-class accuracy : 0.255285276666\n",
      "per-class IU : 0.172306917805\n",
      "per-class IU (frequency weighted) : 0.395270318509\n",
      "###############################################################\n",
      "NEW TESTING : model HER-SO\n",
      "New epoch [total epoch : 1 ].\n",
      "Images processed = 0\n",
      "Cumulative loss = 1010.30237928\n",
      "Accuracy : 0.573010208632\n",
      "per-class accuracy : 0.267467787289\n",
      "per-class IU : 0.182451042001\n",
      "per-class IU (frequency weighted) : 0.399767455562\n",
      "###############################################################\n",
      "NEW TESTING : model d-SO\n",
      "New epoch [total epoch : 1 ].\n",
      "Images processed = 0\n",
      "Cumulative loss = 1060.2797969\n",
      "Accuracy : 0.552716102591\n",
      "per-class accuracy : 0.210780715925\n",
      "per-class IU : 0.140070620977\n",
      "per-class IU (frequency weighted) : 0.370325307958\n",
      "###############################################################\n",
      "NEW TESTING : model d\n",
      "New epoch [total epoch : 1 ].\n",
      "Images processed = 0\n",
      "Cumulative loss = 1192.60032284\n",
      "Accuracy : 0.511714731145\n",
      "per-class accuracy : 0.163132988163\n",
      "per-class IU : 0.10303520158\n",
      "per-class IU (frequency weighted) : 0.316476530853\n"
     ]
    }
   ],
   "source": [
    "for case in log_progress(Cases.keys(),title='Model', end_msg='Finished !'): \n",
    "        weights_path = Cases[case]['weights']\n",
    "        net.copy_from(weights_path)\n",
    "        newParams = {}\n",
    "        newParams['images_folder']= Cases[case]['dataset']\n",
    "        newParams['iter_counter']=0\n",
    "        newParams['countEpoch']=0\n",
    "        net.layers[0].update(newParams)\n",
    "        \n",
    "        results = []\n",
    "        losses = []\n",
    "        \n",
    "        n_cl = net.blobs['score'].channels\n",
    "        hist = np.zeros((n_cl, n_cl))\n",
    "        loss = 0\n",
    "        print(\"###############################################################\")\n",
    "        print(\"NEW TESTING : model\",case)\n",
    "        #for idx in log_progress(range(net.layers[0].nb_images), title='iteration', end_msg=str(i),removeAtTheEnd=True):\n",
    "        for idx in log_progress(range(net.layers[0].nb_images), title='iteration', removeAtTheEnd=True):\n",
    "            net.forward()\n",
    "            score_map = net.blobs['score'].data[0].argmax(0)\n",
    "            gt_map = net.blobs['label'].data[0, 0]\n",
    "            hist = fast_hist(gt_map.flatten(),score_map.flatten(),n_cl)\n",
    "            # compute the loss as well\n",
    "            loss = net.blobs['loss'].data.flat[0]\n",
    "            results.append(hist)\n",
    "            losses.append(loss)\n",
    "        print(\"Images processed =\",net.layers[0].iter_counter)\n",
    "        print(\"Cumulative loss =\",sum(losses))\n",
    "        evaluate(results)"
   ]
  },
  {
   "cell_type": "code",
   "execution_count": null,
   "metadata": {
    "collapsed": true
   },
   "outputs": [],
   "source": []
  }
 ],
 "metadata": {
  "anaconda-cloud": {},
  "celltoolbar": "Raw Cell Format",
  "kernelspec": {
   "display_name": "Python [conda env:jg_pfr]",
   "language": "python",
   "name": "conda-env-jg_pfr-py"
  },
  "language_info": {
   "codemirror_mode": {
    "name": "ipython",
    "version": 2
   },
   "file_extension": ".py",
   "mimetype": "text/x-python",
   "name": "python",
   "nbconvert_exporter": "python",
   "pygments_lexer": "ipython2",
   "version": "2.7.12"
  },
  "widgets": {
   "state": {
    "11720abf23d64b3393636fa56b60e29c": {
     "views": [
      {
       "cell_index": 17
      }
     ]
    },
    "5ae6cea1b5394ee29017181d7a8b9ace": {
     "views": [
      {
       "cell_index": 15
      }
     ]
    },
    "85788d7272764c3da5be09def5b281a5": {
     "views": [
      {
       "cell_index": 14
      }
     ]
    },
    "c3155799938c48c69d5a61fee5b35059": {
     "views": [
      {
       "cell_index": 16
      }
     ]
    },
    "e1a21296bb784ea3bfca698ac0a82a4d": {
     "views": [
      {
       "cell_index": 16
      }
     ]
    }
   },
   "version": "1.2.0"
  }
 },
 "nbformat": 4,
 "nbformat_minor": 1
}
