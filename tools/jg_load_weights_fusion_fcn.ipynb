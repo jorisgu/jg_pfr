{
 "cells": [
  {
   "cell_type": "code",
   "execution_count": null,
   "metadata": {
    "collapsed": true
   },
   "outputs": [],
   "source": [
    "import caffe\n",
    "import numpy as np"
   ]
  },
  {
   "cell_type": "code",
   "execution_count": null,
   "metadata": {
    "collapsed": true
   },
   "outputs": [],
   "source": [
    "ICIPpath = '/home/jogue/workspace/ICIPmodels/'\n",
    "mono_deploy = ICIPpath + 'mono_deploy.prototxt'\n",
    "fuse_deploy = ICIPpath + 'fuse_deploy.prototxt'\n",
    "weights_path_0='/home/jogue/workspace/ICIPmodels/rgb-10-10-100/weights.caffemodel'\n",
    "weights_path_1='/home/jogue/workspace/ICIPmodels/DHA/weights.caffemodel'\n",
    "#weights_path_1='/home/jguerry/workspace/ICIPmodels/cube_weights.caffemodel'\n",
    "weights_path_fuse='/home/jogue/workspace/ICIPmodels/fuse_weights.caffemodel'"
   ]
  },
  {
   "cell_type": "code",
   "execution_count": null,
   "metadata": {
    "collapsed": true
   },
   "outputs": [],
   "source": [
    "def transfer(new_net, net, suffix=''):\n",
    "    # from fcn.berkeleyvision.org\n",
    "    for p in net.params:\n",
    "        #print \"Working on\", p, ':'\n",
    "        p_new = p + suffix\n",
    "        if p_new not in new_net.params:\n",
    "            print 'dropping', p\n",
    "            continue\n",
    "        for i in range(len(net.params[p])):\n",
    "            if i > (len(new_net.params[p_new]) - 1):\n",
    "                print 'dropping', p, i\n",
    "                break\n",
    "            if net.params[p][i].data.shape != new_net.params[p_new][i].data.shape:\n",
    "                print 'coercing', p, i, 'from', net.params[p][i].data.shape, 'to', new_net.params[p_new][i].data.shape\n",
    "            else:\n",
    "                print 'copying', p, ' -> ', p_new, i\n",
    "            new_net.params[p_new][i].data.flat = net.params[p][i].data.flat"
   ]
  },
  {
   "cell_type": "code",
   "execution_count": null,
   "metadata": {
    "collapsed": true
   },
   "outputs": [],
   "source": [
    "caffe_gpu = True\n",
    "if not caffe_gpu:\n",
    "    caffe.set_mode_cpu()\n",
    "else:\n",
    "    caffe.set_mode_gpu()\n",
    "    caffe.set_device(0);"
   ]
  },
  {
   "cell_type": "code",
   "execution_count": null,
   "metadata": {
    "collapsed": false
   },
   "outputs": [],
   "source": [
    "monoNet = caffe.Net(mono_deploy, caffe.TEST)\n",
    "monoBlobs = [(k, v.data.shape) for k, v in monoNet.blobs.items()]\n",
    "monoLayers = [(k, v[0].data.shape, v[1].data.shape) for k, v in monoNet.params.items() if k != 'upscore37']"
   ]
  },
  {
   "cell_type": "code",
   "execution_count": null,
   "metadata": {
    "collapsed": false,
    "scrolled": true
   },
   "outputs": [],
   "source": [
    "fuseNet = caffe.Net(fuse_deploy, caffe.TEST)\n",
    "fuseBlobs = [(k, v.data.shape) for k, v in fuseNet.blobs.items()]\n",
    "fuseLayers = [(k, v[0].data.shape, v[1].data.shape) for k, v in fuseNet.params.items() if k not in ['upscore37_data0','upscore37_data1','upscore_sum', 'upscore_concat','upscore_rc_corrected']]"
   ]
  },
  {
   "cell_type": "raw",
   "metadata": {},
   "source": [
    "print\"~~~~~~~~~~~~~~~~~~~~~~~~~~~~~~~~~~~~~~~~~~~~~~~~~~~~~~~~~~~~~~~~~~~\"\n",
    "print \"monoBlobs\"\n",
    "for a in monoBlobs:\n",
    "    print a\n",
    "print\"~~~~~~~~~~~~~~~~~~~~~~~~~~~~~~~~~~~~~~~~~~~~~~~~~~~~~~~~~~~~~~~~~~~\"\n",
    "print\"~~~~~~~~~~~~~~~~~~~~~~~~~~~~~~~~~~~~~~~~~~~~~~~~~~~~~~~~~~~~~~~~~~~\"\n",
    "print\"~~~~~~~~~~~~~~~~~~~~~~~~~~~~~~~~~~~~~~~~~~~~~~~~~~~~~~~~~~~~~~~~~~~\"\n",
    "print \"monoLayers\"\n",
    "for a in monoLayers:\n",
    "    print a\n",
    "    \n",
    "print\"~~~~~~~~~~~~~~~~~~~~~~~~~~~~~~~~~~~~~~~~~~~~~~~~~~~~~~~~~~~~~~~~~~~\"\n",
    "print \"fuseBlobs\"\n",
    "for a in fuseBlobs:\n",
    "    print a\n",
    "print\"~~~~~~~~~~~~~~~~~~~~~~~~~~~~~~~~~~~~~~~~~~~~~~~~~~~~~~~~~~~~~~~~~~~\"\n",
    "print\"~~~~~~~~~~~~~~~~~~~~~~~~~~~~~~~~~~~~~~~~~~~~~~~~~~~~~~~~~~~~~~~~~~~\"\n",
    "print\"~~~~~~~~~~~~~~~~~~~~~~~~~~~~~~~~~~~~~~~~~~~~~~~~~~~~~~~~~~~~~~~~~~~\"\n",
    "print \"fuseLayers\"\n",
    "for a in fuseLayers:\n",
    "    print a"
   ]
  },
  {
   "cell_type": "code",
   "execution_count": null,
   "metadata": {
    "collapsed": true
   },
   "outputs": [],
   "source": [
    "monoNet.copy_from(weights_path_0,)\n",
    "transfer(fuseNet,monoNet,'_data0')\n",
    "monoNet.copy_from(weights_path_1)\n",
    "transfer(fuseNet,monoNet,'_data1')"
   ]
  },
  {
   "cell_type": "code",
   "execution_count": null,
   "metadata": {
    "collapsed": false
   },
   "outputs": [],
   "source": [
    "for upscore_layer in ['upscore37_data0','upscore37_data1','upscore_sum', 'upscore_concat','upscore_rc_corrected']:\n",
    "    for i in range(len(fuseNet.params[upscore_layer])):\n",
    "        fuseNet.params[upscore_layer][i].data.flat = monoNet.params['upscore37'][i].data.flat\n",
    "        print(upscore_layer)\n",
    "        print(np.sum(fuseNet.params[upscore_layer][i].data)) #flat = net.params[p][i].data.flat"
   ]
  },
  {
   "cell_type": "code",
   "execution_count": null,
   "metadata": {
    "collapsed": false,
    "scrolled": true
   },
   "outputs": [],
   "source": [
    "#### SAVING\n",
    "print \"Saving output model to %s \" % weights_path_fuse\n",
    "fuseNet.save(weights_path_fuse)"
   ]
  },
  {
   "cell_type": "code",
   "execution_count": null,
   "metadata": {
    "collapsed": true
   },
   "outputs": [],
   "source": [
    "del fuseNet\n",
    "del monoNet"
   ]
  }
 ],
 "metadata": {
  "anaconda-cloud": {},
  "kernelspec": {
   "display_name": "Python [conda env:jg_pfr]",
   "language": "python",
   "name": "conda-env-jg_pfr-py"
  },
  "language_info": {
   "codemirror_mode": {
    "name": "ipython",
    "version": 2
   },
   "file_extension": ".py",
   "mimetype": "text/x-python",
   "name": "python",
   "nbconvert_exporter": "python",
   "pygments_lexer": "ipython2",
   "version": "2.7.13"
  }
 },
 "nbformat": 4,
 "nbformat_minor": 1
}
