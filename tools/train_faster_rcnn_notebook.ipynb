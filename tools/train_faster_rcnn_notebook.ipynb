{
 "cells": [
  {
   "cell_type": "code",
   "execution_count": 1,
   "metadata": {
    "collapsed": false
   },
   "outputs": [
    {
     "name": "stdout",
     "output_type": "stream",
     "text": [
      "/data/workspace/jg_pfr/tools\n"
     ]
    }
   ],
   "source": [
    "cd '/data/workspace/jg_pfr/tools'"
   ]
  },
  {
   "cell_type": "code",
   "execution_count": 2,
   "metadata": {
    "collapsed": false
   },
   "outputs": [],
   "source": [
    "#!/usr/bin/env python\n",
    "\n",
    "# --------------------------------------------------------\n",
    "# Faster R-CNN\n",
    "# Copyright (c) 2015 Microsoft\n",
    "# Licensed under The MIT License [see LICENSE for details]\n",
    "# Written by Ross Girshick\n",
    "# --------------------------------------------------------\n",
    "\n",
    "\"\"\"Train a Faster R-CNN network using alternating optimization.\n",
    "This tool implements the alternating optimization algorithm described in our\n",
    "NIPS 2015 paper (\"Faster R-CNN: Towards Real-time Object Detection with Region\n",
    "Proposal Networks.\" Shaoqing Ren, Kaiming He, Ross Girshick, Jian Sun.)\n",
    "\"\"\"\n",
    "\n",
    "import _init_paths\n",
    "from fast_rcnn.train import get_training_roidb, train_net\n",
    "from fast_rcnn.config import cfg, cfg_from_file, cfg_from_list, get_output_dir\n",
    "from datasets.factory import get_imdb\n",
    "from rpn.generate import imdb_proposals\n",
    "import argparse\n",
    "import pprint\n",
    "import numpy as np\n",
    "import sys, os\n",
    "import multiprocessing as mp\n",
    "import cPickle\n",
    "import shutil"
   ]
  },
  {
   "cell_type": "code",
   "execution_count": 3,
   "metadata": {
    "collapsed": true
   },
   "outputs": [],
   "source": [
    "def parse_args():\n",
    "    \"\"\"\n",
    "    Parse input arguments\n",
    "    \"\"\"\n",
    "    parser = argparse.ArgumentParser(description='Train a Faster R-CNN network')\n",
    "    parser.add_argument('--gpu', dest='gpu_id',\n",
    "                        help='GPU device id to use [0]',\n",
    "                        default=0, type=int)\n",
    "    parser.add_argument('--net_name', dest='net_name',\n",
    "                        help='network name (e.g., \"ZF\")',\n",
    "                        default=None, type=str)\n",
    "    parser.add_argument('--weights', dest='pretrained_model',\n",
    "                        help='initialize with pretrained model weights',\n",
    "                        default=None, type=str)\n",
    "    parser.add_argument('--cfg', dest='cfg_file',\n",
    "                        help='optional config file',\n",
    "                        default=None, type=str)\n",
    "    parser.add_argument('--imdb', dest='imdb_name',\n",
    "                        help='dataset to train on',\n",
    "                        default='voc_2007_trainval', type=str)\n",
    "    parser.add_argument('--set', dest='set_cfgs',\n",
    "                        help='set config keys', default=None,\n",
    "                        nargs=argparse.REMAINDER)\n",
    "\n",
    "    if len(sys.argv) == 1:\n",
    "        parser.print_help()\n",
    "        sys.exit(1)\n",
    "\n",
    "    args = parser.parse_args()\n",
    "    return args"
   ]
  },
  {
   "cell_type": "code",
   "execution_count": 4,
   "metadata": {
    "collapsed": true
   },
   "outputs": [],
   "source": [
    "def get_roidb(imdb_name, rpn_file=None):\n",
    "    print 'Requiring dataset `{:s}` for training'.format(imdb_name)\n",
    "    imdb = get_imdb(imdb_name)\n",
    "    print 'Loaded dataset `{:s}` for training'.format(imdb.name)\n",
    "    imdb.set_proposal_method(cfg.TRAIN.PROPOSAL_METHOD)\n",
    "    print 'Set proposal method: {:s}'.format(cfg.TRAIN.PROPOSAL_METHOD)\n",
    "    if rpn_file is not None:\n",
    "        imdb.config['rpn_file'] = rpn_file\n",
    "    roidb = get_training_roidb(imdb)\n",
    "    return roidb, imdb"
   ]
  },
  {
   "cell_type": "code",
   "execution_count": 5,
   "metadata": {
    "collapsed": true
   },
   "outputs": [],
   "source": [
    "def get_solvers(net_name):\n",
    "    # Faster R-CNN Alternating Optimization\n",
    "    n = 'faster_rcnn_alt_opt'\n",
    "    # Solver for each training stage\n",
    "    solvers = [[net_name, n, 'stage1_rpn_solver60k80k.pt'],\n",
    "               [net_name, n, 'stage1_fast_rcnn_solver30k40k.pt'],\n",
    "               [net_name, n, 'stage2_rpn_solver60k80k.pt'],\n",
    "               [net_name, n, 'stage2_fast_rcnn_solver30k40k.pt']]\n",
    "    solvers = [os.path.join(cfg.MODELS_DIR, *s) for s in solvers]\n",
    "    # Iterations for each training stage\n",
    "    max_iters = [80000, 40000, 80000, 40000]\n",
    "    # max_iters = [100, 100, 100, 100]\n",
    "    # Test prototxt for the RPN\n",
    "    rpn_test_prototxt = os.path.join(\n",
    "        cfg.MODELS_DIR, net_name, n, 'rpn_test.pt')\n",
    "    return solvers, max_iters, rpn_test_prototxt"
   ]
  },
  {
   "cell_type": "code",
   "execution_count": 6,
   "metadata": {
    "collapsed": true
   },
   "outputs": [],
   "source": [
    "# ------------------------------------------------------------------------------\n",
    "# Pycaffe doesn't reliably free GPU memory when instantiated nets are discarded\n",
    "# (e.g. \"del net\" in Python code). To work around this issue, each training\n",
    "# stage is executed in a separate process using multiprocessing.Process.\n",
    "# ------------------------------------------------------------------------------\n",
    "\n",
    "def _init_caffe(cfg):\n",
    "    \"\"\"Initialize pycaffe in a training process.\n",
    "    \"\"\"\n",
    "\n",
    "    import caffe\n",
    "    # fix the random seeds (numpy and caffe) for reproducibility\n",
    "    np.random.seed(cfg.RNG_SEED)\n",
    "    caffe.set_random_seed(cfg.RNG_SEED)\n",
    "    # set up caffe\n",
    "    caffe.set_mode_gpu()\n",
    "    caffe.set_device(cfg.GPU_ID)"
   ]
  },
  {
   "cell_type": "code",
   "execution_count": 7,
   "metadata": {
    "collapsed": true
   },
   "outputs": [],
   "source": [
    "def train_rpn(queue=None, imdb_name=None, init_model=None, solver=None,\n",
    "              max_iters=None, cfg=None):\n",
    "    \"\"\"Train a Region Proposal Network in a separate training process.\n",
    "    \"\"\"\n",
    "\n",
    "    # Not using any proposals, just ground-truth boxes\n",
    "    cfg.TRAIN.HAS_RPN = True\n",
    "    cfg.TRAIN.BBOX_REG = False  # applies only to Fast R-CNN bbox regression\n",
    "    cfg.TRAIN.PROPOSAL_METHOD = 'gt'\n",
    "    cfg.TRAIN.IMS_PER_BATCH = 1\n",
    "    print 'Init model: {}'.format(init_model)\n",
    "    print('Using config:')\n",
    "    pprint.pprint(cfg)\n",
    "\n",
    "    import caffe\n",
    "    _init_caffe(cfg)\n",
    "\n",
    "    roidb, imdb = get_roidb(imdb_name)\n",
    "    print 'roidb len: {}'.format(len(roidb))\n",
    "    output_dir = get_output_dir(imdb)\n",
    "    print 'Output will be saved to `{:s}`'.format(output_dir)\n",
    "\n",
    "    model_paths = train_net(solver, roidb, output_dir,\n",
    "                            pretrained_model=init_model,\n",
    "                            max_iters=max_iters)\n",
    "    # Cleanup all but the final model\n",
    "    for i in model_paths[:-1]:\n",
    "        os.remove(i)\n",
    "    rpn_model_path = model_paths[-1]\n",
    "    # Send final model path through the multiprocessing queue\n",
    "    queue.put({'model_path': rpn_model_path})"
   ]
  },
  {
   "cell_type": "code",
   "execution_count": 8,
   "metadata": {
    "collapsed": true
   },
   "outputs": [],
   "source": [
    "def rpn_generate(queue=None, imdb_name=None, rpn_model_path=None, cfg=None,\n",
    "                 rpn_test_prototxt=None):\n",
    "    \"\"\"Use a trained RPN to generate proposals.\n",
    "    \"\"\"\n",
    "\n",
    "    cfg.TEST.RPN_PRE_NMS_TOP_N = -1     # no pre NMS filtering\n",
    "    cfg.TEST.RPN_POST_NMS_TOP_N = 2000  # limit top boxes after NMS\n",
    "    print 'RPN model: {}'.format(rpn_model_path)\n",
    "    print('Using config:')\n",
    "    pprint.pprint(cfg)\n",
    "\n",
    "    import caffe\n",
    "    _init_caffe(cfg)\n",
    "\n",
    "    # NOTE: the matlab implementation computes proposals on flipped images, too.\n",
    "    # We compute them on the image once and then flip the already computed\n",
    "    # proposals. This might cause a minor loss in mAP (less proposal jittering).\n",
    "    imdb = get_imdb(imdb_name)\n",
    "    print 'Loaded dataset `{:s}` for proposal generation'.format(imdb.name)\n",
    "\n",
    "    # Load RPN and configure output directory\n",
    "    rpn_net = caffe.Net(rpn_test_prototxt, rpn_model_path, caffe.TEST)\n",
    "    output_dir = get_output_dir(imdb)\n",
    "    print 'Output will be saved to `{:s}`'.format(output_dir)\n",
    "    # Generate proposals on the imdb\n",
    "    rpn_proposals = imdb_proposals(rpn_net, imdb)\n",
    "    # Write proposals to disk and send the proposal file path through the\n",
    "    # multiprocessing queue\n",
    "    rpn_net_name = os.path.splitext(os.path.basename(rpn_model_path))[0]\n",
    "    rpn_proposals_path = os.path.join(\n",
    "        output_dir, rpn_net_name + '_proposals.pkl')\n",
    "    with open(rpn_proposals_path, 'wb') as f:\n",
    "        cPickle.dump(rpn_proposals, f, cPickle.HIGHEST_PROTOCOL)\n",
    "    print 'Wrote RPN proposals to {}'.format(rpn_proposals_path)\n",
    "    queue.put({'proposal_path': rpn_proposals_path})"
   ]
  },
  {
   "cell_type": "code",
   "execution_count": 9,
   "metadata": {
    "collapsed": true
   },
   "outputs": [],
   "source": [
    "def train_fast_rcnn(queue=None, imdb_name=None, init_model=None, solver=None,\n",
    "                    max_iters=None, cfg=None, rpn_file=None):\n",
    "    \"\"\"Train a Fast R-CNN using proposals generated by an RPN.\n",
    "    \"\"\"\n",
    "\n",
    "    cfg.TRAIN.HAS_RPN = False           # not generating prosals on-the-fly\n",
    "    cfg.TRAIN.PROPOSAL_METHOD = 'rpn'   # use pre-computed RPN proposals instead\n",
    "    cfg.TRAIN.IMS_PER_BATCH = 2\n",
    "    print 'Init model: {}'.format(init_model)\n",
    "    print 'RPN proposals: {}'.format(rpn_file)\n",
    "    print('Using config:')\n",
    "    pprint.pprint(cfg)\n",
    "\n",
    "    import caffe\n",
    "    _init_caffe(cfg)\n",
    "\n",
    "    roidb, imdb = get_roidb(imdb_name, rpn_file=rpn_file)\n",
    "    output_dir = get_output_dir(imdb)\n",
    "    print 'Output will be saved to `{:s}`'.format(output_dir)\n",
    "    # Train Fast R-CNN\n",
    "    model_paths = train_net(solver, roidb, output_dir,\n",
    "                            pretrained_model=init_model,\n",
    "                            max_iters=max_iters)\n",
    "    # Cleanup all but the final model\n",
    "    for i in model_paths[:-1]:\n",
    "        os.remove(i)\n",
    "    fast_rcnn_model_path = model_paths[-1]\n",
    "    # Send Fast R-CNN model path over the multiprocessing queue\n",
    "    queue.put({'model_path': fast_rcnn_model_path})"
   ]
  },
  {
   "cell_type": "code",
   "execution_count": 10,
   "metadata": {
    "collapsed": true
   },
   "outputs": [],
   "source": [
    "#if __name__ == '__main__':\n",
    "\n",
    "# from ./experiments/scripts/faster_rcnn_alt_opt.sh\n",
    "# ~~~~~~~~~~~~~~~~~~~~~~~~~~~~~~~~~~~~~~~~~~~~~~~~~~~~~~~~~~~~~~~~~~~~~~~~~~~~~~~~~~~~~~~~~~~~~~~~~~~~\n",
    "# ARGS = \n",
    "# 0 VGG_CNN_M_1024 nyudv2 --set EXP_DIR nyudv2_first_attempt RNG_SEED 42 TRAIN.SCALES \"[400,500,600,700]\"\n",
    "\n",
    "#GPU_ID=$1\n",
    "#NET=$2\n",
    "#NET_lc=${NET,,}\n",
    "#DATASET=$3\n",
    "\n",
    "#array=( $@ )\n",
    "#len=${#array[@]}\n",
    "#EXTRA_ARGS=${array[@]:3:$len}\n",
    "#EXTRA_ARGS_SLUG=${EXTRA_ARGS// /_}\n",
    "\n",
    "#  nyudv2)\n",
    "#    TRAIN_IMDB=\"nyud_v2_train_rgb\"\n",
    "#    TEST_IMDB=\"nyud_v2__test_rgb\"\n",
    "#    PT_DIR=\"nyudv2\"\n",
    "#    ITERS=20000\n",
    "#    ;;\n",
    "    \n",
    "    \n",
    "#time ./tools/train_faster_rcnn_alt_opt.py --gpu ${GPU_ID} \\\n",
    "#  --net_name ${NET} \\\n",
    "#  --weights data/imagenet_models/${NET}.v2.caffemodel \\\n",
    "#  --imdb ${TRAIN_IMDB} \\\n",
    "#  --cfg experiments/cfgs/faster_rcnn_alt_opt.yml \\\n",
    "#  ${EXTRA_ARGS}\n",
    "# ~~~~~~~~~~~~~~~~~~~~~~~~~~~~~~~~~~~~~~~~~~~~~~~~~~~~~~~~~~~~~~~~~~~~~~~~~~~~~~~~~~~~~~~~~~~~~~~~~~~~\n",
    "#args = parse_args()\n",
    "class Args:\n",
    "    def __init__(self,\n",
    "                 gpu_id=0,\n",
    "                 net_name=None,\n",
    "                 pretrained_model=None,\n",
    "                 cfg_file=None,\n",
    "                 imdb_name= 'voc_2007_trainval',\n",
    "                 set_cfgs=None):\n",
    "        \n",
    "        self.gpu_id = gpu_id\n",
    "        self.net_name = net_name\n",
    "        self.pretrained_model = pretrained_model\n",
    "        self.cfg_file = cfg_file\n",
    "        self.imdb_name = imdb_name\n",
    "        self.set_cfgs = set_cfgs\n",
    "    \n",
    "args = Args(0,\n",
    "            'VGG_CNN_M_1024',\n",
    "            '/data/workspace/jg_pfr/data/imagenet_models/VGG_CNN_M_1024.v2.caffemodel',\n",
    "            '/data/workspace/jg_pfr/experiments/cfgs/faster_rcnn_alt_opt.yml',\n",
    "            'nyud_v2_train_rgb')\n",
    "\n"
   ]
  },
  {
   "cell_type": "code",
   "execution_count": 11,
   "metadata": {
    "collapsed": false
   },
   "outputs": [
    {
     "name": "stdout",
     "output_type": "stream",
     "text": [
      "Called with args:\n",
      "<__main__.Args instance at 0x7f712b268d88>\n"
     ]
    }
   ],
   "source": [
    "print('Called with args:')\n",
    "print(args)\n",
    "\n",
    "if args.cfg_file is not None:\n",
    "    cfg_from_file(args.cfg_file)\n",
    "if args.set_cfgs is not None:\n",
    "    cfg_from_list(args.set_cfgs)\n",
    "cfg.GPU_ID = args.gpu_id"
   ]
  },
  {
   "cell_type": "code",
   "execution_count": 12,
   "metadata": {
    "collapsed": true
   },
   "outputs": [],
   "source": [
    "# solves, iters, etc. for each training stage\n",
    "solvers, max_iters, rpn_test_prototxt = get_solvers(args.net_name)"
   ]
  },
  {
   "cell_type": "code",
   "execution_count": 13,
   "metadata": {
    "collapsed": false,
    "scrolled": true
   },
   "outputs": [
    {
     "name": "stdout",
     "output_type": "stream",
     "text": [
      "~~~~~~~~~~~~~~~~~~~~~~~~~~~~~~~~~~~~~~~~~~~~~~~~~~~~~~~~~~\n",
      "Stage 1 RPN, init from ImageNet model\n",
      "~~~~~~~~~~~~~~~~~~~~~~~~~~~~~~~~~~~~~~~~~~~~~~~~~~~~~~~~~~\n",
      "Init model: /data/workspace/jg_pfr/data/imagenet_models/VGG_CNN_M_1024.v2.caffemodel\n",
      "Using config:\n",
      "{'DATA_DIR': '/data/workspace/jg_pfr/data',\n",
      " 'DEDUP_BOXES': 0.0625,\n",
      " 'EPS': 1e-14,\n",
      " 'EXP_DIR': 'faster_rcnn_alt_opt',\n",
      " 'GPU_ID': 0,\n",
      " 'MATLAB': 'matlab',\n",
      " 'MODELS_DIR': '/data/workspace/jg_pfr/models/pascal_voc',\n",
      " 'PIXEL_MEANS': array([[[ 102.9801,  115.9465,  122.7717]]]),\n",
      " 'RNG_SEED': 3,\n",
      " 'ROOT_DIR': '/data/workspace/jg_pfr',\n",
      " 'TEST': {'BBOX_REG': True,\n",
      "          'HAS_RPN': True,\n",
      "          'MAX_SIZE': 1000,\n",
      "          'NMS': 0.3,\n",
      "          'PROPOSAL_METHOD': 'selective_search',\n",
      "          'RPN_MIN_SIZE': 16,\n",
      "          'RPN_NMS_THRESH': 0.7,\n",
      "          'RPN_POST_NMS_TOP_N': 300,\n",
      "          'RPN_PRE_NMS_TOP_N': 6000,\n",
      "          'SCALES': [600],\n",
      "          'SVM': False},\n",
      " 'TRAIN': {'ASPECT_GROUPING': True,\n",
      "           'BATCH_SIZE': 128,\n",
      "           'BBOX_INSIDE_WEIGHTS': [1.0, 1.0, 1.0, 1.0],\n",
      "           'BBOX_NORMALIZE_MEANS': [0.0, 0.0, 0.0, 0.0],\n",
      "           'BBOX_NORMALIZE_STDS': [0.1, 0.1, 0.2, 0.2],\n",
      "           'BBOX_NORMALIZE_TARGETS': True,\n",
      "           'BBOX_NORMALIZE_TARGETS_PRECOMPUTED': False,\n",
      "           'BBOX_REG': False,\n",
      "           'BBOX_THRESH': 0.5,\n",
      "           'BG_THRESH_HI': 0.5,\n",
      "           'BG_THRESH_LO': 0.0,\n",
      "           'FG_FRACTION': 0.25,\n",
      "           'FG_THRESH': 0.5,\n",
      "           'HAS_RPN': True,\n",
      "           'IMS_PER_BATCH': 1,\n",
      "           'MAX_SIZE': 1000,\n",
      "           'PROPOSAL_METHOD': 'gt',\n",
      "           'RPN_BATCHSIZE': 256,\n",
      "           'RPN_BBOX_INSIDE_WEIGHTS': [1.0, 1.0, 1.0, 1.0],\n",
      "           'RPN_CLOBBER_POSITIVES': False,\n",
      "           'RPN_FG_FRACTION': 0.5,\n",
      "           'RPN_MIN_SIZE': 16,\n",
      "           'RPN_NEGATIVE_OVERLAP': 0.3,\n",
      "           'RPN_NMS_THRESH': 0.7,\n",
      "           'RPN_POSITIVE_OVERLAP': 0.7,\n",
      "           'RPN_POSITIVE_WEIGHT': -1.0,\n",
      "           'RPN_POST_NMS_TOP_N': 2000,\n",
      "           'RPN_PRE_NMS_TOP_N': 12000,\n",
      "           'SCALES': [600],\n",
      "           'SNAPSHOT_INFIX': '',\n",
      "           'SNAPSHOT_ITERS': 10000,\n",
      "           'USE_FLIPPED': True,\n",
      "           'USE_PREFETCH': False},\n",
      " 'USE_GPU_NMS': True}\n",
      "Requiring dataset `nyud_v2_train_rgb` for training\n",
      "Loaded dataset `nyud_v2_train` for training\n",
      "Set proposal method: gt\n",
      "Appending horizontally-flipped training examples...\n",
      "nyud_v2_train gt roidb loaded from /data/workspace/jg_pfr/data/cache/nyud_v2_train_gt_roidb.pkl\n",
      "done\n",
      "Preparing training data...\n",
      "done\n",
      "roidb len: 1564\n",
      "Output will be saved to `/data/workspace/jg_pfr/output/faster_rcnn_alt_opt/nyud_v2_train`\n"
     ]
    }
   ],
   "source": [
    "#def train_rpn(queue=None, imdb_name=None, init_model=None, solver=None,\n",
    "#              max_iters=None, cfg=None):\n",
    "    \n",
    "print '~~~~~~~~~~~~~~~~~~~~~~~~~~~~~~~~~~~~~~~~~~~~~~~~~~~~~~~~~~'\n",
    "print 'Stage 1 RPN, init from ImageNet model'\n",
    "print '~~~~~~~~~~~~~~~~~~~~~~~~~~~~~~~~~~~~~~~~~~~~~~~~~~~~~~~~~~'\n",
    "\n",
    "\"\"\"Train a Region Proposal Network in a separate training process.\n",
    "\"\"\"\n",
    "\n",
    "# Not using any proposals, just ground-truth boxes\n",
    "cfg.TRAIN.HAS_RPN = True\n",
    "cfg.TRAIN.BBOX_REG = False  # applies only to Fast R-CNN bbox regression\n",
    "cfg.TRAIN.PROPOSAL_METHOD = 'gt'\n",
    "cfg.TRAIN.IMS_PER_BATCH = 1\n",
    "print 'Init model: {}'.format(args.pretrained_model)\n",
    "print('Using config:')\n",
    "pprint.pprint(cfg)\n",
    "\n",
    "import caffe\n",
    "_init_caffe(cfg)\n",
    "\n",
    "roidb, imdb = get_roidb(args.imdb_name)\n",
    "print 'roidb len: {}'.format(len(roidb))\n",
    "output_dir = get_output_dir(imdb)\n",
    "print 'Output will be saved to `{:s}`'.format(output_dir)"
   ]
  },
  {
   "cell_type": "code",
   "execution_count": null,
   "metadata": {
    "collapsed": false
   },
   "outputs": [
    {
     "name": "stdout",
     "output_type": "stream",
     "text": [
      "Filtered 0 roidb entries: 1564 -> 1564\n",
      "RoiDataLayer: name_to_top: {'gt_boxes': 2, 'data': 0, 'im_info': 1}\n",
      "Loading pretrained model weights from /data/workspace/jg_pfr/data/imagenet_models/VGG_CNN_M_1024.v2.caffemodel\n",
      "Solving...\n",
      "speed: 0.074s / iter\n",
      "speed: 0.073s / iter\n"
     ]
    }
   ],
   "source": [
    "model_paths = train_net(solvers[0], roidb, output_dir,\n",
    "                        pretrained_model=args.pretrained_model,\n",
    "                        max_iters=max_iters[0])"
   ]
  },
  {
   "cell_type": "code",
   "execution_count": null,
   "metadata": {
    "collapsed": false
   },
   "outputs": [],
   "source": [
    "# Cleanup all but the final model\n",
    "for i in model_paths[:-1]:\n",
    "    os.remove(i)\n",
    "rpn_model_path = model_paths[-1]\n",
    "# Send final model path through the multiprocessing queue\n",
    "# queue.put({'model_path': rpn_model_path})"
   ]
  },
  {
   "cell_type": "code",
   "execution_count": null,
   "metadata": {
    "collapsed": true
   },
   "outputs": [],
   "source": [
    "stoooooooooooooooooooooooooooop here Jack !"
   ]
  },
  {
   "cell_type": "code",
   "execution_count": null,
   "metadata": {
    "collapsed": true
   },
   "outputs": [],
   "source": [
    "# --------------------------------------------------------------------------\n",
    "# Pycaffe doesn't reliably free GPU memory when instantiated nets are\n",
    "# discarded (e.g. \"del net\" in Python code). To work around this issue, each\n",
    "# training stage is executed in a separate process using\n",
    "# multiprocessing.Process.\n",
    "# --------------------------------------------------------------------------\n",
    "\n",
    "# queue for communicated results between processes\n",
    "mp_queue = mp.Queue()"
   ]
  },
  {
   "cell_type": "code",
   "execution_count": null,
   "metadata": {
    "collapsed": true
   },
   "outputs": [],
   "source": [
    "    print '~~~~~~~~~~~~~~~~~~~~~~~~~~~~~~~~~~~~~~~~~~~~~~~~~~~~~~~~~~'\n",
    "    print 'Stage 1 RPN, init from ImageNet model'\n",
    "    print '~~~~~~~~~~~~~~~~~~~~~~~~~~~~~~~~~~~~~~~~~~~~~~~~~~~~~~~~~~'\n",
    "\n",
    "    cfg.TRAIN.SNAPSHOT_INFIX = 'stage1'\n",
    "    mp_kwargs = dict(\n",
    "            queue=mp_queue,\n",
    "            imdb_name=args.imdb_name,\n",
    "            init_model=args.pretrained_model,\n",
    "            solver=solvers[0],\n",
    "            max_iters=max_iters[0],\n",
    "            cfg=cfg)\n",
    "    p = mp.Process(target=train_rpn, kwargs=mp_kwargs)\n",
    "    p.start()\n",
    "    rpn_stage1_out = mp_queue.get()\n",
    "    p.join()"
   ]
  },
  {
   "cell_type": "code",
   "execution_count": null,
   "metadata": {
    "collapsed": true
   },
   "outputs": [],
   "source": [
    "print '~~~~~~~~~~~~~~~~~~~~~~~~~~~~~~~~~~~~~~~~~~~~~~~~~~~~~~~~~~'\n",
    "print 'Stage 1 RPN, generate proposals'\n",
    "print '~~~~~~~~~~~~~~~~~~~~~~~~~~~~~~~~~~~~~~~~~~~~~~~~~~~~~~~~~~'\n",
    "\n",
    "mp_kwargs = dict(\n",
    "        queue=mp_queue,\n",
    "        imdb_name=args.imdb_name,\n",
    "        rpn_model_path=str(rpn_stage1_out['model_path']),\n",
    "        cfg=cfg,\n",
    "        rpn_test_prototxt=rpn_test_prototxt)\n",
    "p = mp.Process(target=rpn_generate, kwargs=mp_kwargs)\n",
    "p.start()\n",
    "rpn_stage1_out['proposal_path'] = mp_queue.get()['proposal_path']\n",
    "p.join()"
   ]
  },
  {
   "cell_type": "code",
   "execution_count": null,
   "metadata": {
    "collapsed": true
   },
   "outputs": [],
   "source": [
    "print '~~~~~~~~~~~~~~~~~~~~~~~~~~~~~~~~~~~~~~~~~~~~~~~~~~~~~~~~~~'\n",
    "print 'Stage 1 Fast R-CNN using RPN proposals, init from ImageNet model'\n",
    "print '~~~~~~~~~~~~~~~~~~~~~~~~~~~~~~~~~~~~~~~~~~~~~~~~~~~~~~~~~~'\n",
    "\n",
    "cfg.TRAIN.SNAPSHOT_INFIX = 'stage1'\n",
    "mp_kwargs = dict(\n",
    "        queue=mp_queue,\n",
    "        imdb_name=args.imdb_name,\n",
    "        init_model=args.pretrained_model,\n",
    "        solver=solvers[1],\n",
    "        max_iters=max_iters[1],\n",
    "        cfg=cfg,\n",
    "        rpn_file=rpn_stage1_out['proposal_path'])\n",
    "p = mp.Process(target=train_fast_rcnn, kwargs=mp_kwargs)\n",
    "p.start()\n",
    "fast_rcnn_stage1_out = mp_queue.get()\n",
    "p.join()"
   ]
  },
  {
   "cell_type": "code",
   "execution_count": null,
   "metadata": {
    "collapsed": true
   },
   "outputs": [],
   "source": [
    "print '~~~~~~~~~~~~~~~~~~~~~~~~~~~~~~~~~~~~~~~~~~~~~~~~~~~~~~~~~~'\n",
    "print 'Stage 2 RPN, init from stage 1 Fast R-CNN model'\n",
    "print '~~~~~~~~~~~~~~~~~~~~~~~~~~~~~~~~~~~~~~~~~~~~~~~~~~~~~~~~~~'\n",
    "\n",
    "cfg.TRAIN.SNAPSHOT_INFIX = 'stage2'\n",
    "mp_kwargs = dict(\n",
    "        queue=mp_queue,\n",
    "        imdb_name=args.imdb_name,\n",
    "        init_model=str(fast_rcnn_stage1_out['model_path']),\n",
    "        solver=solvers[2],\n",
    "        max_iters=max_iters[2],\n",
    "        cfg=cfg)\n",
    "p = mp.Process(target=train_rpn, kwargs=mp_kwargs)\n",
    "p.start()\n",
    "rpn_stage2_out = mp_queue.get()\n",
    "p.join()"
   ]
  },
  {
   "cell_type": "code",
   "execution_count": null,
   "metadata": {
    "collapsed": true
   },
   "outputs": [],
   "source": [
    "print '~~~~~~~~~~~~~~~~~~~~~~~~~~~~~~~~~~~~~~~~~~~~~~~~~~~~~~~~~~'\n",
    "print 'Stage 2 RPN, generate proposals'\n",
    "print '~~~~~~~~~~~~~~~~~~~~~~~~~~~~~~~~~~~~~~~~~~~~~~~~~~~~~~~~~~'\n",
    "\n",
    "mp_kwargs = dict(\n",
    "        queue=mp_queue,\n",
    "        imdb_name=args.imdb_name,\n",
    "        rpn_model_path=str(rpn_stage2_out['model_path']),\n",
    "        cfg=cfg,\n",
    "        rpn_test_prototxt=rpn_test_prototxt)\n",
    "p = mp.Process(target=rpn_generate, kwargs=mp_kwargs)\n",
    "p.start()\n",
    "rpn_stage2_out['proposal_path'] = mp_queue.get()['proposal_path']\n",
    "p.join()"
   ]
  },
  {
   "cell_type": "code",
   "execution_count": null,
   "metadata": {
    "collapsed": true
   },
   "outputs": [],
   "source": [
    "print '~~~~~~~~~~~~~~~~~~~~~~~~~~~~~~~~~~~~~~~~~~~~~~~~~~~~~~~~~~'\n",
    "print 'Stage 2 Fast R-CNN, init from stage 2 RPN R-CNN model'\n",
    "print '~~~~~~~~~~~~~~~~~~~~~~~~~~~~~~~~~~~~~~~~~~~~~~~~~~~~~~~~~~'\n",
    "\n",
    "cfg.TRAIN.SNAPSHOT_INFIX = 'stage2'\n",
    "mp_kwargs = dict(\n",
    "        queue=mp_queue,\n",
    "        imdb_name=args.imdb_name,\n",
    "        init_model=str(rpn_stage2_out['model_path']),\n",
    "        solver=solvers[3],\n",
    "        max_iters=max_iters[3],\n",
    "        cfg=cfg,\n",
    "        rpn_file=rpn_stage2_out['proposal_path'])\n",
    "p = mp.Process(target=train_fast_rcnn, kwargs=mp_kwargs)\n",
    "p.start()\n",
    "fast_rcnn_stage2_out = mp_queue.get()\n",
    "p.join()"
   ]
  },
  {
   "cell_type": "code",
   "execution_count": null,
   "metadata": {
    "collapsed": true
   },
   "outputs": [],
   "source": [
    "# Create final model (just a copy of the last stage)\n",
    "final_path = os.path.join(\n",
    "        os.path.dirname(fast_rcnn_stage2_out['model_path']),\n",
    "        args.net_name + '_faster_rcnn_final.caffemodel')\n",
    "print 'cp {} -> {}'.format(\n",
    "        fast_rcnn_stage2_out['model_path'], final_path)\n",
    "shutil.copy(fast_rcnn_stage2_out['model_path'], final_path)\n",
    "print 'Final model: {}'.format(final_path)"
   ]
  }
 ],
 "metadata": {
  "kernelspec": {
   "display_name": "Python [Root]",
   "language": "python",
   "name": "Python [Root]"
  },
  "language_info": {
   "codemirror_mode": {
    "name": "ipython",
    "version": 2
   },
   "file_extension": ".py",
   "mimetype": "text/x-python",
   "name": "python",
   "nbconvert_exporter": "python",
   "pygments_lexer": "ipython2",
   "version": "2.7.12"
  }
 },
 "nbformat": 4,
 "nbformat_minor": 0
}
