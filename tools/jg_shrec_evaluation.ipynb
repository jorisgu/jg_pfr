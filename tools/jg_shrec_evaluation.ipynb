{
 "cells": [
  {
   "cell_type": "markdown",
   "metadata": {},
   "source": [
    "confusion matrix :\n",
    "    http://gcucurull.github.io/caffe/python/deep-learning/2016/06/29/caffe-confusion-matrix/\n",
    "    https://github.com/gcucurull/caffe-conf-matrix\n",
    "FCN :\n",
    "    score :\n",
    "        https://github.com/shelhamer/fcn.berkeleyvision.org/blob/master/score.py\n",
    "    infer :\n",
    "        https://github.com/shelhamer/fcn.berkeleyvision.org/blob/master/infer.py"
   ]
  },
  {
   "cell_type": "code",
   "execution_count": 1,
   "metadata": {
    "collapsed": false
   },
   "outputs": [],
   "source": [
    "from __future__ import division\n",
    "from __future__ import print_function\n",
    "\n",
    "import caffe\n",
    "import numpy as np\n",
    "import os\n",
    "import sys\n",
    "from datetime import datetime\n",
    "from PIL import Image\n",
    "from IPython.display import Image\n",
    "from IPython.display import clear_output\n",
    "import time\n",
    "import _init_paths\n",
    "\n",
    "import itertools\n",
    "\n",
    "from matplotlib.pyplot import imshow\n",
    "from matplotlib.pyplot import imread\n",
    "from matplotlib.pyplot import imsave\n",
    "%matplotlib inline"
   ]
  },
  {
   "cell_type": "code",
   "execution_count": 54,
   "metadata": {
    "collapsed": true
   },
   "outputs": [],
   "source": [
    "def plot_cm(conf_arr, classes,\n",
    "            title='Confusion matrix',\n",
    "            cmap=plt.cm.jet):\n",
    "    #cmap=plt.cm.Blues\n",
    "    norm_conf = []\n",
    "    for i in conf_arr:\n",
    "        a = 0\n",
    "        tmp_arr = []\n",
    "        a = sum(i, 0)\n",
    "        for j in i:\n",
    "            tmp_arr.append(float(j)/float(a))\n",
    "        norm_conf.append(tmp_arr)\n",
    "\n",
    "    fig = plt.figure(figsize = (8,8))\n",
    "    plt.clf()\n",
    "    ax = fig.add_subplot(111)\n",
    "    ax.set_aspect(1)\n",
    "    res = ax.imshow(np.array(norm_conf), cmap=plt.cm.jet, \n",
    "                    interpolation='nearest')\n",
    "\n",
    "    width, height = conf_arr.shape\n",
    "\n",
    "    for x in xrange(width):\n",
    "        for y in xrange(height):\n",
    "            ax.annotate(str(conf_arr[x][y]), xy=(y, x), \n",
    "                        horizontalalignment='center',\n",
    "                        verticalalignment='center')\n",
    "\n",
    "    cb = fig.colorbar(res)\n",
    "    plt.xticks(range(width), classes, rotation=45)\n",
    "    plt.yticks(range(height), classes)\n",
    "    plt.title(title)\n",
    "    #plt.savefig('confusion_matrix.png', format='png')"
   ]
  },
  {
   "cell_type": "code",
   "execution_count": 98,
   "metadata": {
    "collapsed": false
   },
   "outputs": [],
   "source": [
    "def plot_confusion_matrix(cm, classes,\n",
    "                          normalize=False,\n",
    "                          title='Confusion matrix',\n",
    "                          cmap=plt.cm.Blues, notext=False):\n",
    "    \"\"\"\n",
    "    This function prints and plots the confusion matrix.\n",
    "    Normalization can be applied by setting `normalize=True`.\n",
    "    \"\"\"\n",
    "    \n",
    "    plt.imshow(cm, interpolation='nearest', cmap=cmap, aspect='auto')\n",
    "    plt.colorbar()\n",
    "    tick_marks = np.arange(len(classes))\n",
    "\n",
    "    plt.xticks(tick_marks, classes, rotation=45)\n",
    "    plt.yticks(tick_marks, classes)\n",
    "\n",
    "    if normalize:\n",
    "        cm = cm.astype('float') / cm.sum(axis=1)[:, np.newaxis]\n",
    "        if not notext:\n",
    "            print(\"Normalized confusion matrix\")\n",
    "    else:\n",
    "        if not notext:\n",
    "            print('Confusion matrix, without normalization')\n",
    "\n",
    "    #print(cm)\n",
    "\n",
    "    thresh = cm.max() / 2.\n",
    "    \n",
    "    if not notext:\n",
    "        if normalize:\n",
    "            for i, j in itertools.product(range(cm.shape[0]), range(cm.shape[1])):\n",
    "                plt.text(j, i, int(round(100*cm[i, j])),\n",
    "                         horizontalalignment=\"center\",\n",
    "                         color=\"white\" if cm[i, j] < thresh else \"black\")\n",
    "        else:\n",
    "            for i, j in itertools.product(range(cm.shape[0]), range(cm.shape[1])):\n",
    "                plt.text(j, i, cm[i, j],\n",
    "                         horizontalalignment=\"center\",\n",
    "                         color=\"white\" if cm[i, j] < thresh else \"black\")\n",
    "                \n",
    "\n",
    "    \n",
    "        plt.ylabel('True label')\n",
    "        plt.xlabel('Predicted label')\n",
    "        plt.title(title)\n",
    "        \n",
    "    plt.tight_layout()"
   ]
  },
  {
   "cell_type": "code",
   "execution_count": 2,
   "metadata": {
    "collapsed": false
   },
   "outputs": [],
   "source": [
    "def log_progress(sequence, title='', every=1, size=None, end_msg='', removeAtTheEnd=False):\n",
    "    from ipywidgets import IntProgress, HTML, VBox\n",
    "    from IPython.display import display\n",
    "\n",
    "    is_iterator = False\n",
    "    if size is None:\n",
    "        try:\n",
    "            size = len(sequence)\n",
    "        except TypeError:\n",
    "            is_iterator = True\n",
    "    if size is not None:\n",
    "        if every is None:\n",
    "            if size <= 200:\n",
    "                every = 1\n",
    "            else:\n",
    "                every = int(size / 200)     # every 0.5%\n",
    "    else:\n",
    "        assert every is not None, 'sequence is iterator, set every'\n",
    "\n",
    "    if is_iterator:\n",
    "        progress = IntProgress(min=0, max=1, value=1)\n",
    "        progress.bar_style = 'info'\n",
    "    else:\n",
    "        progress = IntProgress(min=0, max=size, value=0)\n",
    "    label = HTML()\n",
    "    box = VBox(children=[label, progress])\n",
    "    display(box)\n",
    "\n",
    "    index = 0\n",
    "    try:\n",
    "        for index, record in enumerate(sequence, 1):\n",
    "            if index == 1 or index % every == 0:\n",
    "                if is_iterator:\n",
    "                    label.value = '{index} / ?'.format(index=index)\n",
    "                else:\n",
    "                    progress.value = index\n",
    "                    if isinstance(sequence, dict):\n",
    "                        val = ''\n",
    "                    else:\n",
    "                        val=sequence[index-1]\n",
    "                            \n",
    "                    label.value = u'{title} : {value} ({index} / {size})'.format(\n",
    "                        title=title,\n",
    "                        value=val,\n",
    "                        index=index,\n",
    "                        size=size\n",
    "                    )\n",
    "            yield record\n",
    "    except:\n",
    "        progress.bar_style = 'danger'\n",
    "        raise\n",
    "    else:\n",
    "        progress.bar_style = 'success'\n",
    "        progress.value = index\n",
    "        label.value = end_msg\n",
    "        if removeAtTheEnd:\n",
    "            box.close()"
   ]
  },
  {
   "cell_type": "code",
   "execution_count": 3,
   "metadata": {
    "collapsed": false
   },
   "outputs": [],
   "source": [
    "SHRECmodels = '/home/jguerry/workspace/SHRECmodels/'\n",
    "# prototxt_path = SHRECmodels+'c14_kf3_var5_train_val.prototxt'\n",
    "# weights_path =  SHRECmodels+'c14_kf3_var5.caffemodel'\n",
    "\n",
    "# prototxt_path = SHRECmodels+'14bi28_kf5_var5 .prototxt'\n",
    "# weights_path =  SHRECmodels+'14bi28_kf5_var5.caffemodel'\n",
    "\n",
    "prototxt_path = SHRECmodels+'THEproto.prototxt'\n",
    "weights_path =  SHRECmodels+'THEweights.caffemodel'\n",
    "\n",
    "caffe_gpu = True\n",
    "if not caffe_gpu:\n",
    "    caffe.set_mode_cpu()\n",
    "else:\n",
    "    caffe.set_mode_gpu()\n",
    "    caffe.set_device(0);"
   ]
  },
  {
   "cell_type": "code",
   "execution_count": 4,
   "metadata": {
    "collapsed": false,
    "scrolled": false
   },
   "outputs": [],
   "source": [
    "# net = caffe.Net(prototxt_path, caffe.TEST)\n",
    "net = caffe.Net(prototxt_path, weights_path, caffe.TEST)"
   ]
  },
  {
   "cell_type": "code",
   "execution_count": 5,
   "metadata": {
    "collapsed": true
   },
   "outputs": [],
   "source": [
    "results={}\n",
    "results['id_gesture']=[]\n",
    "results['id_finger']=[]\n",
    "results['id_subject']=[]\n",
    "results['id_essai']=[]\n",
    "results['label_gt']=[]\n",
    "results['label_found']=[]\n",
    "results['label_gt_28']=[]\n",
    "results['label_found_28']=[]\n",
    "results['time_millisecond']=[]\n",
    "                     "
   ]
  },
  {
   "cell_type": "code",
   "execution_count": 6,
   "metadata": {
    "collapsed": false
   },
   "outputs": [
    {
     "name": "stdout",
     "output_type": "stream",
     "text": [
      "###############################################################\n"
     ]
    }
   ],
   "source": [
    "print(\"###############################################################\")\n",
    "\n",
    "# net.layers[0].images_processed = 100\n",
    "\n",
    "for idx in log_progress(range(net.layers[0].nb_images), title='iteration', end_msg='Finished !',removeAtTheEnd=True):\n",
    "# for idx in log_progress(range(5), title='iteration', end_msg='Finished !',removeAtTheEnd=True):\n",
    "\n",
    "    #print(\"Idx :\",idx)\n",
    "    t = time.time()\n",
    "    net.forward()\n",
    "    results['id_gesture'].append(int(net.layers[0].list_images[idx,0]))\n",
    "    results['id_finger'].append(int(net.layers[0].list_images[idx,1]))\n",
    "    results['id_subject'].append(int(net.layers[0].list_images[idx,2]))\n",
    "    results['id_essai'].append(int(net.layers[0].list_images[idx,3]))\n",
    "    results['label_gt'].append(int(net.blobs['label'].data[0]))\n",
    "#     results['label_found'].append(int(net.blobs['fc_14'].data[0].argmax(0)))\n",
    "    results['label_gt_28'].append(int(net.blobs['label_28'].data[0]))\n",
    "    results['label_found_28'].append(int(net.blobs['fc_28'].data[0].argmax(0)))\n",
    "    results['time_millisecond'].append(round(100000*(time.time() - t))/100)\n",
    "\n",
    "\n"
   ]
  },
  {
   "cell_type": "code",
   "execution_count": 72,
   "metadata": {
    "collapsed": true
   },
   "outputs": [],
   "source": [
    "def fast_hist(a, b, n):\n",
    "    k = (a >= 0) & (a < n)\n",
    "    return np.bincount(n * a[k].astype(int) + b[k], minlength=n**2).reshape(n, n)"
   ]
  },
  {
   "cell_type": "code",
   "execution_count": 73,
   "metadata": {
    "collapsed": false
   },
   "outputs": [
    {
     "name": "stdout",
     "output_type": "stream",
     "text": [
      "Accuracy: 0.719047619048\n",
      "pc_acc: [ 0.68  0.83  0.3   0.5   0.59  0.75  0.63  0.83  0.31  0.77  0.5   0.73\n",
      "  0.67  0.86  0.69  0.75  0.81  0.81  0.61  0.87  0.61  0.89  0.75  0.97\n",
      "  0.89  0.9   0.79  0.83]\n",
      "mean_accuracy: 0.718602614734\n"
     ]
    }
   ],
   "source": [
    "hist = fast_hist(np.asarray(results['label_gt_28']),np.asarray(results['label_found_28']),28)\n",
    "\n",
    "\n",
    "acc = np.diag(hist).sum() / hist.sum()\n",
    "# per-class accuracy\n",
    "pc_acc = np.diag(hist) / hist.sum(1)\n",
    "mean_accuracy= np.nanmean(pc_acc)\n",
    "\n",
    "print(\"Accuracy:\",acc)\n",
    "print(\"pc_acc:\",pc_acc)\n",
    "print(\"mean_accuracy:\",mean_accuracy)"
   ]
  },
  {
   "cell_type": "code",
   "execution_count": 94,
   "metadata": {
    "collapsed": false
   },
   "outputs": [
    {
     "data": {
      "image/png": "[encoded data removed]",
      "text/plain": [
       "<matplotlib.figure.Figure at 0x7f78810c6910>"
      ]
     },
     "metadata": {},
     "output_type": "display_data"
    }
   ],
   "source": [
    "classes28 = ['Grab 1','Grab 2','Tap 1','Tap 2','Expand 1','Expand 2','Pinch 1','Pinch 2','Rotation + 1','Rotation + 2','Rotation - 1','Rotation - 2',\n",
    "             'Swipe Right 1','Swipe Right 2','Swipe Left 1','Swipe Left 2','Swipe Up 1','Swipe Up 2','Swipe Down 1','Swipe Down 2','Swipe X 1','Swipe X 2','Swipe + 1','Swipe + 2','Swipe V 1','Swipe V 2','Shake 1','Shake 2']\n",
    "plt.figure(figsize = (5,4))\n",
    "plot_confusion_matrix(hist, classes=classes28, normalize=False,\n",
    "                      title='Confusion matrix',cmap=plt.cm.jet, notext=True)\n",
    "plt.xticks([])\n",
    "plt.yticks([])\n",
    "plt.show()"
   ]
  },
  {
   "cell_type": "markdown",
   "metadata": {},
   "source": [
    "## convert 28 to 14"
   ]
  },
  {
   "cell_type": "code",
   "execution_count": 10,
   "metadata": {
    "collapsed": false
   },
   "outputs": [],
   "source": [
    "cl28tocl14 = np.zeros(840,dtype=np.uint8)\n",
    "for idx,cl_28 in enumerate(results['label_found_28']):\n",
    "    cl_14 = int((float(cl_28-(cl_28%2)))/2)\n",
    "    #print(cl_28,'becomes',cl_14)\n",
    "    cl28tocl14[idx]=cl_14"
   ]
  },
  {
   "cell_type": "code",
   "execution_count": 95,
   "metadata": {
    "collapsed": false
   },
   "outputs": [
    {
     "name": "stdout",
     "output_type": "stream",
     "text": [
      "Accuracy: 0.828571428571\n",
      "pc_acc: [ 0.86  0.49  0.76  0.76  0.78  0.95  0.95  0.83  0.82  0.89  0.78  0.93\n",
      "  0.95  0.84]\n",
      "mean_accuracy: 0.82873968868\n"
     ]
    }
   ],
   "source": [
    "hist = fast_hist(np.asarray(results['label_gt']),cl28tocl14,14)\n",
    "acc = np.diag(hist).sum() / hist.sum()\n",
    "# per-class accuracy\n",
    "pc_acc = np.diag(hist) / hist.sum(1)\n",
    "mean_accuracy= np.nanmean(pc_acc)\n",
    "\n",
    "print(\"Accuracy:\",acc)\n",
    "print(\"pc_acc:\",pc_acc)\n",
    "print(\"mean_accuracy:\",mean_accuracy)"
   ]
  },
  {
   "cell_type": "code",
   "execution_count": 99,
   "metadata": {
    "collapsed": false
   },
   "outputs": [
    {
     "name": "stdout",
     "output_type": "stream",
     "text": [
      "Normalized confusion matrix\n"
     ]
    },
    {
     "data": {
      "image/png": "[encoded data removed]",
      "text/plain": [
       "<matplotlib.figure.Figure at 0x7f7880161a10>"
      ]
     },
     "metadata": {},
     "output_type": "display_data"
    }
   ],
   "source": [
    "classes14 = ['Grab','Tap','Expand','Pinch','Rotation +','Rotation -',\n",
    "             'Swipe Right','Swipe Left','Swipe Up','Swipe Down','Swipe X','Swipe +','Swipe V','Shake']\n",
    "plt.figure(figsize = (5,4))\n",
    "plot_confusion_matrix(hist, classes=classes14,cmap=plt.cm.jet, normalize=True,title='Confusion matrix (%)')\n",
    "plt.show()"
   ]
  },
  {
   "cell_type": "code",
   "execution_count": 12,
   "metadata": {
    "collapsed": false
   },
   "outputs": [
    {
     "name": "stdout",
     "output_type": "stream",
     "text": [
      "Mean time per sequence : 236 ms\n"
     ]
    }
   ],
   "source": [
    "print(\"Mean time per sequence :\",int(round(np.mean(results['time_millisecond']))),'ms')"
   ]
  },
  {
   "cell_type": "markdown",
   "metadata": {},
   "source": [
    "## Sauvegarde des fichiers resultats"
   ]
  },
  {
   "cell_type": "markdown",
   "metadata": {},
   "source": [
    "#### id_gesture     id_finger    id_subject    id_essai    label_found    time_millisecond"
   ]
  },
  {
   "cell_type": "code",
   "execution_count": 16,
   "metadata": {
    "collapsed": true
   },
   "outputs": [],
   "source": [
    "resultsfile14 = open('/home/jguerry/workspace/SHRECmodels/results14.txt','w+')\n",
    "resultsfile28 = open('/home/jguerry/workspace/SHRECmodels/results28.txt','w+')\n",
    "readmefiles = open('/home/jguerry/workspace/SHRECmodels/readme.txt','w+')"
   ]
  },
  {
   "cell_type": "code",
   "execution_count": 17,
   "metadata": {
    "collapsed": false
   },
   "outputs": [],
   "source": [
    "for idx in log_progress(range(net.layers[0].nb_images), title='iteration', end_msg='Finished !',removeAtTheEnd=True):\n",
    "    \n",
    "    id_gesture = results['id_gesture'][idx]\n",
    "    id_finger = results['id_finger'][idx]\n",
    "    id_subject = results['id_subject'][idx]\n",
    "    id_essai = results['id_essai'][idx]\n",
    "    label_found_28 = results['label_found_28'][idx]+1\n",
    "    label_found_14 = cl28tocl14[idx]+1\n",
    "    time_millisecond = results['time_millisecond'][idx]\n",
    "    \n",
    "    \n",
    "    print(id_gesture,id_finger,id_subject,id_essai,label_found_14,time_millisecond, file=resultsfile14)\n",
    "    print(id_gesture,id_finger,id_subject,id_essai,label_found_28,time_millisecond, file=resultsfile28)\n",
    "print(\"\\\n",
    "       +-----------------------------------------------------------------------------+\\n\\\n",
    "       |  GeForce GTX 1070   Driver Version: 375.26   8112MiB                        |\\n\\\n",
    "       +-----------------------------------------------------------------------------+\\n\\\n",
    "       |  Intel(R) Xeon(R) CPU E5-1620 v4 @ 3.50GHz                                  |\\n\\\n",
    "       |  32GB RAM                                                                   |\\n\\\n",
    "       +-----------------------------------------------------------------------------+\\n\\\n",
    "\", file=readmefiles)"
   ]
  },
  {
   "cell_type": "code",
   "execution_count": 18,
   "metadata": {
    "collapsed": true
   },
   "outputs": [],
   "source": [
    "resultsfile14.close()\n",
    "resultsfile28.close()\n",
    "readmefiles.close()"
   ]
  }
 ],
 "metadata": {
  "anaconda-cloud": {},
  "celltoolbar": "Raw Cell Format",
  "kernelspec": {
   "display_name": "Python [conda env:jg_pfr]",
   "language": "python",
   "name": "conda-env-jg_pfr-py"
  },
  "language_info": {
   "codemirror_mode": {
    "name": "ipython",
    "version": 2
   },
   "file_extension": ".py",
   "mimetype": "text/x-python",
   "name": "python",
   "nbconvert_exporter": "python",
   "pygments_lexer": "ipython2",
   "version": "2.7.12"
  }
 },
 "nbformat": 4,
 "nbformat_minor": 1
}
