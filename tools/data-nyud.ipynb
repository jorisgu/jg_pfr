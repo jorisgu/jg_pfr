{
 "cells": [
  {
   "cell_type": "code",
   "execution_count": 1,
   "metadata": {
    "collapsed": false
   },
   "outputs": [],
   "source": [
    "import _init_paths\n",
    "\n",
    "import os\n",
    "import random\n",
    "import cPickle as pickle\n",
    "\n",
    "import numpy as np\n",
    "import matplotlib\n",
    "import matplotlib.pyplot as plt\n",
    "%matplotlib inline\n",
    "import scipy.io\n",
    "import skimage.io\n",
    "\n",
    "#import caffe\n",
    "\n",
    "#from lib import run_net\n",
    "#from lib import score_util\n",
    "#from lib import plot_util\n",
    "\n",
    "from datasets.nyud_seg import nyud_seg\n",
    "\n",
    "plt.rcParams['image.cmap'] = 'gray'\n",
    "plt.rcParams['image.interpolation'] = 'nearest'\n",
    "plt.rcParams['figure.figsize'] = (12, 12)"
   ]
  },
  {
   "cell_type": "markdown",
   "metadata": {},
   "source": [
    "Configure Caffe"
   ]
  },
  {
   "cell_type": "code",
   "execution_count": null,
   "metadata": {
    "collapsed": true
   },
   "outputs": [],
   "source": [
    "#caffe.set_device(0)\n",
    "#caffe.set_mode_gpu()"
   ]
  },
  {
   "cell_type": "markdown",
   "metadata": {},
   "source": [
    "NYUDv2 segmentation set details"
   ]
  },
  {
   "cell_type": "code",
   "execution_count": 2,
   "metadata": {
    "collapsed": false
   },
   "outputs": [],
   "source": [
    "#NY = nyud('/x/nyud')\n",
    "NY = nyud_seg('/c16/THESE.JORIS/datasets/NYUD_V2/data/')"
   ]
  },
  {
   "cell_type": "code",
   "execution_count": 3,
   "metadata": {
    "collapsed": false
   },
   "outputs": [
    {
     "data": {
      "text/plain": [
       "<unbound method nyud_seg.get_datetime>"
      ]
     },
     "execution_count": 3,
     "metadata": {},
     "output_type": "execute_result"
    }
   ],
   "source": [
    "nyud_seg.get_datetime"
   ]
  },
  {
   "cell_type": "code",
   "execution_count": null,
   "metadata": {
    "collapsed": false,
    "scrolled": false
   },
   "outputs": [],
   "source": [
    "# NYUDv2 dir and splits\n",
    "splits_f = NY.dir + '/splits.pkl'\n",
    "if os.path.exists(splits_f):\n",
    "    image_sets = pickle.load(open(splits_f, 'r'))\n",
    "else:\n",
    "    splits = ['train', 'val', 'test']\n",
    "    image_sets = {}\n",
    "    for split in splits:\n",
    "        image_sets[split] = []\n",
    "        idxs = scipy.io.loadmat('{}/{}.mat'.format(NY.dir, split))['split_ids'][0]\n",
    "        for idx in idxs:\n",
    "            image_sets[split].append(re.findall('\\d+', idx[0])[0])\n",
    "        random.shuffle(image_sets[split])\n",
    "    pickle.dump(image_sets, open(splits_f, 'w'))\n",
    "\n",
    "# union trainval\n",
    "image_sets['trainval'] = image_sets['train'] + image_sets['val']\n",
    "\n",
    "# demo\n",
    "im_idx = image_sets['train'][0]\n",
    "demo_im = NY.load_seg_image(im_idx)\n",
    "demo_segm = NY.load_label(im_idx)\n",
    "\n",
    "plt.figure()\n",
    "plt.subplot(1,2,1)\n",
    "plt.imshow(demo_im)\n",
    "plt.axis('off')\n",
    "plt.subplot(1,2,2)\n",
    "plt.imshow(demo_segm, cmap=plot_util.segm_cmap, vmin=0, vmax=40)\n",
    "plt.axis('off')"
   ]
  },
  {
   "cell_type": "markdown",
   "metadata": {},
   "source": [
    "Load fcn8s and sanity check on an NYUDv2 image"
   ]
  },
  {
   "cell_type": "code",
   "execution_count": null,
   "metadata": {
    "collapsed": false
   },
   "outputs": [],
   "source": [
    "net = caffe.Net('../nets/nyud-fcn8s.prototxt', '../nets/fcn8s-nyud-rgb-heavy.caffemodel', caffe.TEST)"
   ]
  },
  {
   "cell_type": "markdown",
   "metadata": {},
   "source": [
    "Inspect output on 10 random test images."
   ]
  },
  {
   "cell_type": "code",
   "execution_count": null,
   "metadata": {
    "collapsed": false,
    "scrolled": false
   },
   "outputs": [],
   "source": [
    "for i in range(10):\n",
    "    idx = random.choice(image_sets['test'])\n",
    "    im, label = NY.load_seg_image(idx), NY.load_label(idx)\n",
    "    out = run_net.segrun(net, NY.preprocess(im))\n",
    "    plot_util.segshow(im, label, out, n_cl=40)"
   ]
  },
  {
   "cell_type": "markdown",
   "metadata": {},
   "source": [
    "Check mean IU over test set."
   ]
  },
  {
   "cell_type": "code",
   "execution_count": null,
   "metadata": {
    "collapsed": false
   },
   "outputs": [],
   "source": [
    "hist = np.zeros((40, 40))\n",
    "for i, idx in enumerate(image_sets['test']):\n",
    "    im, label = NY.load_seg_image(idx), NY.load_label(idx)\n",
    "    out = run_net.segrun(net, NY.preprocess(im))\n",
    "    hist += score_util.fast_hist(label.flatten(), out.flatten(), 40)\n",
    "\n",
    "accP, cl_accP, mean_iuP, fw_iuP = score_util.get_scores(hist)\n",
    "print 'Oracle: Per frame'\n",
    "print 'acc\\t\\t cl acc\\t\\t mIU\\t\\t fwIU'\n",
    "print '{:f}\\t {:f}\\t {:f}\\t {:f}\\t'.format(100*accP, 100*cl_accP, 100*mean_iuP, 100*fw_iuP)"
   ]
  }
 ],
 "metadata": {
  "kernelspec": {
   "display_name": "Python [Root]",
   "language": "python",
   "name": "Python [Root]"
  },
  "language_info": {
   "codemirror_mode": {
    "name": "ipython",
    "version": 2
   },
   "file_extension": ".py",
   "mimetype": "text/x-python",
   "name": "python",
   "nbconvert_exporter": "python",
   "pygments_lexer": "ipython2",
   "version": "2.7.12"
  }
 },
 "nbformat": 4,
 "nbformat_minor": 0
}
