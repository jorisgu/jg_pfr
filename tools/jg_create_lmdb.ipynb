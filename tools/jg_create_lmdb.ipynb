{
 "cells": [
  {
   "cell_type": "code",
   "execution_count": null,
   "metadata": {
    "collapsed": true
   },
   "outputs": [],
   "source": [
    "from __future__ import print_function\n",
    "import caffe\n",
    "import numpy as np\n",
    "import os\n",
    "import sys\n",
    "import lmdb\n",
    "from PIL import Image"
   ]
  },
  {
   "cell_type": "code",
   "execution_count": null,
   "metadata": {
    "collapsed": true
   },
   "outputs": [],
   "source": [
    "def log_progress(sequence, title='', every=1, size=None, end_msg='', removeAtTheEnd=False):\n",
    "    from ipywidgets import IntProgress, HTML, VBox\n",
    "    from IPython.display import display\n",
    "    import time\n",
    "    \n",
    "    init_time = time.time()\n",
    "\n",
    "    is_iterator = False\n",
    "    if size is None:\n",
    "        try:\n",
    "            size = len(sequence)\n",
    "        except TypeError:\n",
    "            is_iterator = True\n",
    "    if size is not None:\n",
    "        if every is None:\n",
    "            if size <= 200:\n",
    "                every = 1\n",
    "            else:\n",
    "                every = int(size / 200)     # every 0.5%\n",
    "    else:\n",
    "        assert every is not None, 'sequence is iterator, set every'\n",
    "\n",
    "    if is_iterator:\n",
    "        progress = IntProgress(min=0, max=1, value=1)\n",
    "        progress.bar_style = 'info'\n",
    "    else:\n",
    "        progress = IntProgress(min=0, max=size, value=0)\n",
    "    label = HTML()\n",
    "    box = VBox(children=[label, progress])\n",
    "    display(box)\n",
    "\n",
    "    index = 0\n",
    "    try:\n",
    "        for index, record in enumerate(sequence, 1):\n",
    "            elapsed = time.time() - init_time\n",
    "            if index == 1 or index % every == 0:\n",
    "                if is_iterator:\n",
    "                    label.value = '{index} / ?'.format(index=index)\n",
    "                else:\n",
    "                    progress.value = index\n",
    "                    if isinstance(sequence, dict):\n",
    "                        val = ''\n",
    "                    else:\n",
    "                        val=sequence[index-1]\n",
    "                            \n",
    "                    timeleft_second = (size-index+1)*float(elapsed)/index\n",
    "                    hr_left = int(timeleft_second/3600)\n",
    "                    min_left = int((timeleft_second-3600*hr_left)/60)\n",
    "                    sec_left = int(timeleft_second-3600*hr_left-60*min_left)\n",
    "                    label.value = u'{title} : {value} ({index} / {size}) [eta = {hh}h{mm}mn{ss}s]'.format(\n",
    "                        title=title,\n",
    "                        value=val,\n",
    "                        index=index,\n",
    "                        size=size,\n",
    "                        hh=hr_left,\n",
    "                        mm=min_left,\n",
    "                        ss=sec_left\n",
    "                    )\n",
    "            yield record\n",
    "    except:\n",
    "        progress.bar_style = 'danger'\n",
    "        raise\n",
    "    else:\n",
    "        progress.bar_style = 'success'\n",
    "        progress.value = index\n",
    "        label.value = end_msg\n",
    "        if removeAtTheEnd:\n",
    "            box.close()\n",
    "    "
   ]
  },
  {
   "cell_type": "code",
   "execution_count": null,
   "metadata": {
    "collapsed": true
   },
   "outputs": [],
   "source": [
    "import errno    \n",
    "import os\n",
    "\n",
    "def mkdir_p(path):\n",
    "    try:\n",
    "        os.makedirs(path)\n",
    "    except OSError as exc:  # Python >2.5\n",
    "        if exc.errno == errno.EEXIST and os.path.isdir(path):\n",
    "            pass\n",
    "        else:\n",
    "            raise"
   ]
  },
  {
   "cell_type": "code",
   "execution_count": null,
   "metadata": {
    "collapsed": false
   },
   "outputs": [],
   "source": [
    "encodings = ['data/labels_segmentation_37d','data/rgb_i_100_8bits','data_spreadout/d_raw_cubehelix_8bits','data_spreadout/d_raw_jet_8bits','data/d_raw_HHA_8bits']\n",
    "\n",
    "splits=['test','train']"
   ]
  },
  {
   "cell_type": "code",
   "execution_count": null,
   "metadata": {
    "collapsed": false
   },
   "outputs": [],
   "source": []
  },
  {
   "cell_type": "code",
   "execution_count": null,
   "metadata": {
    "collapsed": false
   },
   "outputs": [],
   "source": [
    "map_size = 1e12\n",
    "for encoding in log_progress(encodings, title='Encoding',end_msg='Finished !', removeAtTheEnd=False):\n",
    "    for split in log_progress(splits, title='Split', removeAtTheEnd=True):\n",
    "        set_file_path = '/home/jguerry/workspace/datasets/SUNRGBD_pv/data/sets/sunrgbd/'+split+'.txt'\n",
    "        list_images = open(set_file_path, 'r').read().splitlines()\n",
    "        pathToLMDB = '/home/jguerry/workspace/dl_data_sunrgbd/LMDB/manual_8bits/'+encoding+'/'+split\n",
    "        mkdir_p(pathToLMDB)\n",
    "        db = lmdb.open(pathToLMDB, map_size=map_size)\n",
    "        with db.begin(write=True) as txn:\n",
    "            for img_idx in log_progress(list_images, title='Image', removeAtTheEnd=True):\n",
    "                \n",
    "                ## DATA LOADING\n",
    "                img = Image.open('/home/jguerry/workspace/datasets/SUNRGBD_pv/{}/{}.png'.format(encoding,img_idx))\n",
    "                img = np.array(img, dtype=np.uint8)\n",
    "                if len(img.shape)==3:\n",
    "                    img = img[:,:,::-1]\n",
    "                    #img -= mean_bgr\n",
    "                    img = img.transpose((2,0,1))\n",
    "                elif len(img.shape)==2:\n",
    "                    img = img[np.newaxis, ...]\n",
    "                else:\n",
    "                    print(\"Error : shape not accepted for img.\")\n",
    "            \n",
    "                datum = caffe.io.array_to_datum(img)\n",
    "                # On insère le datum et sa clé (idx) dans la LMDB\n",
    "                #txn.put('{:0>10d}'.format(idx), datum.SerializeToString())\n",
    "                txn.put(img_idx, datum.SerializeToString())\n",
    "                \n",
    "        db.close()\n",
    "        "
   ]
  },
  {
   "cell_type": "code",
   "execution_count": null,
   "metadata": {
    "collapsed": true
   },
   "outputs": [],
   "source": []
  },
  {
   "cell_type": "raw",
   "metadata": {},
   "source": [
    "import lmdb\n",
    "import numpy as np\n",
    "import caffe\n",
    "# \"dummy data\", imaginons qu'il s'agit de 10 images 32x32 en RGB\n",
    "\n",
    "map_size = samples.nbytes * 10\n",
    "# Création de la LMDB\n",
    "# map_size doit être fixé plus grand que le nombre d'objets à insérer\n",
    "db = lmdb.open(pathToLMDB, map_size=map_size)\n",
    "# On ouvre une transaction en écriture\n",
    "with db.begin(write=True) as txn:\n",
    "    for idx in log_progress(range(len(samples)), title='iteration', removeAtTheEnd=True):\n",
    "        sample = samples[idx,...]\n",
    "        # On peut transformer l'image en BGR pour coller avec de nombreux modèles :\n",
    "        # (à décommenter si besoin)\n",
    "        # sample = sample[:,:,::-1]\n",
    "        # Il peut être nécessaire d'ajouter des dimensions pour arriver au format HxWxC (avec W et/ou C = 1)\n",
    "        # C'est particulièrement vrai quand on génère une LMDB de labels scalaires\n",
    "        # sample = sample.reshape(sample.shape + (1,))\n",
    "        # Caffe s'attend à un format CxHxW\n",
    "        sample = sample.transpose((2,0,1))\n",
    "        # Pour l'ensemble du pre-processing, on peut préférer la définition d'un Transformer (caffe.Transformer)\n",
    "        # qui pourra effectuer la normalisation, passage en BGR et au format CxHxW, etc.\n",
    "        # On créé un datum au format attendu par Caffe\n",
    "        datum = caffe.io.array_to_datum(sample)\n",
    "        # On insère le datum et sa clé (idx) dans la LMDB\n",
    "        txn.put('{:0>10d}'.format(idx), datum.SerializeToString())\n",
    "db.close()"
   ]
  }
 ],
 "metadata": {
  "anaconda-cloud": {},
  "kernelspec": {
   "display_name": "Python [conda env:jg_pfr]",
   "language": "python",
   "name": "conda-env-jg_pfr-py"
  },
  "language_info": {
   "codemirror_mode": {
    "name": "ipython",
    "version": 2
   },
   "file_extension": ".py",
   "mimetype": "text/x-python",
   "name": "python",
   "nbconvert_exporter": "python",
   "pygments_lexer": "ipython2",
   "version": "2.7.12"
  },
  "widgets": {
   "state": {
    "222c8abeacd64d89b6c79525cb6fd09a": {
     "views": [
      {
       "cell_index": 5
      }
     ]
    }
   },
   "version": "1.2.0"
  }
 },
 "nbformat": 4,
 "nbformat_minor": 1
}
