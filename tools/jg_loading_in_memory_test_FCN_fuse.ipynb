{
 "cells": [
  {
   "cell_type": "code",
   "execution_count": 1,
   "metadata": {
    "collapsed": false
   },
   "outputs": [],
   "source": [
    "import caffe\n",
    "import numpy as np\n",
    "from __future__ import print_function"
   ]
  },
  {
   "cell_type": "code",
   "execution_count": 2,
   "metadata": {
    "collapsed": true
   },
   "outputs": [],
   "source": [
    "def log_progress(sequence, title='', every=1, size=None, end_msg='', removeAtTheEnd=False):\n",
    "    from ipywidgets import IntProgress, HTML, VBox\n",
    "    from IPython.display import display\n",
    "\n",
    "    is_iterator = False\n",
    "    if size is None:\n",
    "        try:\n",
    "            size = len(sequence)\n",
    "        except TypeError:\n",
    "            is_iterator = True\n",
    "    if size is not None:\n",
    "        if every is None:\n",
    "            if size <= 200:\n",
    "                every = 1\n",
    "            else:\n",
    "                every = int(size / 200)     # every 0.5%\n",
    "    else:\n",
    "        assert every is not None, 'sequence is iterator, set every'\n",
    "\n",
    "    if is_iterator:\n",
    "        progress = IntProgress(min=0, max=1, value=1)\n",
    "        progress.bar_style = 'info'\n",
    "    else:\n",
    "        progress = IntProgress(min=0, max=size, value=0)\n",
    "    label = HTML()\n",
    "    box = VBox(children=[label, progress])\n",
    "    display(box)\n",
    "\n",
    "    index = 0\n",
    "    try:\n",
    "        for index, record in enumerate(sequence, 1):\n",
    "            if index == 1 or index % every == 0:\n",
    "                if is_iterator:\n",
    "                    label.value = '{index} / ?'.format(index=index)\n",
    "                else:\n",
    "                    progress.value = index\n",
    "                    label.value = u'{title} : {value} ({index} / {size})'.format(\n",
    "                        title=title,\n",
    "                        value=sequence[index-1],\n",
    "                        index=index,\n",
    "                        size=size\n",
    "                    )\n",
    "            yield record\n",
    "    except:\n",
    "        progress.bar_style = 'danger'\n",
    "        raise\n",
    "    else:\n",
    "        progress.bar_style = 'success'\n",
    "        progress.value = index\n",
    "        label.value = end_msg\n",
    "        if removeAtTheEnd:\n",
    "            box.close()\n",
    "    "
   ]
  },
  {
   "cell_type": "code",
   "execution_count": 3,
   "metadata": {
    "collapsed": true
   },
   "outputs": [],
   "source": [
    "ICIPpath = '/home/jogue/workspace/ICIPmodels/'\n",
    "weights_path_fuse='/home/jogue/workspace/ICIPmodels/fuse_weights.caffemodel'\n",
    "weights_path_fuse_record='/home/jogue/workspace/ICIPmodels/fuse_weights_pseudoTraining.caffemodel'\n",
    "fuse_deploy = ICIPpath + 'fuse_train_val.prototxt'"
   ]
  },
  {
   "cell_type": "code",
   "execution_count": 4,
   "metadata": {
    "collapsed": true
   },
   "outputs": [],
   "source": [
    "caffe_gpu = True\n",
    "if not caffe_gpu:\n",
    "    caffe.set_mode_cpu()\n",
    "else:\n",
    "    caffe.set_mode_gpu()\n",
    "    caffe.set_device(0);"
   ]
  },
  {
   "cell_type": "code",
   "execution_count": 5,
   "metadata": {
    "collapsed": true
   },
   "outputs": [],
   "source": [
    "fuseNet = caffe.Net(fuse_deploy,weights_path_fuse, caffe.TRAIN)"
   ]
  },
  {
   "cell_type": "code",
   "execution_count": 6,
   "metadata": {
    "collapsed": false,
    "scrolled": true
   },
   "outputs": [],
   "source": [
    "fuseBlobs = [(k, v.data.shape) for k, v in fuseNet.blobs.items()]\n",
    "fuseLayers = [(k, v[0].data.shape, v[1].data.shape) for k, v in fuseNet.params.items() if k not in ['upscore37_data0','upscore37_data1','upscore_sum', 'upscore_concat','upscore_rc_corrected']]"
   ]
  },
  {
   "cell_type": "code",
   "execution_count": 7,
   "metadata": {
    "collapsed": false
   },
   "outputs": [
    {
     "name": "stdout",
     "output_type": "stream",
     "text": [
      "~~~~~~~~~~~~~~~~~~~~~~~~~~~~~~~~~~~~~~~~~~~~~~~~~~~~~~~~~~~~~~~~~~~\n",
      "fuseBlobs\n",
      "('data0', (1, 3, 427, 561))\n",
      "('label', (1, 1, 427, 561))\n",
      "('label_label_0_split_0', (1, 1, 427, 561))\n",
      "('label_label_0_split_1', (1, 1, 427, 561))\n",
      "('label_label_0_split_2', (1, 1, 427, 561))\n",
      "('label_label_0_split_3', (1, 1, 427, 561))\n",
      "('label_label_0_split_4', (1, 1, 427, 561))\n",
      "('label_label_0_split_5', (1, 1, 427, 561))\n",
      "('label_label_0_split_6', (1, 1, 427, 561))\n",
      "('label_label_0_split_7', (1, 1, 427, 561))\n",
      "('label_label_0_split_8', (1, 1, 427, 561))\n",
      "('label_label_0_split_9', (1, 1, 427, 561))\n",
      "('label_label_0_split_10', (1, 1, 427, 561))\n",
      "('label_label_0_split_11', (1, 1, 427, 561))\n",
      "('label_label_0_split_12', (1, 1, 427, 561))\n",
      "('label_label_0_split_13', (1, 1, 427, 561))\n",
      "('label_label_0_split_14', (1, 1, 427, 561))\n",
      "('data1', (1, 3, 427, 561))\n",
      "('conv1_1_data0', (1, 64, 625, 759))\n",
      "('conv1_2_data0', (1, 64, 625, 759))\n",
      "('pool1_data0', (1, 64, 313, 380))\n",
      "('conv2_1_data0', (1, 128, 313, 380))\n",
      "('conv2_2_data0', (1, 128, 313, 380))\n",
      "('pool2_data0', (1, 128, 157, 190))\n",
      "('conv3_1_data0', (1, 256, 157, 190))\n",
      "('conv3_2_data0', (1, 256, 157, 190))\n",
      "('conv3_3_data0', (1, 256, 157, 190))\n",
      "('pool3_data0', (1, 256, 79, 95))\n",
      "('conv4_1_data0', (1, 512, 79, 95))\n",
      "('conv4_2_data0', (1, 512, 79, 95))\n",
      "('conv4_3_data0', (1, 512, 79, 95))\n",
      "('pool4_data0', (1, 512, 40, 48))\n",
      "('conv5_1_data0', (1, 512, 40, 48))\n",
      "('conv5_2_data0', (1, 512, 40, 48))\n",
      "('conv5_3_data0', (1, 512, 40, 48))\n",
      "('pool5_data0', (1, 512, 20, 24))\n",
      "('fc6_data0', (1, 4096, 14, 18))\n",
      "('fc7_data0', (1, 4096, 14, 18))\n",
      "('score_fr37_data0', (1, 37, 14, 18))\n",
      "('score_fr37_data0_score_fr37_data0_0_split_0', (1, 37, 14, 18))\n",
      "('score_fr37_data0_score_fr37_data0_0_split_1', (1, 37, 14, 18))\n",
      "('score_fr37_data0_score_fr37_data0_0_split_2', (1, 37, 14, 18))\n",
      "('score_fr37_data0_score_fr37_data0_0_split_3', (1, 37, 14, 18))\n",
      "('score_fr37_data0_score_fr37_data0_0_split_4', (1, 37, 14, 18))\n",
      "('upscore37_data0', (1, 37, 480, 608))\n",
      "('score_data0', (1, 37, 427, 561))\n",
      "('score_data0_score_data0_0_split_0', (1, 37, 427, 561))\n",
      "('score_data0_score_data0_0_split_1', (1, 37, 427, 561))\n",
      "('conv1_1_data1', (1, 64, 625, 759))\n",
      "('conv1_2_data1', (1, 64, 625, 759))\n",
      "('pool1_data1', (1, 64, 313, 380))\n",
      "('conv2_1_data1', (1, 128, 313, 380))\n",
      "('conv2_2_data1', (1, 128, 313, 380))\n",
      "('pool2_data1', (1, 128, 157, 190))\n",
      "('conv3_1_data1', (1, 256, 157, 190))\n",
      "('conv3_2_data1', (1, 256, 157, 190))\n",
      "('conv3_3_data1', (1, 256, 157, 190))\n",
      "('pool3_data1', (1, 256, 79, 95))\n",
      "('conv4_1_data1', (1, 512, 79, 95))\n",
      "('conv4_2_data1', (1, 512, 79, 95))\n",
      "('conv4_3_data1', (1, 512, 79, 95))\n",
      "('pool4_data1', (1, 512, 40, 48))\n",
      "('conv5_1_data1', (1, 512, 40, 48))\n",
      "('conv5_2_data1', (1, 512, 40, 48))\n",
      "('conv5_3_data1', (1, 512, 40, 48))\n",
      "('pool5_data1', (1, 512, 20, 24))\n",
      "('fc6_data1', (1, 4096, 14, 18))\n",
      "('fc7_data1', (1, 4096, 14, 18))\n",
      "('score_fr37_data1', (1, 37, 14, 18))\n",
      "('score_fr37_data1_score_fr37_data1_0_split_0', (1, 37, 14, 18))\n",
      "('score_fr37_data1_score_fr37_data1_0_split_1', (1, 37, 14, 18))\n",
      "('score_fr37_data1_score_fr37_data1_0_split_2', (1, 37, 14, 18))\n",
      "('score_fr37_data1_score_fr37_data1_0_split_3', (1, 37, 14, 18))\n",
      "('score_fr37_data1_score_fr37_data1_0_split_4', (1, 37, 14, 18))\n",
      "('upscore37_data1', (1, 37, 480, 608))\n",
      "('score_data1', (1, 37, 427, 561))\n",
      "('score_data1_score_data1_0_split_0', (1, 37, 427, 561))\n",
      "('score_data1_score_data1_0_split_1', (1, 37, 427, 561))\n",
      "('score_sum', (1, 37, 14, 18))\n",
      "('upscore_sum', (1, 37, 480, 608))\n",
      "('final_score_sum', (1, 37, 427, 561))\n",
      "('final_score_sum_final_score_sum_0_split_0', (1, 37, 427, 561))\n",
      "('final_score_sum_final_score_sum_0_split_1', (1, 37, 427, 561))\n",
      "('score_concat', (1, 74, 14, 18))\n",
      "('score_fused_concat', (1, 37, 14, 18))\n",
      "('upscore_concat', (1, 37, 480, 608))\n",
      "('final_score_concat', (1, 37, 427, 561))\n",
      "('final_score_concat_final_score_concat_0_split_0', (1, 37, 427, 561))\n",
      "('final_score_concat_final_score_concat_0_split_1', (1, 37, 427, 561))\n",
      "('rc_score_concat', (1, 74, 14, 18))\n",
      "('rc_score_concat_rc_score_concat_0_split_0', (1, 74, 14, 18))\n",
      "('rc_score_concat_rc_score_concat_0_split_1', (1, 74, 14, 18))\n",
      "('rc_score_concat_rc_score_concat_0_split_2', (1, 74, 14, 18))\n",
      "('score_concat_rc_conv1', (1, 37, 14, 18))\n",
      "('score_concat_rc_conv3', (1, 37, 14, 18))\n",
      "('score_concat_rc_conv5', (1, 37, 14, 18))\n",
      "('rc_score_correction', (1, 37, 14, 18))\n",
      "('rc_score_average', (1, 37, 14, 18))\n",
      "('rc_score_corrected', (1, 37, 14, 18))\n",
      "('upscore_rc_corrected', (1, 37, 480, 608))\n",
      "('final_score_rc', (1, 37, 427, 561))\n",
      "('final_score_rc_final_score_rc_0_split_0', (1, 37, 427, 561))\n",
      "('final_score_rc_final_score_rc_0_split_1', (1, 37, 427, 561))\n",
      "('loss_data0', ())\n",
      "('loss_data1', ())\n",
      "('loss_sum', ())\n",
      "('loss_concat', ())\n",
      "('loss_rc', ())\n",
      "('accuracy_data0', ())\n",
      "('accuracy_data1', ())\n",
      "('accuracy_sum', ())\n",
      "('accuracy_concat', ())\n",
      "('accuracy_rc', ())\n",
      "~~~~~~~~~~~~~~~~~~~~~~~~~~~~~~~~~~~~~~~~~~~~~~~~~~~~~~~~~~~~~~~~~~~\n",
      "~~~~~~~~~~~~~~~~~~~~~~~~~~~~~~~~~~~~~~~~~~~~~~~~~~~~~~~~~~~~~~~~~~~\n",
      "~~~~~~~~~~~~~~~~~~~~~~~~~~~~~~~~~~~~~~~~~~~~~~~~~~~~~~~~~~~~~~~~~~~\n",
      "fuseLayers\n",
      "('conv1_1_data0', (64, 3, 3, 3), (64,))\n",
      "('conv1_2_data0', (64, 64, 3, 3), (64,))\n",
      "('conv2_1_data0', (128, 64, 3, 3), (128,))\n",
      "('conv2_2_data0', (128, 128, 3, 3), (128,))\n",
      "('conv3_1_data0', (256, 128, 3, 3), (256,))\n",
      "('conv3_2_data0', (256, 256, 3, 3), (256,))\n",
      "('conv3_3_data0', (256, 256, 3, 3), (256,))\n",
      "('conv4_1_data0', (512, 256, 3, 3), (512,))\n",
      "('conv4_2_data0', (512, 512, 3, 3), (512,))\n",
      "('conv4_3_data0', (512, 512, 3, 3), (512,))\n",
      "('conv5_1_data0', (512, 512, 3, 3), (512,))\n",
      "('conv5_2_data0', (512, 512, 3, 3), (512,))\n",
      "('conv5_3_data0', (512, 512, 3, 3), (512,))\n",
      "('fc6_data0', (4096, 512, 7, 7), (4096,))\n",
      "('fc7_data0', (4096, 4096, 1, 1), (4096,))\n",
      "('score_fr37_data0', (37, 4096, 1, 1), (37,))\n",
      "('conv1_1_data1', (64, 3, 3, 3), (64,))\n",
      "('conv1_2_data1', (64, 64, 3, 3), (64,))\n",
      "('conv2_1_data1', (128, 64, 3, 3), (128,))\n",
      "('conv2_2_data1', (128, 128, 3, 3), (128,))\n",
      "('conv3_1_data1', (256, 128, 3, 3), (256,))\n",
      "('conv3_2_data1', (256, 256, 3, 3), (256,))\n",
      "('conv3_3_data1', (256, 256, 3, 3), (256,))\n",
      "('conv4_1_data1', (512, 256, 3, 3), (512,))\n",
      "('conv4_2_data1', (512, 512, 3, 3), (512,))\n",
      "('conv4_3_data1', (512, 512, 3, 3), (512,))\n",
      "('conv5_1_data1', (512, 512, 3, 3), (512,))\n",
      "('conv5_2_data1', (512, 512, 3, 3), (512,))\n",
      "('conv5_3_data1', (512, 512, 3, 3), (512,))\n",
      "('fc6_data1', (4096, 512, 7, 7), (4096,))\n",
      "('fc7_data1', (4096, 4096, 1, 1), (4096,))\n",
      "('score_fr37_data1', (37, 4096, 1, 1), (37,))\n",
      "('score_fused_concat', (37, 74, 1, 1), (37,))\n",
      "('score_concat_rc_conv1', (37, 74, 1, 1), (37,))\n",
      "('score_concat_rc_conv3', (37, 74, 3, 3), (37,))\n",
      "('score_concat_rc_conv5', (37, 74, 5, 5), (37,))\n"
     ]
    }
   ],
   "source": [
    "print(\"~~~~~~~~~~~~~~~~~~~~~~~~~~~~~~~~~~~~~~~~~~~~~~~~~~~~~~~~~~~~~~~~~~~\")\n",
    "print(\"fuseBlobs\")\n",
    "for a in fuseBlobs:\n",
    "    print(a)\n",
    "print(\"~~~~~~~~~~~~~~~~~~~~~~~~~~~~~~~~~~~~~~~~~~~~~~~~~~~~~~~~~~~~~~~~~~~\")\n",
    "print(\"~~~~~~~~~~~~~~~~~~~~~~~~~~~~~~~~~~~~~~~~~~~~~~~~~~~~~~~~~~~~~~~~~~~\")\n",
    "print(\"~~~~~~~~~~~~~~~~~~~~~~~~~~~~~~~~~~~~~~~~~~~~~~~~~~~~~~~~~~~~~~~~~~~\")\n",
    "print(\"fuseLayers\")\n",
    "for a in fuseLayers:\n",
    "    print(a)"
   ]
  },
  {
   "cell_type": "code",
   "execution_count": 8,
   "metadata": {
    "collapsed": false
   },
   "outputs": [],
   "source": [
    "fuseLayers = ['score_fused_concat','score_concat_rc_conv1','score_concat_rc_conv3','score_concat_rc_conv5']"
   ]
  },
  {
   "cell_type": "code",
   "execution_count": 9,
   "metadata": {
    "collapsed": true
   },
   "outputs": [],
   "source": [
    "results = {}\n",
    "results['accuracy_concat'] = []\n",
    "results['accuracy_data0'] = []\n",
    "results['accuracy_data1'] = []\n",
    "results['accuracy_rc'] = []\n",
    "results['accuracy_sum'] = []\n",
    "results['loss_concat'] = []\n",
    "results['loss_data0'] = []\n",
    "results['loss_data1'] = []\n",
    "results['loss_rc'] = []\n",
    "results['loss_sum'] = []"
   ]
  },
  {
   "cell_type": "code",
   "execution_count": 31,
   "metadata": {
    "collapsed": false,
    "scrolled": true
   },
   "outputs": [
    {
     "ename": "KeyboardInterrupt",
     "evalue": "",
     "output_type": "error",
     "traceback": [
      "\u001b[0;31m---------------------------------------------------------------------------\u001b[0m",
      "\u001b[0;31mKeyboardInterrupt\u001b[0m                         Traceback (most recent call last)",
      "\u001b[0;32m<ipython-input-31-09c9d71b0787>\u001b[0m in \u001b[0;36m<module>\u001b[0;34m()\u001b[0m\n\u001b[1;32m      4\u001b[0m     \u001b[0mfuseNet\u001b[0m\u001b[0;34m.\u001b[0m\u001b[0mbackward\u001b[0m\u001b[0;34m(\u001b[0m\u001b[0;34m)\u001b[0m\u001b[0;34m\u001b[0m\u001b[0m\n\u001b[1;32m      5\u001b[0m     \u001b[0;32mfor\u001b[0m \u001b[0mkey\u001b[0m \u001b[0;32min\u001b[0m \u001b[0mfuseLayers\u001b[0m\u001b[0;34m:\u001b[0m\u001b[0;34m\u001b[0m\u001b[0m\n\u001b[0;32m----> 6\u001b[0;31m         \u001b[0mfuseNet\u001b[0m\u001b[0;34m.\u001b[0m\u001b[0mparams\u001b[0m\u001b[0;34m[\u001b[0m\u001b[0mkey\u001b[0m\u001b[0;34m]\u001b[0m\u001b[0;34m[\u001b[0m\u001b[0;36m0\u001b[0m\u001b[0;34m]\u001b[0m\u001b[0;34m.\u001b[0m\u001b[0mdata\u001b[0m\u001b[0;34m[\u001b[0m\u001b[0;34m:\u001b[0m\u001b[0;34m]\u001b[0m \u001b[0;34m-=\u001b[0m \u001b[0mlr\u001b[0m \u001b[0;34m*\u001b[0m \u001b[0mfuseNet\u001b[0m\u001b[0;34m.\u001b[0m\u001b[0mparams\u001b[0m\u001b[0;34m[\u001b[0m\u001b[0mkey\u001b[0m\u001b[0;34m]\u001b[0m\u001b[0;34m[\u001b[0m\u001b[0;36m0\u001b[0m\u001b[0;34m]\u001b[0m\u001b[0;34m.\u001b[0m\u001b[0mdiff\u001b[0m\u001b[0;34m[\u001b[0m\u001b[0;34m:\u001b[0m\u001b[0;34m]\u001b[0m\u001b[0;34m\u001b[0m\u001b[0m\n\u001b[0m\u001b[1;32m      7\u001b[0m         \u001b[0mfuseNet\u001b[0m\u001b[0;34m.\u001b[0m\u001b[0mparams\u001b[0m\u001b[0;34m[\u001b[0m\u001b[0mkey\u001b[0m\u001b[0;34m]\u001b[0m\u001b[0;34m[\u001b[0m\u001b[0;36m1\u001b[0m\u001b[0;34m]\u001b[0m\u001b[0;34m.\u001b[0m\u001b[0mdata\u001b[0m\u001b[0;34m[\u001b[0m\u001b[0;34m:\u001b[0m\u001b[0;34m]\u001b[0m \u001b[0;34m-=\u001b[0m \u001b[0mlr\u001b[0m \u001b[0;34m*\u001b[0m \u001b[0mfuseNet\u001b[0m\u001b[0;34m.\u001b[0m\u001b[0mparams\u001b[0m\u001b[0;34m[\u001b[0m\u001b[0mkey\u001b[0m\u001b[0;34m]\u001b[0m\u001b[0;34m[\u001b[0m\u001b[0;36m1\u001b[0m\u001b[0;34m]\u001b[0m\u001b[0;34m.\u001b[0m\u001b[0mdiff\u001b[0m\u001b[0;34m[\u001b[0m\u001b[0;34m:\u001b[0m\u001b[0;34m]\u001b[0m\u001b[0;34m\u001b[0m\u001b[0m\n\u001b[1;32m      8\u001b[0m     \u001b[0;32mfor\u001b[0m \u001b[0moutput\u001b[0m \u001b[0;32min\u001b[0m \u001b[0mfuseNet\u001b[0m\u001b[0;34m.\u001b[0m\u001b[0moutputs\u001b[0m\u001b[0;34m:\u001b[0m\u001b[0;34m\u001b[0m\u001b[0m\n",
      "\u001b[0;31mKeyboardInterrupt\u001b[0m: "
     ]
    }
   ],
   "source": [
    "lr = 0.00001\n",
    "for iii in log_progress(range(795),title='Iteration', end_msg='Finished !'): \n",
    "    fuseNet.forward()       \n",
    "    fuseNet.backward()\n",
    "    for key in fuseLayers:\n",
    "        fuseNet.params[key][0].data[:] -= lr * fuseNet.params[key][0].diff[:]\n",
    "        fuseNet.params[key][1].data[:] -= lr * fuseNet.params[key][1].diff[:]\n",
    "    for output in fuseNet.outputs:\n",
    "        results[output].append(float(fuseNet.blobs[output].data[...]))\n",
    "    if iii%795==0:\n",
    "        lr=0.1*lr\n",
    "    "
   ]
  },
  {
   "cell_type": "code",
   "execution_count": 11,
   "metadata": {
    "collapsed": true
   },
   "outputs": [],
   "source": [
    "#np.savez('/home/jogue/workspace/ICIPmodels/results.npz',results)"
   ]
  },
  {
   "cell_type": "code",
   "execution_count": 12,
   "metadata": {
    "collapsed": false
   },
   "outputs": [],
   "source": [
    "fuseNet.save(weights_path_fuse_record)"
   ]
  },
  {
   "cell_type": "code",
   "execution_count": 16,
   "metadata": {
    "collapsed": false
   },
   "outputs": [
    {
     "data": {
      "text/plain": [
       "['loss_data0',\n",
       " 'loss_concat',\n",
       " 'loss_sum',\n",
       " 'accuracy_sum',\n",
       " 'loss_rc',\n",
       " 'accuracy_data0',\n",
       " 'accuracy_data1',\n",
       " 'loss_data1',\n",
       " 'accuracy_rc',\n",
       " 'accuracy_concat']"
      ]
     },
     "execution_count": 16,
     "metadata": {},
     "output_type": "execute_result"
    }
   ],
   "source": [
    "results.keys()"
   ]
  },
  {
   "cell_type": "code",
   "execution_count": 35,
   "metadata": {
    "collapsed": false
   },
   "outputs": [
    {
     "data": {
      "text/plain": [
       "795"
      ]
     },
     "execution_count": 35,
     "metadata": {},
     "output_type": "execute_result"
    }
   ],
   "source": [
    "len(results['accuracy_data1'][-796-57:-1-57])"
   ]
  },
  {
   "cell_type": "code",
   "execution_count": 37,
   "metadata": {
    "collapsed": false
   },
   "outputs": [
    {
     "name": "stdout",
     "output_type": "stream",
     "text": [
      "accuracy_data0 0.661308959876\n",
      "accuracy_data1 0.683726655631\n",
      "accuracy_sum 0.701114028767\n",
      "accuracy_concat 0.666797254239\n",
      "accuracy_rc 0.628986761705\n"
     ]
    }
   ],
   "source": [
    "print('accuracy_data0',sum(results['accuracy_data0'][-796-57:-1-57])/795)\n",
    "print('accuracy_data1',sum(results['accuracy_data1'][-796-57:-1-57])/795)\n",
    "print('accuracy_sum',sum(results['accuracy_sum'][-796-57:-1-57])/795)\n",
    "print('accuracy_concat',sum(results['accuracy_concat'][-796-57:-1-57])/795)\n",
    "print('accuracy_rc',sum(results['accuracy_rc'][-796-57:-1-57])/795)"
   ]
  },
  {
   "cell_type": "code",
   "execution_count": null,
   "metadata": {
    "collapsed": true
   },
   "outputs": [],
   "source": []
  },
  {
   "cell_type": "code",
   "execution_count": 26,
   "metadata": {
    "collapsed": false,
    "scrolled": true
   },
   "outputs": [
    {
     "data": {
      "image/png": "[encoded data removed]",
      "text/plain": [
       "<matplotlib.figure.Figure at 0x7fc0e61f8f10>"
      ]
     },
     "metadata": {},
     "output_type": "display_data"
    }
   ],
   "source": [
    "import matplotlib.pyplot as plt\n",
    "D = results['accuracy_sum']\n",
    "plt.bar(range(len(D)), D, align='center')\n",
    "D = results['accuracy_data0']\n",
    "plt.bar(range(len(D)), D, align='center')\n",
    "D = results['accuracy_data1']\n",
    "plt.bar(range(len(D)), D, align='center')\n",
    "\n",
    "plt.show()"
   ]
  },
  {
   "cell_type": "code",
   "execution_count": 38,
   "metadata": {
    "collapsed": false
   },
   "outputs": [
    {
     "ename": "SyntaxError",
     "evalue": "invalid syntax (<ipython-input-38-7a49b08bb6d9>, line 1)",
     "output_type": "error",
     "traceback": [
      "\u001b[0;36m  File \u001b[0;32m\"<ipython-input-38-7a49b08bb6d9>\"\u001b[0;36m, line \u001b[0;32m1\u001b[0m\n\u001b[0;31m    JORIS : faire un test net GPU des deux pipelines sans  fusion et un TRAIN net GPU de la fusion only ça se trouve ça passe !!!\u001b[0m\n\u001b[0m          ^\u001b[0m\n\u001b[0;31mSyntaxError\u001b[0m\u001b[0;31m:\u001b[0m invalid syntax\n"
     ]
    }
   ],
   "source": [
    "JORIS : faire un test net GPU des deux pipelines sans  fusion et un TRAIN net GPU de la fusion only ça se trouve ça passe !!!"
   ]
  }
 ],
 "metadata": {
  "anaconda-cloud": {},
  "kernelspec": {
   "display_name": "Python [conda env:jg_pfr]",
   "language": "python",
   "name": "conda-env-jg_pfr-py"
  },
  "language_info": {
   "codemirror_mode": {
    "name": "ipython",
    "version": 2
   },
   "file_extension": ".py",
   "mimetype": "text/x-python",
   "name": "python",
   "nbconvert_exporter": "python",
   "pygments_lexer": "ipython2",
   "version": "2.7.13"
  },
  "widgets": {
   "state": {
    "b78076ed08aa434c8e66ad53ce647a74": {
     "views": [
      {
       "cell_index": 9
      }
     ]
    }
   },
   "version": "1.2.0"
  }
 },
 "nbformat": 4,
 "nbformat_minor": 1
}
