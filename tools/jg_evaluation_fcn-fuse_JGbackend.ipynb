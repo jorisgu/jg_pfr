{
 "cells": [
  {
   "cell_type": "markdown",
   "metadata": {},
   "source": [
    "confusion matrix :\n",
    "    http://gcucurull.github.io/caffe/python/deep-learning/2016/06/29/caffe-confusion-matrix/\n",
    "    https://github.com/gcucurull/caffe-conf-matrix\n",
    "FCN :\n",
    "    score :\n",
    "        https://github.com/shelhamer/fcn.berkeleyvision.org/blob/master/score.py\n",
    "    infer :\n",
    "        https://github.com/shelhamer/fcn.berkeleyvision.org/blob/master/infer.py"
   ]
  },
  {
   "cell_type": "code",
   "execution_count": 1,
   "metadata": {
    "collapsed": true
   },
   "outputs": [],
   "source": [
    "from __future__ import division\n",
    "from __future__ import print_function\n",
    "import caffe\n",
    "import numpy as np\n",
    "import os\n",
    "import sys\n",
    "from datetime import datetime\n",
    "from PIL import Image\n",
    "from IPython.display import Image\n",
    "from IPython.display import clear_output\n",
    "import time\n",
    "import _init_paths"
   ]
  },
  {
   "cell_type": "code",
   "execution_count": 2,
   "metadata": {
    "collapsed": false
   },
   "outputs": [],
   "source": [
    "def log_progress(sequence, title='', every=1, size=None, end_msg='', removeAtTheEnd=False):\n",
    "    from ipywidgets import IntProgress, HTML, VBox\n",
    "    from IPython.display import display\n",
    "\n",
    "    is_iterator = False\n",
    "    if size is None:\n",
    "        try:\n",
    "            size = len(sequence)\n",
    "        except TypeError:\n",
    "            is_iterator = True\n",
    "    if size is not None:\n",
    "        if every is None:\n",
    "            if size <= 200:\n",
    "                every = 1\n",
    "            else:\n",
    "                every = int(size / 200)     # every 0.5%\n",
    "    else:\n",
    "        assert every is not None, 'sequence is iterator, set every'\n",
    "\n",
    "    if is_iterator:\n",
    "        progress = IntProgress(min=0, max=1, value=1)\n",
    "        progress.bar_style = 'info'\n",
    "    else:\n",
    "        progress = IntProgress(min=0, max=size, value=0)\n",
    "    label = HTML()\n",
    "    box = VBox(children=[label, progress])\n",
    "    display(box)\n",
    "\n",
    "    index = 0\n",
    "    try:\n",
    "        for index, record in enumerate(sequence, 1):\n",
    "            if index == 1 or index % every == 0:\n",
    "                if is_iterator:\n",
    "                    label.value = '{index} / ?'.format(index=index)\n",
    "                else:\n",
    "                    progress.value = index\n",
    "                    if isinstance(sequence, dict):\n",
    "                        val = ''\n",
    "                    else:\n",
    "                        val=sequence[index-1]\n",
    "                            \n",
    "                    label.value = u'{title} : {value} ({index} / {size})'.format(\n",
    "                        title=title,\n",
    "                        value=val,\n",
    "                        index=index,\n",
    "                        size=size\n",
    "                    )\n",
    "            yield record\n",
    "    except:\n",
    "        progress.bar_style = 'danger'\n",
    "        raise\n",
    "    else:\n",
    "        progress.bar_style = 'success'\n",
    "        progress.value = index\n",
    "        label.value = end_msg\n",
    "        if removeAtTheEnd:\n",
    "            box.close()\n",
    "    "
   ]
  },
  {
   "cell_type": "code",
   "execution_count": 3,
   "metadata": {
    "collapsed": true
   },
   "outputs": [],
   "source": [
    "def fast_hist(a, b, n):\n",
    "    k = (a >= 0) & (a < n)\n",
    "    return np.bincount(n * a[k].astype(int) + b[k], minlength=n**2).reshape(n, n)"
   ]
  },
  {
   "cell_type": "code",
   "execution_count": 4,
   "metadata": {
    "collapsed": true
   },
   "outputs": [],
   "source": [
    "def evaluate(results):\n",
    "    \n",
    "    hist_cumul = 0*results[0]\n",
    "    for hist in results:\n",
    "        hist_cumul+=hist\n",
    "    result = {}\n",
    "    \n",
    "\n",
    "    acc = np.diag(hist_cumul).sum() / hist_cumul.sum()\n",
    "    # per-class accuracy\n",
    "    pc_acc = np.diag(hist_cumul) / hist_cumul.sum(1)\n",
    "    mean_accuracy= np.nanmean(pc_acc)\n",
    "    # per-class IU\n",
    "    iu = np.diag(hist_cumul) / (hist_cumul.sum(1) + hist_cumul.sum(0) - np.diag(hist_cumul))\n",
    "    mean_iu= np.nanmean(iu)\n",
    "    freq = hist_cumul.sum(1) / hist_cumul.sum()\n",
    "    freq_weighted_iu=(freq[freq > 0] * iu[freq > 0]).sum()\n",
    "    \n",
    "    print(\"Accuracy :\",acc)\n",
    "    print(\"per-class accuracy :\",mean_accuracy)\n",
    "    print(\"per-class IU :\",mean_iu)\n",
    "    print(\"per-class IU (frequency weighted) :\",freq_weighted_iu)\n",
    "    \n",
    "    return acc"
   ]
  },
  {
   "cell_type": "code",
   "execution_count": 5,
   "metadata": {
    "collapsed": false
   },
   "outputs": [],
   "source": [
    "ICIPmodels = '/home/jogue/workspace/ICIPmodels/'\n",
    "prototxt_path = ICIPmodels+'fuse_test_JGbackend.prototxt'\n",
    "caffe_gpu = True\n",
    "if not caffe_gpu:\n",
    "    caffe.set_mode_cpu()\n",
    "else:\n",
    "    caffe.set_mode_gpu()\n",
    "    caffe.set_device(0);"
   ]
  },
  {
   "cell_type": "code",
   "execution_count": 6,
   "metadata": {
    "collapsed": false,
    "scrolled": false
   },
   "outputs": [
    {
     "name": "stdout",
     "output_type": "stream",
     "text": [
      "Number of image : 654\n",
      "Separated in 37 classes : {'toilet': 32, 'whiteboard': 29, 'wall': 0, 'night_stand': 31, 'books': 22, 'mirror': 18, 'table': 6, 'chair': 4, 'floor': 1, 'tv': 24, 'lamp': 34, 'window': 8, 'curtain': 15, 'blinds': 12, 'dresser': 16, 'picture': 10, 'ceiling': 21, 'door': 7, 'shower_curtain': 27, 'fridge': 23, 'cabinet': 2, 'sink': 33, 'desk': 13, 'bookshelf': 9, 'towel': 26, 'box': 28, 'floor_mat': 19, 'shelves': 14, 'sofa': 5, 'counter': 11, 'bed': 3, 'person': 30, 'paper': 25, 'bag': 36, 'bathtub': 35, 'pillow': 17, 'clothes': 20}\n"
     ]
    }
   ],
   "source": [
    "net = caffe.Net(prototxt_path, caffe.TEST)\n",
    "#net = caffe.Net(prototxt_path,weights_path , caffe.TEST)"
   ]
  },
  {
   "cell_type": "markdown",
   "metadata": {},
   "source": [
    "#### Updating with new params"
   ]
  },
  {
   "cell_type": "code",
   "execution_count": 7,
   "metadata": {
    "collapsed": false
   },
   "outputs": [],
   "source": [
    "Cases = {}\n",
    "\n",
    "Cases['RGB10-100_DHA']={}\n",
    "Cases['RGB10-100_DHA']['weights'] = '/home/jogue/workspace/ICIPmodels/weights/fuse_weights_RGB10-100_DHA.caffemodel'\n",
    "#Cases['RGB10-100_DHA']['dataset'] = '/home/jogue/workspace/datasets/SUNRGBD_pv/data/rgb_i_100_8bits/'\n",
    "Cases['RGB10-100_DHA']['dataset_'] = '/home/jogue/workspace/datasets/SUNRGBD_pv/data/d_raw_DHA_8bits/'\n"
   ]
  },
  {
   "cell_type": "code",
   "execution_count": 15,
   "metadata": {
    "collapsed": false
   },
   "outputs": [
    {
     "name": "stdout",
     "output_type": "stream",
     "text": [
      "###############################################################\n",
      "NEW TESTING : model RGB10-100_DHA\n",
      "New epoch [total epoch : 1 ].\n",
      "data0\n",
      "Accuracy : 0.657902757314\n",
      "per-class accuracy : 0.487240939238\n",
      "per-class IU : 0.345153866385\n",
      "per-class IU (frequency weighted) : 0.506962673916\n",
      "data1\n",
      "Accuracy : 0.641757863105\n",
      "per-class accuracy : 0.437444668964\n",
      "per-class IU : 0.313187765158\n",
      "per-class IU (frequency weighted) : 0.497565146859\n",
      "sum\n",
      "Accuracy : 0.717755641661\n",
      "per-class accuracy : 0.51960091874\n",
      "per-class IU : 0.395934274738\n",
      "per-class IU (frequency weighted) : 0.571956708378\n",
      "Concat\n",
      "Accuracy : 0.271811325734\n",
      "per-class accuracy : 0.03125\n",
      "per-class IU : 0.00849410392919\n",
      "per-class IU (frequency weighted) : 0.0738813967973\n",
      "RC\n",
      "Accuracy : 0.596484196911\n",
      "per-class accuracy : 0.378259417915\n",
      "per-class IU : 0.233403661511\n",
      "per-class IU (frequency weighted) : 0.461003310972\n",
      "###############################################################\n",
      "NEW TESTING : model RGB10-100_DHA\n"
     ]
    },
    {
     "name": "stderr",
     "output_type": "stream",
     "text": [
      "/home/jogue/soft/anaconda2/envs/jg_pfr/lib/python2.7/site-packages/ipykernel/__main__.py:11: RuntimeWarning: invalid value encountered in true_divide\n",
      "/home/jogue/soft/anaconda2/envs/jg_pfr/lib/python2.7/site-packages/ipykernel/__main__.py:14: RuntimeWarning: invalid value encountered in true_divide\n"
     ]
    },
    {
     "name": "stdout",
     "output_type": "stream",
     "text": [
      "New epoch [total epoch : 1 ].\n",
      "data0\n",
      "Accuracy : 0.617417160692\n",
      "per-class accuracy : 0.432515005087\n",
      "per-class IU : 0.307402318943\n",
      "per-class IU (frequency weighted) : 0.46110970653\n",
      "data1\n",
      "Accuracy : 0.641757863105\n",
      "per-class accuracy : 0.437444668964\n",
      "per-class IU : 0.313187765158\n",
      "per-class IU (frequency weighted) : 0.497565146859\n",
      "sum\n",
      "Accuracy : 0.706240531431\n",
      "per-class accuracy : 0.495900619403\n",
      "per-class IU : 0.379898607517\n",
      "per-class IU (frequency weighted) : 0.557806748454\n",
      "Concat\n",
      "Accuracy : 0.271811325734\n",
      "per-class accuracy : 0.03125\n",
      "per-class IU : 0.00849410392919\n",
      "per-class IU (frequency weighted) : 0.0738813967973\n",
      "RC\n",
      "Accuracy : 0.57917515294\n",
      "per-class accuracy : 0.356855706756\n",
      "per-class IU : 0.220930134739\n",
      "per-class IU (frequency weighted) : 0.44511456137\n",
      "###############################################################\n",
      "NEW TESTING : model RGB10-100_DHA\n",
      "New epoch [total epoch : 1 ].\n",
      "data0\n",
      "Accuracy : 0.57054357676\n",
      "per-class accuracy : 0.353966699071\n",
      "per-class IU : 0.250355123629\n",
      "per-class IU (frequency weighted) : 0.406285010696\n",
      "data1\n",
      "Accuracy : 0.641757863105\n",
      "per-class accuracy : 0.437444668964\n",
      "per-class IU : 0.313187765158\n",
      "per-class IU (frequency weighted) : 0.497565146859\n",
      "sum\n",
      "Accuracy : 0.693019263205\n",
      "per-class accuracy : 0.465539927398\n",
      "per-class IU : 0.358176110389\n",
      "per-class IU (frequency weighted) : 0.540079904011\n",
      "Concat\n",
      "Accuracy : 0.271811325734\n",
      "per-class accuracy : 0.03125\n",
      "per-class IU : 0.00849410392919\n",
      "per-class IU (frequency weighted) : 0.0738813967973\n",
      "RC\n",
      "Accuracy : 0.565963241748\n",
      "per-class accuracy : 0.333815359675\n",
      "per-class IU : 0.211594399209\n",
      "per-class IU (frequency weighted) : 0.430335816466\n",
      "###############################################################\n",
      "NEW TESTING : model RGB10-100_DHA\n",
      "New epoch [total epoch : 1 ].\n",
      "data0\n",
      "Accuracy : 0.530140524341\n",
      "per-class accuracy : 0.278811547172\n",
      "per-class IU : 0.193359275728\n",
      "per-class IU (frequency weighted) : 0.359556874711\n",
      "data1\n",
      "Accuracy : 0.641757863105\n",
      "per-class accuracy : 0.437444668964\n",
      "per-class IU : 0.313187765158\n",
      "per-class IU (frequency weighted) : 0.497565146859\n",
      "sum\n",
      "Accuracy : 0.683206391133\n",
      "per-class accuracy : 0.440577444384\n",
      "per-class IU : 0.339891225163\n",
      "per-class IU (frequency weighted) : 0.526465776692\n",
      "Concat\n",
      "Accuracy : 0.271811325734\n",
      "per-class accuracy : 0.03125\n",
      "per-class IU : 0.00849410392919\n",
      "per-class IU (frequency weighted) : 0.0738813967973\n",
      "RC\n",
      "Accuracy : 0.554857961127\n",
      "per-class accuracy : 0.314536318246\n",
      "per-class IU : 0.199371786886\n",
      "per-class IU (frequency weighted) : 0.418188618221\n"
     ]
    }
   ],
   "source": [
    "for case in log_progress(Cases.keys(),title='Model', end_msg='Finished !'): \n",
    "        weights_path = Cases[case]['weights']\n",
    "        net.copy_from(weights_path)\n",
    "        for luminosity_datatest in log_progress(range(80,0,-20), title='Luminosity dataset', removeAtTheEnd=True):\n",
    "            newParams = {}\n",
    "            newParams['images_folder']= '/home/jogue/workspace/datasets/SUNRGBD_pv/data/rgb_i_'+str(luminosity_datatest)+'_8bits/'\n",
    "            newParams['images_folder_']= Cases[case]['dataset_']\n",
    "            newParams['iter_counter']=0\n",
    "            newParams['countEpoch']=0\n",
    "            net.layers[0].update(newParams)\n",
    "\n",
    "\n",
    "            resultsConcat = []\n",
    "            resultsRC = []\n",
    "            resultsSum = []\n",
    "            resultsData0 = []\n",
    "            resultsData1 = []\n",
    "\n",
    "            lossesConcat = []\n",
    "            lossesRC = []\n",
    "            lossesSum = []\n",
    "            lossesData0 = []\n",
    "            lossesData1 = []\n",
    "\n",
    "            n_cl = net.blobs['final_score_rc'].channels\n",
    "            hist = np.zeros((n_cl, n_cl))\n",
    "            loss = 0\n",
    "            print(\"###############################################################\")\n",
    "            print(\"NEW TESTING : model\",case)\n",
    "            #for idx in log_progress(range(net.layers[0].nb_images), title='iteration', end_msg=str(i),removeAtTheEnd=True):\n",
    "            for idx in log_progress(range(net.layers[0].nb_images), title='iteration', removeAtTheEnd=True):\n",
    "                net.forward()\n",
    "\n",
    "                final_score_rc = net.blobs['final_score_rc'].data[0].argmax(0)\n",
    "                final_score_concat = net.blobs['final_score_concat'].data[0].argmax(0)\n",
    "                final_score_sum = net.blobs['final_score_sum'].data[0].argmax(0)\n",
    "                score_data1 = net.blobs['score_data1'].data[0].argmax(0)\n",
    "                score_data0 = net.blobs['score_data0'].data[0].argmax(0)\n",
    "\n",
    "\n",
    "                gt_map = net.blobs['label'].data[0, 0]\n",
    "                histfinal_score_rc = fast_hist(gt_map.flatten(),final_score_rc.flatten(),n_cl)\n",
    "                histfinal_score_concat = fast_hist(gt_map.flatten(),final_score_concat.flatten(),n_cl)\n",
    "                histfinal_score_sum = fast_hist(gt_map.flatten(),final_score_sum.flatten(),n_cl)\n",
    "                histscore_data1 = fast_hist(gt_map.flatten(),score_data1.flatten(),n_cl)\n",
    "                histscore_data0 = fast_hist(gt_map.flatten(),score_data0.flatten(),n_cl)\n",
    "                # compute the loss as well\n",
    "\n",
    "                loss_data0 = net.blobs['loss_data0'].data.flat[0]\n",
    "                loss_data1 = net.blobs['loss_data1'].data.flat[0]\n",
    "                loss_sum = net.blobs['loss_sum'].data.flat[0]\n",
    "                loss_concat = net.blobs['loss_concat'].data.flat[0]\n",
    "                loss_rc = net.blobs['loss_rc'].data.flat[0]\n",
    "\n",
    "                resultsConcat.append(histfinal_score_concat)\n",
    "                resultsRC.append(histfinal_score_rc)\n",
    "                resultsSum.append(histfinal_score_sum)\n",
    "                resultsData0.append(histscore_data0)\n",
    "                resultsData1.append(histscore_data1)\n",
    "\n",
    "                lossesConcat.append(loss_concat)\n",
    "                lossesRC.append(loss_rc)\n",
    "                lossesSum.append(loss_sum)\n",
    "                lossesData0.append(loss_data0)\n",
    "                lossesData1.append(loss_data1)\n",
    "\n",
    "            print('data0')\n",
    "            evaluate(resultsData0)\n",
    "            print('data1')\n",
    "            evaluate(resultsData1)\n",
    "            print('sum')\n",
    "            evaluate(resultsSum)\n",
    "            print('Concat')\n",
    "            evaluate(resultsConcat)\n",
    "            print('RC')\n",
    "            evaluate(resultsRC)"
   ]
  },
  {
   "cell_type": "code",
   "execution_count": null,
   "metadata": {
    "collapsed": true
   },
   "outputs": [],
   "source": []
  }
 ],
 "metadata": {
  "anaconda-cloud": {},
  "celltoolbar": "Raw Cell Format",
  "kernelspec": {
   "display_name": "Python [conda env:jg_pfr]",
   "language": "python",
   "name": "conda-env-jg_pfr-py"
  },
  "language_info": {
   "codemirror_mode": {
    "name": "ipython",
    "version": 2
   },
   "file_extension": ".py",
   "mimetype": "text/x-python",
   "name": "python",
   "nbconvert_exporter": "python",
   "pygments_lexer": "ipython2",
   "version": "2.7.13"
  },
  "widgets": {
   "state": {
    "b0fcfde22b9d431baa081aea6598756f": {
     "views": [
      {
       "cell_index": 9
      }
     ]
    }
   },
   "version": "1.2.0"
  }
 },
 "nbformat": 4,
 "nbformat_minor": 1
}
